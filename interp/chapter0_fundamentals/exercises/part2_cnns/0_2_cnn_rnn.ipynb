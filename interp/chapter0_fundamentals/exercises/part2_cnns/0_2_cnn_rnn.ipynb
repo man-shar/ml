{
 "cells": [
  {
   "cell_type": "markdown",
   "metadata": {
    "id": "PVsn9JeJLjC3"
   },
   "source": [
    "# [0.2] - CNNs & ResNets\n"
   ]
  },
  {
   "cell_type": "markdown",
   "metadata": {
    "id": "E482P_ATLk-w"
   },
   "source": [
    "Colab: [exercises](https://colab.research.google.com/drive/1sZpsnjN7gI4EucRcD0mCafN5Vg1DPOnm) | [solutions](https://colab.research.google.com/drive/1LDv8fB47OPKPp4C83CO_gTzaUE2bR-Ve)\n",
    "\n",
    "ARENA 3.0 [Streamlit page](https://arena3-chapter0-fundamentals.streamlit.app/[0.2]_CNNs_&_ResNets)\n",
    "\n",
    "Please send any problems / bugs on the `#errata` channel in the [Slack group](https://join.slack.com/t/arena-uk/shared_invite/zt-2noug8mpy-TRYbCnc3pzj7ITNrZIjKww), and ask any questions on the dedicated channels for this chapter of material.\n",
    "\n",
    "To view solutions for the exercises, see the Colab solutions page or the Streamlit page.\n"
   ]
  },
  {
   "cell_type": "markdown",
   "metadata": {
    "id": "ST7GZ0xkxW6j"
   },
   "source": [
    "<img src=\"https://raw.githubusercontent.com/callummcdougall/Fundamentals/main/images/cnn.png\" width=\"350\">\n"
   ]
  },
  {
   "cell_type": "markdown",
   "metadata": {
    "id": "jd3LpCav3UXu"
   },
   "source": [
    "# Introduction\n"
   ]
  },
  {
   "cell_type": "markdown",
   "metadata": {
    "id": "yyh3U2Q_sG9y"
   },
   "source": [
    "This section is designed to get you familiar with basic neural networks: how they are structured, the basic operations like linear layers and convolutions which go into making them, and why they work as well as they do. You'll start by making very simple neural networks, and by the end of today you'll build up to assembling ResNet34, a comparatively much more complicated architecture.\n"
   ]
  },
  {
   "cell_type": "markdown",
   "metadata": {
    "id": "pCGJzuxZsG9y"
   },
   "source": [
    "## Content & Learning Objectives\n"
   ]
  },
  {
   "cell_type": "markdown",
   "metadata": {
    "id": "DJVhlvPlsG9y"
   },
   "source": [
    "### 1️⃣ Making your own modules\n",
    "\n",
    "In the first set of exercises, we'll cover the general structure of modules in PyTorch. You'll also implement your own basic modules, including for ReLU and Linear layers. You'll finish by assembling a very simple neural network.\n",
    "\n",
    "> ##### Learning objectives\n",
    ">\n",
    "> - Learn how to create your own modules in PyTorch, by inheriting from `nn.Module`\n",
    "> - Assemble the pieces together to create a simple fully-connected network, to classify MNIST digits\n",
    "\n",
    "### 2️⃣ Training Neural Networks\n",
    "\n",
    "Here, you'll learn how to write a training loop in PyTorch. We'll keep it simple for today (and later on we'll experiment with more modular and extensible designs).\n",
    "\n",
    "> ##### Learning objectives\n",
    ">\n",
    "> - Understand how to work with transforms, datasets and dataloaders\n",
    "> - Understand the basic structure of a training loop\n",
    "> - Learn how to write your own validation loop\n",
    "\n",
    "### 3️⃣ Convolutions\n",
    "\n",
    "In this section, you'll read about convolutions, and implement them as an `nn.Module` (not from scratch; we leave that to the bonus exercises). You'll also learn about maxpooling, and implement that as well.\n",
    "\n",
    "> ##### Learning Objectives\n",
    ">\n",
    "> - Learn how convolutions work, and why they are useful for vision models\n",
    "> - Implement your own convolutions, and maxpooling layers\n",
    "\n",
    "### 4️⃣ ResNets\n",
    "\n",
    "Here, you'll combine all the pieces you've learned so far to assemble ResNet34, a much more complex architecture used for image classification.\n",
    "\n",
    "> ##### Learning Objectives\n",
    ">\n",
    "> - Learn about skip connections, and how they help overcome the degradation problem\n",
    "> - Learn about batch normalization, and why it is used in training\n",
    "> - Assemble your own ResNet, and load in weights from PyTorch's ResNet implementation\n",
    "\n",
    "### 5️⃣ Bonus - Convolutions From Scratch\n",
    "\n",
    "This section takes you through the low-level details of how to actually implement convolutions. It's not necessary to understand this section to complete the exercises, but it's a good way to get a deeper understanding of how convolutions work.\n",
    "\n",
    "> ##### Learning objectives\n",
    ">\n",
    "> - Understand how array strides work, and why they're important for efficient linear operations\n",
    "> - Learn how to use `as_strided` to perform simple linear operations like trace and matrix multiplication\n",
    "> - Implement your own convolutions and maxpooling functions using stride-based methods\n",
    "\n",
    "### 6️⃣ Bonus - Feature Extraction\n",
    "\n",
    "In this section, you'll learn how to repurpose your ResNet to perform a different task than it was designed for, using feature extraction.\n",
    "\n",
    "> ##### Learning Objectives\n",
    ">\n",
    "> - Understand the difference between feature extraction and finetuning\n",
    "> - Perform feature extraction on a pre-trained ResNet\n"
   ]
  },
  {
   "cell_type": "markdown",
   "metadata": {
    "id": "XcgAnZZOyBYk"
   },
   "source": [
    "## Setup (don't read, just run!)\n"
   ]
  },
  {
   "cell_type": "code",
   "execution_count": 45,
   "metadata": {
    "id": "7yYsYe32yl9U"
   },
   "outputs": [],
   "source": [
    "\n",
    "# Install packages\n",
    "%pip install einops\n",
    "%pip install jaxtyping\n",
    "\n",
    "\n",
    "# Code to download the necessary files (e.g. solutions, test funcs)\n",
    "import os, sys\n",
    "if not os.path.exists(\"chapter0_fundamentals\"):\n",
    "    !wget https://github.com/callummcdougall/ARENA_3.0/archive/refs/heads/main.zip\n",
    "    !unzip ./main.zip 'ARENA_3.0-main/chapter0_fundamentals/exercises/*'\n",
    "    os.remove(\"./main.zip\")\n",
    "    os.rename(\"ARENA_3.0-main/chapter0_fundamentals\", \"chapter0_fundamentals\")\n",
    "    os.rmdir(\"ARENA_3.0-main\")\n",
    "    sys.path.insert(0, \"chapter0_fundamentals/exercises\")\n",
    "\n",
    "# Clear output\n",
    "from IPython.display import clear_output\n",
    "clear_output()\n",
    "print(\"Imports & installations complete!\")\n"
   ]
  },
  {
   "cell_type": "code",
   "execution_count": 163,
   "metadata": {
    "id": "DRQ9j4ftyHXf"
   },
   "outputs": [],
   "source": [
    "import functools\n",
    "import json\n",
    "import sys\n",
    "from dataclasses import dataclass\n",
    "from pathlib import Path\n",
    "\n",
    "import einops\n",
    "import numpy as np\n",
    "import torch as t\n",
    "import torch.nn as nn\n",
    "import torch.nn.functional as F\n",
    "from IPython.display import display\n",
    "from jaxtyping import Float, Int\n",
    "from PIL import Image\n",
    "from torch import Tensor\n",
    "from torch.utils.data import DataLoader, Subset\n",
    "from torchvision import datasets, models, transforms\n",
    "from tqdm.notebook import tqdm\n",
    "\n",
    "# Get file paths to this set of exercises\n",
    "chapter = r\"chapter0_fundamentals\"\n",
    "exercises_dir = Path(f\"{os.getcwd().split(chapter)[0]}/{chapter}/exercises\").resolve()\n",
    "section_dir = exercises_dir / \"part2_cnns\"\n",
    "\n",
    "if str(exercises_dir) not in sys.path:\n",
    "    sys.path.append(str(exercises_dir))\n",
    "\n",
    "from plotly_utils import imshow, line, bar, plot_train_loss_and_test_accuracy_from_trainer\n",
    "import part2_cnns.tests as tests\n",
    "from part2_cnns.utils import print_param_count"
   ]
  },
  {
   "cell_type": "markdown",
   "metadata": {
    "id": "hLj6KotcClq7"
   },
   "source": [
    "<details>\n",
    "<summary>Help - I get a NumPy-related error</summary>\n",
    "\n",
    "This is an annoying colab-related issue which I haven't been able to find a satisfying fix for. If you restart runtime (but don't delete runtime), and run just the imports cell above again (but not the `%pip install` cell), the problem should go away.\n",
    "\n",
    "</details>\n"
   ]
  },
  {
   "cell_type": "markdown",
   "metadata": {
    "id": "cmgIafL_7EUG"
   },
   "source": [
    "# 1️⃣ Making your own modules\n"
   ]
  },
  {
   "cell_type": "markdown",
   "metadata": {
    "id": "4zGfJO-U7iD_"
   },
   "source": [
    "> ### Learning objectives\n",
    ">\n",
    "> - Learn how to create your own modules in PyTorch, by inheriting from `nn.Module`\n",
    "> - Assemble the pieces together to create a simple fully-connected network, to classify MNIST digits\n"
   ]
  },
  {
   "cell_type": "markdown",
   "metadata": {
    "id": "PQP9PYkh7jVu"
   },
   "source": [
    "## Subclassing `nn.Module`\n",
    "\n",
    "One of the most basic parts of PyTorch that you will see over and over is the `nn.Module` class. All types of neural net components inherit from it, from the simplest `nn.Relu` to the most complex `nn.Transformer`. Often, a complex `nn.Module` will have sub-`Module`s which implement smaller pieces of its functionality.\n",
    "\n",
    "Other common `Module`s you'll see include\n",
    "\n",
    "- `nn.Linear`, for fully-connected layers with or without a bias\n",
    "- `nn.Conv2d`, for a two-dimensional convolution (we'll see more of these in a future section)\n",
    "- `nn.Softmax`, which implements the [softmax](https://pytorch.org/docs/stable/generated/torch.nn.Softmax.html) function\n",
    "\n",
    "The list goes on, including activation functions, normalizations, pooling, attention, and more. You can see all the `Module`s that PyTorch provides [here](https://pytorch.org/docs/stable/nn.html). You can also create your own `Module`s, as we will do often!\n",
    "\n",
    "The `Module` class provides a lot of functionality, but we'll only cover a little bit of it here.\n",
    "\n",
    "In this section, we'll add another layer of abstraction to all the linear operations we've done in previous sections, by packaging them inside `nn.Module` objects.\n"
   ]
  },
  {
   "cell_type": "markdown",
   "metadata": {
    "id": "5ltogr-l7lUZ"
   },
   "source": [
    "### `__init__` and `forward`\n",
    "\n",
    "A subclass of `nn.Module` usually looks something like this:\n",
    "\n",
    "```python\n",
    "import torch.nn as nn\n",
    "\n",
    "class MyModule(nn.Module):\n",
    "    def __init__(self, arg1, arg2, ...):\n",
    "        super().__init__()\n",
    "        # Initialization code\n",
    "\n",
    "    def forward(self, x: t.Tensor) -> t.Tensor:\n",
    "        # Forward pass code\n",
    "```\n",
    "\n",
    "The initialization sets up attributes that will be used for the life of the `Module`, like its parameters, hyperparameters, or other sub-`Module`s it might need to use. These are usually added to the instance with something like `self.attribute = attr`, where `attr` might be provided as an argument. Some modules are simple enough that they don't need any persistent attributes, and in this case you can skip the `__init__`.\n",
    "\n",
    "The `forward` method is called on each forward pass of the `Module`, possibly using the attributes that were set up in the `__init__`. It should take in the input, do whatever it's supposed to do, and return the result. Subclassing `nn.Module` automatically makes instances of your class callable, so you can do `model(x)` on an input `x` to invoke the `forward` method.\n"
   ]
  },
  {
   "cell_type": "markdown",
   "metadata": {
    "id": "MDDBH7ZW7mn7"
   },
   "source": [
    "### The `nn.Parameter` class\n",
    "\n",
    "A `nn.Parameter` is a special type of `Tensor`. Basically, this is the class that torch has provided for storing the weights and biases of a `Module`. It has some special properties for doing this:\n",
    "\n",
    "- If a `Parameter` is set as an attribute of a `Module`, it will be auto-detected by torch and returned when you call `module.parameters()` (along with all the other `Parameters` associated with the `Module`, or any of the `Module`'s sub-modules!).\n",
    "- This makes it easy to pass all the parameters of a model into an optimizer and update them all at once.\n",
    "\n",
    "When you create a `Module` that has weights or biases, be sure to wrap them in `nn.Parameter` so that torch can detect and update them appropriately:\n",
    "\n",
    "```python\n",
    "class MyModule(nn.Module):\n",
    "    def __init__(self, weights: t.Tensor, biases: t.Tensor):\n",
    "        super().__init__()\n",
    "        self.weights = nn.Parameter(weights) # wrapping a tensor in nn.Parameter\n",
    "        self.biases = nn.Parameter(biases)\n",
    "```\n"
   ]
  },
  {
   "cell_type": "markdown",
   "metadata": {
    "id": "OPe4E7lu7oAB"
   },
   "source": [
    "### Printing information with `extra_repr`\n",
    "\n",
    "Another useful method is called `extra_repr`. This allows you to format the string representation of your `Module` in a way that's more informative than the default. For example, the following:\n",
    "\n",
    "```python\n",
    "class MyModule(nn.Module):\n",
    "    def __init__(self, arg1, arg2, ...):\n",
    "        super().__init__()\n",
    "        # Initialization code\n",
    "\n",
    "    def extra_repr(self) -> str:\n",
    "        return f\"arg1={self.arg1}, arg2={self.arg2}, ...\"\n",
    "```\n",
    "\n",
    "will result in the output `\"MyModule(arg1=arg1, arg2=arg2, ...)\"` when you print an instance of this module. You might want to take this opportunity to print out useful invariant information about the module. The Python built-in function `getattr` might be helpful here (it can be used e.g. as `getattr(self, \"arg1\")`, which returns the same as `self.arg1` would). For simple modules, it's fine not to implement `extra_repr`.\n"
   ]
  },
  {
   "cell_type": "markdown",
   "metadata": {
    "id": "6sHgF6En7o_F"
   },
   "source": [
    "## ReLU\n",
    "\n",
    "The first module you should implement is `ReLU`. This will relatively simple, since it doesn't involve any argument (so we only need to implement `forward`). Make sure you look at the PyTorch documentation page for [ReLU](https://pytorch.org/docs/stable/generated/torch.nn.ReLU.html) so that you're comfortable with what they do and why they're useful in neural networks.\n"
   ]
  },
  {
   "cell_type": "markdown",
   "metadata": {
    "id": "2OSobLjv7qJB"
   },
   "source": [
    "### Exercise - implement `ReLU`\n",
    "\n",
    "```yaml\n",
    "Difficulty: 🔴🔴⚪⚪⚪\n",
    "Importance: 🔵🔵🔵⚪⚪\n",
    "\n",
    "You should spend up to ~10 minutes on this exercise.\n",
    "```\n",
    "\n",
    "You should fill in the `forward` method of the `ReLU` class below.\n"
   ]
  },
  {
   "cell_type": "code",
   "execution_count": 47,
   "metadata": {},
   "outputs": [],
   "source": [
    "x = t.randn((2, 3, 4))\n",
    "x, t.maximum(t.zeros_like(x), x)"
   ]
  },
  {
   "cell_type": "code",
   "execution_count": 48,
   "metadata": {
    "id": "UBk1wLQw7rOG"
   },
   "outputs": [],
   "source": [
    "class ReLU(nn.Module):\n",
    "    def forward(self, x: t.Tensor) -> t.Tensor:\n",
    "        return t.maximum(t.zeros_like(x), x)\n",
    "\n",
    "\n",
    "tests.test_relu(ReLU)"
   ]
  },
  {
   "cell_type": "markdown",
   "metadata": {
    "id": "G2ZE1rrk7uh2"
   },
   "source": [
    "## Linear\n",
    "\n",
    "Now implement your own `Linear` module. This applies a simple linear transformation, with a weight matrix and optional bias vector. The PyTorch documentation page is [here](https://pytorch.org/docs/stable/generated/torch.nn.Linear.html). Note that this is the first `Module` you'll implement that has learnable weights and biases.\n",
    "\n",
    "<details>\n",
    "<summary>Question - what type should these variables be?</summary>\n",
    "\n",
    "They have to be `torch.Tensor` objects wrapped in `nn.Parameter` in order for `nn.Module` to recognize them. If you forget to do this, `module.parameters()` won't include your `Parameter`, which prevents an optimizer from being able to modify it during training.\n",
    "\n",
    "Also, in tomorrow's exercises we'll be building a ResNet and loading in weights from a pretrained model, and this is hard to do if you haven't registered all your parameters!\n",
    "\n",
    "</details>\n",
    "\n",
    "For any layer, initialization is very important for the stability of training: with a bad initialization, your model will take much longer to converge or may completely fail to learn anything. The default PyTorch behavior isn't necessarily optimal and you can often improve performance by using something more custom, but we'll follow it for today because it's simple and works decently well.\n",
    "\n",
    "Each float in the weight and bias tensors are drawn independently from the uniform distribution on the interval:\n",
    "\n",
    "$$\n",
    "\\bigg[-\\frac{1}{\\sqrt{N_{in}}}, \\frac{1}{\\sqrt{N_{in}}}\\bigg]\n",
    "$$\n",
    "\n",
    "where $N_{in}$ is the number of inputs contributing to each output value. The rough intuition for this is that it keeps the variance of the activations at each layer constant, since each one is calculated by taking the sum over $N_{in}$ inputs multiplied by the weights (and standard deviation of the sum of independent random variables scales as the square root of number of variables).\n",
    "\n",
    "The name for this is **Kaiming (uniform) initialisation**.\n",
    "\n",
    "<details>\n",
    "<summary>Technical details (derivation of distribution)</summary>\n",
    "\n",
    "The key intuition behind Kaiming initialisation (and others like it) is that we want the variance of our activations to be the same through all layers of the model when we initialize. Suppose $x$ and $y$ are activations from two adjacent layers, and $w$ are the weights connecting them (so we have $y_i = \\sum_j w_{ij} x_j + b_i$, where $b$ is the bias). With $N_{x}$ as the number of neurons in layer $x$, we have:\n",
    "\n",
    "$$\n",
    "\\begin{aligned}\n",
    "\\operatorname{Var}\\left(y_i\\right)=\\sigma_x^2 & =\\operatorname{Var}\\left(\\sum_j w_{i j} x_j\\right) \\\\\n",
    "& =\\sum_j \\operatorname{Var}\\left(w_{i j} x_j\\right) \\quad \\text { Inputs and weights are independent of each other } \\\\\n",
    "& =\\sum_j \\operatorname{Var}\\left(w_{i j}\\right) \\cdot \\operatorname{Var}\\left(x_j\\right) \\quad \\text { Variance of product of independent RVs with zero mean is product of variances } \\\\\n",
    "& = N_x \\cdot \\sigma_x^2 \\cdot \\operatorname{Var}\\left(w_{i j}\\right) \\quad \\text { Variance equal for all } N_x \\text { neurons, call this value } \\sigma_x^2\n",
    "\\end{aligned}\n",
    "$$\n",
    "\n",
    "For this to be the same as $\\sigma_x^2$, we need $\\operatorname{Var}(w_{ij}) = \\frac{1}{N_x}$, so the standard deviation is $\\frac{1}{\\sqrt{N_x}}$.\n",
    "\n",
    "This is not exactly the case for the Kaiming uniform distribution (which has variance $\\frac{12}{(2 \\sqrt{N_x})^2} = \\frac{3}{N_x}$), and as far as I'm aware there's no principled reason why PyTorch does this. But the most important thing is that the variance scales as $O(1 / N_x)$, rather than what the exact scaling constant is.\n",
    "\n",
    "There are other initializations with some theoretical justification. For instance, **Xavier initialization** has a uniform distribution in the interval:\n",
    "\n",
    "$$\n",
    "\\bigg[-\\frac{\\sqrt{6}}{\\sqrt{N_{in} + N_{out} + 1}}, \\frac{\\sqrt{6}}{\\sqrt{N_{in} + N_{out} + 1}}\\bigg]\n",
    "$$\n",
    "\n",
    "which is motivated by the idea of both keeping the variance of activations constant and keeping the **_gradients_** constant when we backpropagate.\n",
    "\n",
    "However, you don't need to worry about any of this here, just implement Kaiming He uniform with a bound of $\\frac{1}{\\sqrt{N_{in}}}$!\n",
    "\n",
    "</details>\n"
   ]
  },
  {
   "cell_type": "markdown",
   "metadata": {
    "id": "NvmqP-K27wNf"
   },
   "source": [
    "### Exercise - implement `Linear`\n",
    "\n",
    "```yaml\n",
    "Difficulty: 🔴🔴⚪⚪⚪\n",
    "Importance: 🔵🔵🔵🔵⚪\n",
    "\n",
    "You should spend up to ~10 minutes on this exercise.\n",
    "```\n",
    "\n",
    "Remember, you should define the weights (and bias, if appropriate) in the `__init__` block. Also, make sure not to mix up `bias` (which is the boolean parameter to `__init__`) and `self.bias` (which should either be the actual bias tensor, or `None` if `bias` is false).\n"
   ]
  },
  {
   "cell_type": "code",
   "execution_count": 49,
   "metadata": {
    "id": "upr0jDLx7yMh"
   },
   "outputs": [],
   "source": [
    "class Linear(nn.Module):\n",
    "    def __init__(self, in_features: int, out_features: int, bias=True):\n",
    "        \"\"\"\n",
    "        A simple linear (technically, affine) transformation.\n",
    "\n",
    "        The fields should be named `weight` and `bias` for compatibility with PyTorch.\n",
    "        If `bias` is False, set `self.bias` to None.\n",
    "        \"\"\"\n",
    "        super().__init__()\n",
    "        self.weight = nn.Parameter(t.rand((out_features, in_features)))\n",
    "        if bias:\n",
    "            self.bias = nn.Parameter(t.rand(out_features))\n",
    "        else:\n",
    "            self.bias = None\n",
    "\n",
    "    def forward(self, x: t.Tensor) -> t.Tensor:\n",
    "        \"\"\"\n",
    "        x: shape (*, in_features)\n",
    "        Return: shape (*, out_features)\n",
    "        \"\"\"\n",
    "        # out = t.matmul(x, self.weight.transpose(0, 1))\n",
    "        out = einops.einsum(\n",
    "            x,\n",
    "            self.weight,\n",
    "            \"... in_features, out_features in_features -> ... out_features\",\n",
    "        )\n",
    "        if self.bias is not None:\n",
    "            out += self.bias\n",
    "\n",
    "        return out\n",
    "\n",
    "    def extra_repr(self) -> str:\n",
    "        return f\"Linear module with weights: {self.weight.shape} and bias: {self.bias.shape if self.bias is not None else None}\"\n",
    "\n",
    "\n",
    "tests.test_linear_parameters(Linear, bias=False)\n",
    "tests.test_linear_parameters(Linear, bias=True)\n",
    "tests.test_linear_forward(Linear, bias=False)\n",
    "tests.test_linear_forward(Linear, bias=True)"
   ]
  },
  {
   "cell_type": "code",
   "execution_count": null,
   "metadata": {},
   "outputs": [],
   "source": []
  },
  {
   "cell_type": "markdown",
   "metadata": {
    "id": "vk4vqA7I70Cs"
   },
   "source": [
    "<details>\n",
    "<summary>Help - when I print my Linear module, it also prints a large tensor.</summary>\n",
    "\n",
    "This is because you've (correctly) defined `self.bias` as either `torch.Tensor` or `None`, rather than set it to the boolean value of `bias` used in initialisation.\n",
    "\n",
    "To fix this, you will need to change `extra_repr` so that it prints the boolean value of `bias` rather than the value of `self.bias`.\n",
    "\n",
    "</details>\n"
   ]
  },
  {
   "cell_type": "markdown",
   "metadata": {
    "id": "zuICXMve7xYp"
   },
   "source": [
    "## Flatten\n",
    "\n",
    "Lastly, we'll implement `Flatten`. This is a standardised way to rearrange our tensors so that they can be fed into a linear layer. It's a bit like `einops.flatten`, but more specialised (we recommend you use the torch `reshape` method rather than `einops` for this exercise, although it is possible to use einops).\n"
   ]
  },
  {
   "cell_type": "markdown",
   "metadata": {
    "id": "cZ5S4ovC8Zdf"
   },
   "source": []
  },
  {
   "cell_type": "markdown",
   "metadata": {
    "id": "6dGN9rSP8aEw"
   },
   "source": [
    "### Exercise - implement `Flatten`\n",
    "\n",
    "```c\n",
    "Difficulty: 🔴🔴🔴🔴⚪\n",
    "Importance: 🔵🔵🔵⚪⚪\n",
    "\n",
    "You should spend up to 10-15 minutes on this exercise.\n",
    "```\n"
   ]
  },
  {
   "cell_type": "code",
   "execution_count": null,
   "metadata": {},
   "outputs": [],
   "source": []
  },
  {
   "cell_type": "code",
   "execution_count": 50,
   "metadata": {},
   "outputs": [],
   "source": [
    "m = nn.Flatten(1, 2)\n",
    "\n",
    "x = t.randint(100, (2, 3, 4))\n",
    "x, m(x), t.reshape(x, [2, 1, 12])"
   ]
  },
  {
   "cell_type": "code",
   "execution_count": 51,
   "metadata": {
    "id": "FkzI7AfL8cbf"
   },
   "outputs": [],
   "source": [
    "class Flatten(nn.Module):\n",
    "    def __init__(self, start_dim: int = 1, end_dim: int = -1) -> None:\n",
    "        super().__init__()\n",
    "        self.start_dim = start_dim\n",
    "        self.end_dim = end_dim\n",
    "\n",
    "    def forward(self, input: t.Tensor) -> t.Tensor:\n",
    "        \"\"\"\n",
    "        Flatten out dimensions from start_dim to end_dim, inclusive of both.\n",
    "        \"\"\"\n",
    "        dim_sizes = input.shape\n",
    "        dims = len(dim_sizes)\n",
    "        start_idx = self.start_dim if self.start_dim >= 0 else (dims + self.start_dim)\n",
    "        end_idx = self.end_dim if self.end_dim >= 0 else (dims + self.end_dim)\n",
    "\n",
    "        if end_idx < start_idx:\n",
    "            raise RuntimeError(\n",
    "                f\"End cannot be before start. start: {self.start_dim}, end: {self.end_dim}\"\n",
    "            )\n",
    "\n",
    "        if end_idx == start_idx:\n",
    "            return input\n",
    "\n",
    "        # get the sizes from start dim to end dim\n",
    "        new_shape = []\n",
    "        merged_size = 1\n",
    "        for dim_idx in range(0, dims):\n",
    "            if dim_idx >= start_idx and dim_idx <= end_idx:\n",
    "                merged_size *= dim_sizes[dim_idx]\n",
    "                if dim_idx == end_idx:\n",
    "                    new_shape.append(merged_size)\n",
    "            else:\n",
    "                new_shape.append(dim_sizes[dim_idx])\n",
    "\n",
    "        # if still empty, means we probably had 0, -1\n",
    "        if len(new_shape) == 0:\n",
    "            new_shape = [merged_size]\n",
    "\n",
    "        # print(input.shape, self.start_dim, self.end_dim, start_idx, end_idx, merged_size, new_shape)\n",
    "\n",
    "        return t.reshape(input, new_shape)\n",
    "\n",
    "    def extra_repr(self) -> str:\n",
    "        pass\n",
    "\n",
    "\n",
    "tests.test_flatten(Flatten)"
   ]
  },
  {
   "cell_type": "markdown",
   "metadata": {
    "id": "J-Mpbc7R8eQL"
   },
   "source": [
    "<details>\n",
    "<summary>Help - I can't figure out what shape the output should be in Flatten.</summary>\n",
    "\n",
    "If `input.shape = (n0, n1, ..., nk)`, and the `Flatten` module has `start_dim=i, end_dim=j`, then the new shape should be `(n0, n1, ..., ni*...*nj, ..., nk)`. This is because we're **flattening** over the dimensions `(ni, ..., nj)`.\n",
    "\n",
    "</details>\n",
    "\n",
    "<details>\n",
    "<summary>Help - I can't see why my Flatten module is failing the tests.</summary>\n",
    "\n",
    "The most common reason is failing to correctly handle indices. Make sure that:\n",
    "\n",
    "- You're indexing up to **and including** `end_dim`.\n",
    "- You're correctly managing the times when `end_dim` is negative (e.g. if `input` is an nD tensor, and `end_dim=-1`, this should be interpreted as `end_dim=n-1`).\n",
    "</details>\n"
   ]
  },
  {
   "cell_type": "markdown",
   "metadata": {
    "id": "L5Xp60208gg3"
   },
   "source": [
    "## Simple Multi-Layer Perceptron\n",
    "\n",
    "Now, we can put together these two modules to create a neural network. We'll create one of the simplest networks which can be used to separate data that is non-linearly separable: a single linear layer, followed by a nonlinear function (ReLU), followed by another linear layer. This type of architecture (alternating linear layers and nonlinear functions) is often called a **multi-layer perceptron** (MLP).\n",
    "\n",
    "The output of this network will have 10 dimensions, corresponding to the 10 classes of MNIST digits. We can then use the **softmax function** $x_i \\to \\frac{e^{x_i}}{\\sum_i e^{x_i}}$ to turn these values into probabilities. However, it's common practice for the output of a neural network to be the values before we take softmax, rather than after. We call these pre-softmax values the **logits**.\n",
    "\n",
    "<details>\n",
    "<summary>Question - can you see what makes logits non-unique (i.e. why any given set of probabilities might correspond to several different possible sets of logits)?</summary>\n",
    "\n",
    "Logits are **translation invariant**. If you add some constant $c$ to all logits $x_i$, then the new probabilities are:\n",
    "\n",
    "$$\n",
    "p_i' = \\frac{e^{x_i + c}}{\\sum_j e^{x_j + c}} = \\frac{e^{x_i}}{\\sum_j e^{x_j}} = p_i\n",
    "$$\n",
    "\n",
    "in other words, the probabilities don't change.\n",
    "\n",
    "We can define **logprobs** as the log of the probabilities, i.e. $y_i = \\log p_i$. Unlike logits, these are uniquely defined.\n",
    "\n",
    "</details>\n"
   ]
  },
  {
   "cell_type": "markdown",
   "metadata": {
    "id": "Cy6th9SH8h17"
   },
   "source": [
    "### Exercise - implement the simple MLP\n",
    "\n",
    "```yaml\n",
    "Difficulty: 🔴🔴🔴⚪⚪\n",
    "Importance: 🔵🔵🔵🔵⚪\n",
    "\n",
    "You should spend up to ~20 minutes on this exercise.\n",
    "```\n",
    "\n",
    "The diagram below shows what your MLP should look like:\n",
    "\n",
    "<img src=\"https://raw.githubusercontent.com/callummcdougall/computational-thread-art/master/example_images/misc/mlp-mermaid.svg\" width=\"170\">\n",
    "\n",
    "Please ask a TA (or message the Slack group) if any part of this diagram is unclear.\n"
   ]
  },
  {
   "cell_type": "code",
   "execution_count": 52,
   "metadata": {
    "id": "ddCsPsay8kVu"
   },
   "outputs": [],
   "source": [
    "class SimpleMLP(nn.Module):\n",
    "    def __init__(self, debug=False):\n",
    "        super().__init__()\n",
    "        self.flatten = Flatten()\n",
    "        self.linear1 = Linear(28**2, 100)\n",
    "        self.relu = ReLU()\n",
    "        self.linear2 = Linear(100, 10)\n",
    "        self.debug = debug\n",
    "\n",
    "    def forward(self, x: t.Tensor) -> t.Tensor:\n",
    "\n",
    "        if self.debug:\n",
    "            print(f\"Initial shape: {x.shape}\")\n",
    "        hidden_states = self.flatten(x)\n",
    "\n",
    "        if self.debug:\n",
    "            print(f\"After flatten shape: {hidden_states.shape}\")\n",
    "        hidden_states = self.linear1(hidden_states)\n",
    "\n",
    "        if self.debug:\n",
    "            print(f\"After linear1 val: {hidden_states}\")\n",
    "        hidden_states = self.relu(hidden_states)\n",
    "\n",
    "        if self.debug:\n",
    "            print(f\"After relu val: {hidden_states}\")\n",
    "        hidden_states = self.linear2(hidden_states)\n",
    "\n",
    "        if self.debug:\n",
    "            print(f\"After linear2 vals: {hidden_states}\")\n",
    "\n",
    "        return hidden_states\n",
    "\n",
    "\n",
    "tests.test_mlp_module(SimpleMLP)\n",
    "tests.test_mlp_forward(SimpleMLP)"
   ]
  },
  {
   "cell_type": "code",
   "execution_count": null,
   "metadata": {},
   "outputs": [],
   "source": []
  },
  {
   "cell_type": "code",
   "execution_count": null,
   "metadata": {},
   "outputs": [],
   "source": []
  },
  {
   "cell_type": "markdown",
   "metadata": {
    "id": "udDZbwye-EeL"
   },
   "source": [
    "In the next section, we'll learn how to train and evaluate our model on real data.\n"
   ]
  },
  {
   "cell_type": "markdown",
   "metadata": {
    "id": "59YGDI3p7FdX"
   },
   "source": [
    "# 2️⃣ Training Neural Networks\n"
   ]
  },
  {
   "cell_type": "markdown",
   "metadata": {
    "id": "Ui6zDqfl-GUh"
   },
   "source": [
    "## Transforms, Datasets & DataLoaders\n",
    "\n",
    "Before we use this model to make any predictions, we first need to think about our input data. Below is a block of code to fetch and process MNIST data. We will go through it line by line.\n"
   ]
  },
  {
   "cell_type": "code",
   "execution_count": 53,
   "metadata": {
    "id": "F48W9yU6E2Ms"
   },
   "outputs": [],
   "source": [
    "MNIST_TRANSFORM = transforms.Compose(\n",
    "    [transforms.ToTensor(), transforms.Normalize((0.1307,), (0.3081,))]\n",
    ")\n",
    "\n",
    "\n",
    "def get_mnist(subset: int = 1):\n",
    "    \"\"\"Returns MNIST training data, sampled by the frequency given in `subset`.\"\"\"\n",
    "    mnist_trainset = datasets.MNIST(\n",
    "        root=\"./data\", train=True, download=True, transform=MNIST_TRANSFORM\n",
    "    )\n",
    "    mnist_testset = datasets.MNIST(\n",
    "        root=\"./data\", train=False, download=True, transform=MNIST_TRANSFORM\n",
    "    )\n",
    "\n",
    "    if subset > 1:\n",
    "        mnist_trainset = Subset(\n",
    "            mnist_trainset, indices=range(0, len(mnist_trainset), subset)\n",
    "        )\n",
    "        mnist_testset = Subset(\n",
    "            mnist_testset, indices=range(0, len(mnist_testset), subset)\n",
    "        )\n",
    "\n",
    "    return mnist_trainset, mnist_testset"
   ]
  },
  {
   "cell_type": "code",
   "execution_count": null,
   "metadata": {},
   "outputs": [],
   "source": []
  },
  {
   "cell_type": "markdown",
   "metadata": {
    "id": "LZnIpdLuE3_8"
   },
   "source": [
    "The `torchvision` package consists of popular datasets, model architectures, and common image transformations for computer vision. `transforms` is a library from `torchvision` which provides access to a suite of functions for preprocessing data.\n",
    "\n",
    "We define a transform for the MNIST data (which is applied to each image in the dataset) by composing `ToTensor` (which converts a `PIL.Image` object into a PyTorch tensor) and `Normalize` (which takes arguments for the mean and standard deviation, and performs the linear transformation `x -> (x - mean) / std`).\n"
   ]
  },
  {
   "cell_type": "markdown",
   "metadata": {
    "id": "r11WFh4Q-WCa"
   },
   "source": [
    "Next, we define our datasets, using the `torchvision.datasets` library. The argument `root=\"./data\"` indicates that we're storing our data in the `./data` directory, and `transform=MNIST_TRANSFORM` tells us that we should apply our previously defined `transform` to each element in our dataset.\n",
    "\n",
    "The `Subset` function allows us to take a subset of a dataset. The argument `indices` is a list of indices to sample from the dataset. For example, `Subset(mnist_trainset, indices=[0, 1, 2])` will return a dataset containing only the first three elements of `mnist_trainset`.\n"
   ]
  },
  {
   "cell_type": "markdown",
   "metadata": {
    "id": "HcjIPO6H-X42"
   },
   "source": [
    "Finally, `DataLoader` provides a useful abstraction to work with a dataset. It takes in a dataset, and a few arguments including `batch_size` (how many inputs to feed through the model on which to compute the loss before each step of gradient descent) and `shuffle` (whether to randomise the order each time you iterate). The object that it returns can be iterated through as follows:\n",
    "\n",
    "```python\n",
    "for X, y in mnist_trainloader:\n",
    "    ...\n",
    "```\n",
    "\n",
    "where `X` is a 3D array of shape `(batch_size, 28, 28)` where each slice is an image, and `y` is a 1D tensor of labels of length `batch_size`. Without using this helpful object, we'd have to iterate through our dataset as follows:\n",
    "\n",
    "```python\n",
    "for i in range(len(mnist_trainset) // batch_size):\n",
    "\n",
    "    X = mnist_trainset.data[i*batch_size: (i+1)*batch_size]\n",
    "    y = mnist_trainset.targets[i*batch_size: (i+1)*batch_size]\n",
    "\n",
    "    ...\n",
    "```\n",
    "\n",
    "A note about batch size - it's common to see batch sizes which are powers of two. The motivation is for efficient GPU utilisation, since processor architectures are normally organised around powers of 2, and computational efficiency is often increased by having the items in each batch split across processors. Or at least, that's the idea. The truth is a bit more complicated, and some studies dispute whether it actually saves time. We'll dive much deeper into these kinds of topics during the week on training at scale.\n"
   ]
  },
  {
   "cell_type": "markdown",
   "metadata": {
    "id": "KskQlRbR-Zvd"
   },
   "source": [
    "---\n"
   ]
  },
  {
   "cell_type": "markdown",
   "metadata": {
    "id": "QvY7Y4P2-aVA"
   },
   "source": [
    "Before proceeding, try and answer the following questions:\n",
    "\n",
    "<details>\n",
    "<summary>Question - can you explain why we include a data normalization function in <code>torchvision.transforms</code> ?</summary>\n",
    "\n",
    "One consequence of unnormalized data is that you might find yourself stuck in a very flat region of the domain, and gradient descent may take much longer to converge.\n",
    "\n",
    "Normalization isn't strictly necessary for this reason, because any rescaling of an input vector can be effectively undone by the network learning different weights and biases. But in practice, it does usually help speed up convergence.\n",
    "\n",
    "Normalization also helps avoid numerical issues.\n",
    "\n",
    "</details>\n",
    "\n",
    "<details>\n",
    "<summary>Question - what is the benefit of using <code>shuffle=True</code> when defining our dataloaders? What might the problem be if we didn't do this?</summary>\n",
    "\n",
    "Shuffling is done during the training to make sure we aren't exposing our model to the same cycle (order) of data in every epoch. It is basically done to ensure the model isn't adapting its learning to any kind of spurious pattern.\n",
    "\n",
    "</details>\n"
   ]
  },
  {
   "cell_type": "markdown",
   "metadata": {
    "id": "1fcLlMgX-b2r"
   },
   "source": [
    "---\n"
   ]
  },
  {
   "cell_type": "markdown",
   "metadata": {
    "id": "dt9un-Iu-cea"
   },
   "source": [
    "### Aside - `tqdm`\n",
    "\n",
    "You might have seen some blue progress bars running when you first downloaded your MNIST data. These were generated using a library called `tqdm`, which is also a really useful tool when training models or running any process that takes a long period of time.\n",
    "\n",
    "You can run the cell below to see how these progress bars are used (note that you might need to install the `tqdm` library first).\n"
   ]
  },
  {
   "cell_type": "code",
   "execution_count": 54,
   "metadata": {
    "id": "Lcfb6IvDLNK2"
   },
   "outputs": [],
   "source": [
    "from tqdm.notebook import tqdm\n",
    "import time\n",
    "\n",
    "for i in tqdm(range(100)):\n",
    "    time.sleep(0.01)"
   ]
  },
  {
   "cell_type": "code",
   "execution_count": null,
   "metadata": {},
   "outputs": [],
   "source": []
  },
  {
   "cell_type": "markdown",
   "metadata": {
    "id": "nL-JxP6MLL3A"
   },
   "source": [
    "`tqdm` wraps around a list, range or other iterable, but other than that it doesn't affect the structure of your loop.\n",
    "\n",
    "One gotcha when it comes to `tqdm` - you need to make sure you pass it something with a well-defined length. For instance, if you pass it an `enumerate` or `zip` object, it won't work as expected because it can't infer length from the object. You can fix this problem by wrapping your iterator in a list (e.g. `tqdm(list(zip(...)))`).\n"
   ]
  },
  {
   "cell_type": "markdown",
   "metadata": {
    "id": "a5sbESFg-d2W"
   },
   "source": [
    "### Aside - `device`\n",
    "\n",
    "One last thing to discuss before we move onto training our model: **GPUs**. We'll discuss this in more detail in later exercises. For now, [this page](https://wandb.ai/wandb/common-ml-errors/reports/How-To-Use-GPU-with-PyTorch---VmlldzozMzAxMDk) should provide a basic overview of how to use your GPU. A few things to be aware of here:\n",
    "\n",
    "- The `to` method is really useful here - it can move objects between different devices (i.e. CPU and GPU) _as well as_ changing a tensor's datatype.\n",
    "  - Note that `to` is never inplace for tensors (i.e. you have to call `x = x.to(device)`), but when working with models, calling `model = model.to(device)` or `model.to(device)` are both perfectly valid.\n",
    "- Errors from having one tensor on cpu and another on cuda are very common. Some useful practices to avoid this:\n",
    "  - Throw in assert statements, to make sure tensors are on the same device\n",
    "  - Remember that when you initialise an array (e.g. with `t.zeros` or `t.arange`), it will be on CPU by default.\n",
    "  - Tensor methods like [`new_zeros`](https://pytorch.org/docs/stable/generated/torch.Tensor.new_zeros.html) or [`new_full`](https://pytorch.org/docs/stable/generated/torch.Tensor.new_full.html) are useful, because they'll create tensors which match the device and dtype of the base tensor.\n",
    "\n",
    "It's common practice to put a line like this at the top of your file, defining a global variable which you can use in subsequent modules and functions (excluding the print statement):\n"
   ]
  },
  {
   "cell_type": "code",
   "execution_count": 55,
   "metadata": {
    "id": "_YrSIwthvkSg"
   },
   "outputs": [],
   "source": [
    "device = t.device(\"cuda\" if t.cuda.is_available() else \"cpu\")\n",
    "\n",
    "# Assuming that we are on a CUDA machine, this should print a CUDA device:\n",
    "print(device)"
   ]
  },
  {
   "cell_type": "markdown",
   "metadata": {
    "id": "AGinZFlb-f0h"
   },
   "source": [
    "## Training loop\n",
    "\n",
    "Below is a very simple training loop, which you can run to train your model.\n",
    "\n",
    "In later exercises, we'll try to **modularize** our training loops. This will involve things like creating a `Trainer` class which wraps around our model, and giving it methods like `training_step` and `validation_step` which correspond to different parts of the training loop. This will make it easier to add features like logging and validation, and will also make our code more readable and easier to refactor. However, for now we've kept things simple.\n"
   ]
  },
  {
   "cell_type": "code",
   "execution_count": 56,
   "metadata": {
    "id": "uVpCJprY-hHv"
   },
   "outputs": [],
   "source": [
    "try:\n",
    "    del model\n",
    "except NameError:\n",
    "    pass\n",
    "\n",
    "model = SimpleMLP().to(device)\n",
    "\n",
    "batch_size = 64\n",
    "epochs = 3\n",
    "\n",
    "mnist_trainset, mnist_testset = get_mnist(subset=3)\n",
    "mnist_trainloader = DataLoader(mnist_trainset, batch_size=batch_size, shuffle=True)\n",
    "mnist_testloader = DataLoader(mnist_testset, batch_size=batch_size, shuffle=False)\n",
    "\n",
    "optimizer = t.optim.Adam(model.parameters(), lr=1e-3)\n",
    "loss_list = []\n",
    "\n",
    "for epoch in tqdm(range(epochs)):\n",
    "    for imgs, labels in mnist_trainloader:\n",
    "        imgs = imgs.to(device)\n",
    "        labels = labels.to(device)\n",
    "        logits = model(imgs)\n",
    "        loss = F.cross_entropy(logits, labels)\n",
    "        loss.backward()\n",
    "        optimizer.step()\n",
    "        optimizer.zero_grad()\n",
    "        loss_list.append(loss.item())\n",
    "\n",
    "line(\n",
    "    loss_list,\n",
    "    yaxis_range=[0, max(loss_list) + 0.1],\n",
    "    labels={\"x\": \"Num batches seen\", \"y\": \"Cross entropy loss\"},\n",
    "    title=\"SimpleMLP training on MNIST\",\n",
    "    width=700,\n",
    ")"
   ]
  },
  {
   "cell_type": "markdown",
   "metadata": {
    "id": "e5Uh-HUN-ihe"
   },
   "source": [
    "Let's break down the important parts of this code.\n",
    "\n",
    "The batch size is the number of samples in each batch (i.e. the number of samples we feed into the model at once). While training our model, we differentiate with respect to the average loss over all samples in the batch (so a smaller batch usually means the loss is more noisy). However, if you're working with large models, then often having a batch size too large will result in a memory error. This will be relevant for models later on in the course, but for now we're working with very small models so this isn't an issue.\n",
    "\n",
    "Next, we get our training set, via the helper function `get_mnist`. This helper function used `torchvision.datasets.MNIST` to load in data, and then (optionally) the `torch.utils.data.Subset` function to return a subset of this data. Don't worry about the details of this function, it's not the kind of thing you'll need to know by heart.\n",
    "\n",
    "We then define our optimizer, using `torch.optim.Adam`. The `torch.optim` module gives a wide variety of modules, such as Adam, SGD, and RMSProp. Adam is generally the most popular and seen as the most effective in the majority of cases. We'll discuss optimizers in more detail tomorrow, but for now it's enough to understand that the optimizer calculates the amount to update parameters by (as a function of those parameters' gradients, and sometimes other inputs), and performs this update step. The first argument passed to our optimizer is the parameters of our model (because these are the values that will be updated via gradient descent), and you can also pass keyword arguments to the optimizer which change its behaviour (e.g. the learning rate).\n",
    "\n",
    "Lastly, we have the actual training loop. We iterate through our training data, and for each batch we:\n",
    "\n",
    "1. Evaluate our model on the batch of data, to get the logits for our class predictions,\n",
    "2. Calculate the loss between our logits and the true class labels,\n",
    "3. Backpropagate the loss through our model (this step accumulates gradients in our model parameters),\n",
    "4. Step our optimizer, which is what actually updates the model parameters,\n",
    "5. Zero the gradients of our optimizer, ready for the next step.\n"
   ]
  },
  {
   "cell_type": "markdown",
   "metadata": {
    "id": "Kas4EG9V-kP8"
   },
   "source": [
    "### Cross entropy loss\n",
    "\n",
    "The formula for cross entropy loss over a batch of size $N$ is:\n",
    "\n",
    "$$\n",
    "\\begin{aligned}\n",
    "l &= \\frac{1}{N} \\sum_{n=1}^{N} l_n \\\\\n",
    "l_n &=-\\log p_{n, y_{n}}\n",
    "\\end{aligned}\n",
    "$$\n",
    "\n",
    "where $p_{n, c}$ is the probability the model assigns to class $c$ for sample $n$, and $y_{n}$ is the true label for this sample.\n",
    "\n",
    "<details>\n",
    "<summary>See this dropdown, if you're still confused about this formula, and how this relates to the information-theoretic general formula for cross entropy.</summary>\n",
    "\n",
    "The cross entropy of a distribution $p$ relate to a distribution $q$ is:\n",
    "\n",
    "$$\n",
    "\\begin{aligned}\n",
    "H(q, p) &= -\\sum_{n} q(n) \\log p(n)\n",
    "\\end{aligned}\n",
    "$$\n",
    "\n",
    "In our case, $q$ is the true distribution (i.e. the one-hot encoded labels, which equals one for $n = y_n$, zero otherwise), and $p$ is our model's output. With these subsitutions, this formula becomes equivalent to the formula for $l$ given above.\n",
    "\n",
    "</details>\n",
    "\n",
    "<details>\n",
    "<summary>See this dropdown, if you're confused about how this is the same as the <a href=\"https://pytorch.org/docs/stable/generated/torch.nn.CrossEntropyLoss.html#torch.nn.CrossEntropyLoss\">PyTorch definition</a>.</summary>\n",
    "\n",
    "The PyTorch definition of cross entropy loss is:\n",
    "\n",
    "$$\n",
    "\\ell(x, y)=\\frac{1}{N}\\sum_{n=1}^{N} l_n, \\quad l_n=-\\sum_{c=1}^C w_c \\log \\frac{\\exp \\left(x_{n, c}\\right)}{\\sum_{i=1}^C \\exp \\left(x_{n, i}\\right)} y_{n, c}\n",
    "$$\n",
    "\n",
    "$w_c$ are the weights (which all equal one by default), $p_{n, c} = \\frac{\\exp \\left(x_{n, c}\\right)}{\\sum_{i=1}^C \\exp \\left(x_{n, i}\\right)}$ are the probabilities, and $y_{n, c}$ are the true labels (which are one-hot encoded, i.e. their value is one at the correct label $c$ and zero everywhere else). With this, the formula for $l_n$ reduces to the one we see above (i.e. the mean of the negative log probabilities).\n",
    "\n",
    "</details>\n",
    "\n",
    "The function `torch.functional.cross_entropy` expects the **unnormalized logits** as its first input, rather than probabilities. We get probabilities from logits by applying the softmax function:\n",
    "\n",
    "$$\n",
    "\\begin{aligned}\n",
    "p_{n, c} &= \\frac{\\exp(x_{n, c})}{\\sum_{c'=1}^{C} \\exp(x_{n, c'})}\n",
    "\\end{aligned}\n",
    "$$\n",
    "\n",
    "where $x_{n, c}$ is the model's output for class $c$ and sample $n$, and $C$ is the number of classes (in the case of MNIST, $C = 10$).\n",
    "\n",
    "Some terminology notes:\n",
    "\n",
    "- When we say **logits**, we mean the output of the model before applying softmax. We can uniquely define a distribution with a set of logits, just like we can define a distribution with a set of probabilities (and sometimes it's easier to think of a distribution in terms of logits, as we'll see later in the course).\n",
    "\n",
    "- When we say **unnormalized**, we mean the denominator term $\\sum_{c'} \\exp(x_{n, c'})$ isn't necessarily equal to 1. We can add a constant value onto all the logits which makes this term 1 without changing any of the actual probabilities, then we have the relation $p_{n, c} = \\exp(-l_{n, c})$. Here, we call $-l_{n, c}$ the **log probabilities** (or log probs), since $-l_{n, c} = \\log p_{n, c}$.\n",
    "\n",
    "If you're interested in the intuition behind cross entropy as a loss function, see [this post on KL divergence](https://www.lesswrong.com/posts/no5jDTut5Byjqb4j5/six-and-a-half-intuitions-for-kl-divergence) (note that KL divergence and cross entropy differ by an amount which is independent of our model's predictions, so minimizing cross entropy is equivalent to minimizing KL divergence). Also see these two videos:\n",
    "\n",
    "- [Intuitively Understanding the Cross Entropy Loss](https://www.youtube.com/watch?v=Pwgpl9mKars&ab_channel=AdianLiusie)\n",
    "- [Intuitively Understanding the KL Divergence](https://www.youtube.com/watch?v=SxGYPqCgJWM&ab_channel=AdianLiusie)\n"
   ]
  },
  {
   "cell_type": "markdown",
   "metadata": {
    "id": "biTzObCR-lmw"
   },
   "source": [
    "### Aside - `dataclasses`\n",
    "\n",
    "Sometimes, when we have a lot of different input parameters to our model, it can be helpful to use dataclasses to keep track of them all. Dataclasses are a special kind of class which come with built-in methods for initialising and printing (i.e. no need to define an `__init__` or `__repr__`). Another advantage of using them is autocompletion: when you type in `args.` in VSCode, you'll get a dropdown of all your different dataclass attributes, which can be useful when you've forgotten what you called a variable!\n",
    "\n",
    "Here's an example of how we might rewrite our training code above using dataclasses. We've wrapped all the training code inside a single argument called `train`, which takes a `SimpleMLPTrainingArgs` object as its only argument.\n"
   ]
  },
  {
   "cell_type": "code",
   "execution_count": 57,
   "metadata": {
    "id": "UlL1kSbr-nPw"
   },
   "outputs": [],
   "source": [
    "@dataclass\n",
    "class SimpleMLPTrainingArgs:\n",
    "    \"\"\"\n",
    "    Defining this class implicitly creates an __init__ method, which sets arguments as\n",
    "    given below, e.g. self.batch_size = 64. Any of these arguments can also be overridden\n",
    "    when you create an instance, e.g. args = SimpleMLPTrainingArgs(batch_size=128).\n",
    "    \"\"\"\n",
    "\n",
    "    batch_size: int = 64\n",
    "    epochs: int = 3\n",
    "    learning_rate: float = 1e-3\n",
    "    subset: int = 2\n",
    "\n",
    "\n",
    "def train(args: SimpleMLPTrainingArgs):\n",
    "    \"\"\"\n",
    "    Trains the model, using training parameters from the `args` object.\n",
    "    \"\"\"\n",
    "    model = SimpleMLP().to(device)\n",
    "\n",
    "    mnist_trainset, mnist_testset = get_mnist(subset=args.subset)\n",
    "    mnist_trainloader = DataLoader(\n",
    "        mnist_trainset, batch_size=args.batch_size, shuffle=True\n",
    "    )\n",
    "    mnist_testloader = DataLoader(mnist_testset, batch_size=args.batch_size)\n",
    "\n",
    "    optimizer = t.optim.Adam(model.parameters(), lr=args.learning_rate)\n",
    "    loss_list = []\n",
    "\n",
    "    for epoch in tqdm(range(args.epochs)):\n",
    "        for imgs, labels in mnist_trainloader:\n",
    "            imgs = imgs.to(device)\n",
    "            labels = labels.to(device)\n",
    "            logits = model(imgs)\n",
    "            loss = F.cross_entropy(logits, labels)\n",
    "            loss.backward()\n",
    "            optimizer.step()\n",
    "            optimizer.zero_grad()\n",
    "            loss_list.append(loss.item())\n",
    "\n",
    "        # validate after each epoch\n",
    "        with t.inference_mode():\n",
    "            total = 0\n",
    "            correct = 0\n",
    "            for imgs, labels in mnist_testloader:\n",
    "                imgs = imgs.to(device)\n",
    "                labels = labels.to(device)\n",
    "                logits = model(imgs)\n",
    "                correct += (t.argmax(logits, dim=-1) == labels).sum().item()\n",
    "                total += args.batch_size\n",
    "\n",
    "            print(f\"Accuracy: {correct * 100.0 / total}%\")\n",
    "\n",
    "    line(\n",
    "        loss_list,\n",
    "        yaxis_range=[0, max(loss_list)],\n",
    "        labels={\"x\": \"Num batches seen\", \"y\": \"Cross entropy loss\"},\n",
    "        title=\"SimpleMLP training on MNIST\",\n",
    "        width=700,\n",
    "    )\n",
    "\n",
    "\n",
    "args = SimpleMLPTrainingArgs()\n",
    "train(args)"
   ]
  },
  {
   "cell_type": "markdown",
   "metadata": {
    "id": "gQw6lskQ-rCj"
   },
   "source": [
    "### Exercise - add a validation loop\n",
    "\n",
    "```yaml\n",
    "Difficulty: 🔴🔴🔴⚪⚪\n",
    "Importance: 🔵🔵🔵🔵🔵\n",
    "\n",
    "You should spend up to ~20 minutes on this exercise.\n",
    "\n",
    "It is very important that you understand training loops and how they work, because we'll be doing a lot of model training in this way.\n",
    "```\n",
    "\n",
    "Edit the `train` function above to include a validation loop. Train your model, making sure you measure the accuracy at the end of each epoch.\n",
    "\n",
    "Here are a few tips to help you:\n",
    "\n",
    "- During the validation step, you should be measuring **accuracy**, which is defined as **the fraction of correctly classified images**.\n",
    "  - Note that (unlike loss) accuracy should only be logged after you've gone through the whole validation set. This is because your model doesn't update between computing different accuracies, so it doesn't make sense to log all of them separately.\n",
    "- You don't need to convert to probabilities before calculating accuracy (or even to logprobs), because softmax is an order-preserving function.\n",
    "- You can wrap your code in `with t.inference_mode():` to make sure that your model is in inference mode during validation (i.e. gradients don't propagate).\n",
    "  - Note you could also use the decorator `@t.inference_mode()` to do this, if your training loop was a function.\n",
    "- The `get_mnist` function returns both a trainset and a testset. In the `train` function above we only used the first one, but you should use both.\n",
    "- You'll need a dataloader for the testset, just like we did for the trainset. It doesn't matter whether you shuffle the testset or not, because we're not updating our model parameters during validation.\n"
   ]
  },
  {
   "cell_type": "code",
   "execution_count": 58,
   "metadata": {
    "id": "kgsv8rPG-sLS"
   },
   "outputs": [],
   "source": [
    "# YOUR CODE HERE - add a validation loop\n",
    "\n",
    "\n",
    "@dataclass\n",
    "class SimpleMLPTrainingArgs:\n",
    "    \"\"\"\n",
    "    Defining this class implicitly creates an __init__ method, which sets arguments as\n",
    "    given below, e.g. self.batch_size = 64. Any of these arguments can also be overridden\n",
    "    when you create an instance, e.g. args = SimpleMLPTrainingArgs(batch_size=128).\n",
    "    \"\"\"\n",
    "\n",
    "    batch_size: int = 64\n",
    "    epochs: int = 3\n",
    "    learning_rate: float = 1e-3\n",
    "    subset: int = 5\n",
    "\n",
    "\n",
    "def train(args: SimpleMLPTrainingArgs):\n",
    "    \"\"\"\n",
    "    Trains the model, using training parameters from the `args` object.\n",
    "    \"\"\"\n",
    "    model = SimpleMLP().to(device)\n",
    "\n",
    "    mnist_trainset, mnist_testset = get_mnist(subset=args.subset)\n",
    "    mnist_trainloader = DataLoader(\n",
    "        mnist_trainset, batch_size=args.batch_size, shuffle=True\n",
    "    )\n",
    "    mnist_testloader = DataLoader(mnist_testset, batch_size=args.batch_size)\n",
    "\n",
    "    optimizer = t.optim.Adam(model.parameters(), lr=args.learning_rate)\n",
    "    loss_list = []\n",
    "\n",
    "    for epoch in tqdm(range(args.epochs)):\n",
    "        for imgs, labels in mnist_trainloader:\n",
    "            imgs = imgs.to(device)\n",
    "            labels = labels.to(device)\n",
    "            logits = model(imgs)\n",
    "            loss = F.cross_entropy(logits, labels)\n",
    "            loss.backward()\n",
    "            optimizer.step()\n",
    "            optimizer.zero_grad()\n",
    "            loss_list.append(loss.item())\n",
    "\n",
    "        # validate after each epoch\n",
    "        with t.inference_mode():\n",
    "            total = 0\n",
    "            correct = 0\n",
    "            for imgs, labels in mnist_testloader:\n",
    "                imgs = imgs.to(device)\n",
    "                labels = labels.to(device)\n",
    "                logits = model(imgs)\n",
    "                correct += (t.argmax(logits, dim=-1) == labels).sum().item()\n",
    "                total += args.batch_size\n",
    "\n",
    "            print(f\"Accuracy: {correct * 100.0 / total}%\")\n",
    "\n",
    "    line(\n",
    "        loss_list,\n",
    "        yaxis_range=[0, max(loss_list) + 0.1],\n",
    "        labels={\"x\": \"Num batches seen\", \"y\": \"Cross entropy loss\"},\n",
    "        title=\"SimpleMLP training on MNIST\",\n",
    "        width=700,\n",
    "    )\n",
    "\n",
    "\n",
    "args = SimpleMLPTrainingArgs()\n",
    "train(args)"
   ]
  },
  {
   "cell_type": "markdown",
   "metadata": {
    "id": "LfyUq0vw-yLZ"
   },
   "source": [
    "<details>\n",
    "<summary>Help - I'm not sure how to measure correct classifications.</summary>\n",
    "\n",
    "You can take argmax of the output of your model, using `torch.argmax` (with the keyword argument `dim` to specify the dimension you want to take max over).\n",
    "\n",
    "</details>\n",
    "\n",
    "<details>\n",
    "<summary>Help - I get <code>RuntimeError: expected scalar type Float but found Byte</code>.</summary>\n",
    "\n",
    "This is commonly because one of your operations is between tensors with the wrong datatypes (e.g. `int` and `float`). Try navigating to the error line and checking your dtypes (or using VSCode's built-in debugger).\n",
    "\n",
    "</details>\n"
   ]
  },
  {
   "cell_type": "markdown",
   "metadata": {
    "id": "s9OP8Ag6-zJh"
   },
   "source": [
    "You should find that after the first epoch, the model is already doing much better than random chance, and it improves slightly in subsequent epochs.\n"
   ]
  },
  {
   "cell_type": "markdown",
   "metadata": {
    "id": "DiUVKtaD7HuH"
   },
   "source": [
    "# 3️⃣ Convolutions\n"
   ]
  },
  {
   "cell_type": "markdown",
   "metadata": {
    "id": "tQSrbH46-0QP"
   },
   "source": [
    "> ### Learning Objectives\n",
    ">\n",
    "> - Learn how convolutions work, and why they are useful for vision models\n",
    "> - Implement your own convolutions, and maxpooling layers\n"
   ]
  },
  {
   "cell_type": "markdown",
   "metadata": {
    "id": "SuRmZru0-3Nu"
   },
   "source": [
    "## Reading\n",
    "\n",
    "- [But what is a convolution?](https://www.youtube.com/watch?v=KuXjwB4LzSA) by 3Blue1Brown\n",
    "- [A Comprehensive Guide to Convolutional Neural Networks (TowardsDataScience)](https://towardsdatascience.com/a-comprehensive-guide-to-convolutional-neural-networks-the-eli5-way-3bd2b1164a53)\n"
   ]
  },
  {
   "cell_type": "markdown",
   "metadata": {
    "id": "Lz3jzRft-5c7"
   },
   "source": [
    "## Convolutions\n",
    "\n",
    "Here are some questions about convolutions to make sure you've understood the material. Once you finish the article above, you should try and answer these questions without referring back to the original article.\n",
    "\n",
    "<details>\n",
    "<summary>Why would convolutional layers be less likely to overfit data than standard linear (fully connected) layers?</summary>\n",
    "\n",
    "Convolutional layers require significantly fewer weights to be learned. This is because the same kernel is applied all across the image, rather than every pair of `(input, output)` nodes requiring a different weight to be learned.\n",
    "\n",
    "</details>\n",
    "\n",
    "<details>\n",
    "<summary>Suppose you fixed some random permutation of the pixels in an image, and applied this to all images in your dataset, before training a convolutional neural network for classifying images. Do you expect this to be less effective, or equally effective?</summary>\n",
    "\n",
    "It will be less effective, because CNNs work thanks to **spatial locality** - groups of pixels close together are more meaningful. For instance, CNNs will often learn convolutions at an early layer which recognise gradients or simple shapes. If you permute the pixels (even if you permute in the same way for every image), you destroy locality.\n",
    "\n",
    "</details>\n",
    "\n",
    "<details>\n",
    "<summary>If you have a 28x28 image, and you apply a 3x3 convolution with stride 1, padding 1, what shape will the output be?</summary>\n",
    "\n",
    "It will be the same shape, i.e. `28x28`. In the post linked above, this is described as **same padding**. Tomorrow, we'll build an MNIST classifier which uses these convolutions.\n",
    "\n",
    "</details>\n",
    "\n",
    "<br>\n"
   ]
  },
  {
   "cell_type": "markdown",
   "metadata": {
    "id": "yv2Io_aadwoj"
   },
   "source": [
    "A note on terminology - you might see docs and docstrings sometimes use `num_features`, sometimes use `channels`, and sometimes just `C`. Often these two terms interchangeable. Our neural network inputs will often be RGB images and so we will have `channels=3` corresponding to the 3 colors red/green/blue. As we pass our initial image through convolutional layers, the number of channels will change. In the context of convolutions, the number of features and number of channels usually refer to the same value.\n"
   ]
  },
  {
   "cell_type": "markdown",
   "metadata": {
    "id": "vCWlpGwJ-61Z"
   },
   "source": [
    "### Exercise - implement `Conv2d`\n",
    "\n",
    "```yaml\n",
    "Difficulty: 🔴🔴🔴⚪⚪\n",
    "Importance: 🔵🔵🔵🔵⚪\n",
    "\n",
    "You should spend up to ~20 minutes on this exercise.\n",
    "\n",
    "Make sure you understand what operation is taking place here, and how the dimensions are changing.\n",
    "```\n",
    "\n",
    "Rather than implementing the `conv2d` function from scratch, we'll allow you to use `t.nn.functional.conv2d`. In the exercise below, you should use this function to implement the `nn.Conv2d` layer. In other words, you should:\n",
    "\n",
    "- Initialize the weights for the convolutional layer in the `__init__` function.\n",
    "  - You should look at the PyTorch page for `nn.Conv2d` [here](https://pytorch.org/docs/stable/generated/torch.nn.Conv2d.html) to understand what the shape of the weights should be.\n",
    "  - We assume `bias=False`, so the only `nn.Parameter` object we need to define is `weight`.\n",
    "  - You should use **uniform Xavier initialization**, which is described at the bottom of the `nn.Conv2d` docs (the bullet points under the **Variables** header).\n",
    "- Implement the `forward` method, which should apply the convolutional layer to the input.\n",
    "  - In other words, it should implement the `torch.nn.functional.conv2d` function (documentation [here](https://pytorch.org/docs/stable/generated/torch.nn.functional.conv2d.html)), using the weights and biases (and other layer parameters) that you initialized in `__init__`.\n",
    "- Fill in the `extra_repr` method, to print out the convolutional layer's parameters.\n"
   ]
  },
  {
   "cell_type": "code",
   "execution_count": 59,
   "metadata": {
    "id": "qIxmCK0O--SW"
   },
   "outputs": [],
   "source": [
    "from torch.nn.functional import conv2d\n",
    "\n",
    "\n",
    "class Conv2d(nn.Module):\n",
    "    def __init__(\n",
    "        self,\n",
    "        in_channels: int,\n",
    "        out_channels: int,\n",
    "        kernel_size: int,\n",
    "        stride: int = 1,\n",
    "        padding: int = 0,\n",
    "        debug=False,\n",
    "    ):\n",
    "        \"\"\"\n",
    "        Same as torch.nn.Conv2d with bias=False.\n",
    "\n",
    "        Name your weight field `self.weight` for compatibility with the PyTorch version.\n",
    "        \"\"\"\n",
    "        super().__init__()\n",
    "        # input is in_channels, h, w\n",
    "        # the kernel should be... what?\n",
    "        # out_channels, in_channels, kernel_size, kernel_size\n",
    "        # scaling_factor for xavier initialization\n",
    "        self.in_channels = in_channels\n",
    "        self.out_channels = out_channels\n",
    "        self.kernel_size = kernel_size\n",
    "\n",
    "        scaling_factor = 6 / np.sqrt(in_channels * kernel_size * kernel_size)\n",
    "        self.weight = nn.Parameter(\n",
    "            scaling_factor\n",
    "            * (2 * t.rand(out_channels, in_channels, kernel_size, kernel_size) - 1)\n",
    "        )\n",
    "\n",
    "        self.stride = stride\n",
    "        self.padding = padding\n",
    "        self.debug = debug\n",
    "\n",
    "    def forward(self, x: t.Tensor) -> t.Tensor:\n",
    "        \"\"\"Apply the functional conv2d, which you can import.\"\"\"\n",
    "        out = conv2d(\n",
    "            x, self.weight, bias=None, stride=self.stride, padding=self.padding\n",
    "        )\n",
    "        if self.debug:\n",
    "            print(f\"Out shape: {out.shape}\")\n",
    "\n",
    "        return out\n",
    "\n",
    "    def extra_repr(self) -> str:\n",
    "        return (\n",
    "            f\"In channels: {self.in_channels}\\n\"\n",
    "            + f\"Out channels: {self.out_channels}\\n\"\n",
    "            + f\"Kernel size: {self.kernel_size}\\n\"\n",
    "            + f\"Weights shape: {self.weight.shape}.\"\n",
    "        )\n",
    "\n",
    "\n",
    "tests.test_conv2d_module(Conv2d)\n",
    "m = Conv2d(in_channels=24, out_channels=12, kernel_size=3, stride=2, padding=1)\n",
    "print(f\"Manually verify that this is an informative repr: {m}\")"
   ]
  },
  {
   "cell_type": "markdown",
   "metadata": {
    "id": "ZLMoCNt0-_tD"
   },
   "source": [
    "<details>\n",
    "<summary>Help - I don't know what to use as number of inputs, when doing Xavier initialisation.</summary>\n",
    "\n",
    "In the case of convolutions, each value in the output is computed by taking the product over `in_channels * kernel_width * kernel_height` elements. So this should be our value for $N_{in}$.\n",
    "\n",
    "</details>\n"
   ]
  },
  {
   "cell_type": "markdown",
   "metadata": {
    "id": "6SwWo9OX_A5P"
   },
   "source": [
    "### Exercise - implement `MaxPool2d`\n",
    "\n",
    "```yaml\n",
    "Difficulty: 🔴🔴⚪⚪⚪\n",
    "Importance: 🔵🔵⚪⚪⚪\n",
    "\n",
    "You should spend up to ~10 minutes on this exercise.\n",
    "```\n",
    "\n",
    "Next, you should implement `MaxPool2d`. This module is often applied after a convolutional layer, to reduce the spatial dimensions of the output. It works by taking the maximum value in each kernel-sized window, and outputting that value. For instance, if we have a 2x2 kernel, then we take the maximum of each 2x2 window in the input.\n",
    "\n",
    "You should use `torch.nn.functional.max_pool2d` to implement this layer. The documentation page can be found [here](https://pytorch.org/docs/stable/generated/torch.nn.functional.max_pool2d.html), and the documentation for `nn.MaxPool2d` can be found [here](https://pytorch.org/docs/stable/generated/torch.nn.MaxPool2d.html).\n"
   ]
  },
  {
   "cell_type": "code",
   "execution_count": 60,
   "metadata": {
    "id": "TTXDmJmr_CoH"
   },
   "outputs": [],
   "source": [
    "from torch.nn.functional import max_pool2d\n",
    "\n",
    "\n",
    "class MaxPool2d(nn.Module):\n",
    "    def __init__(self, kernel_size: int, stride: int | None = None, padding: int = 1):\n",
    "        super().__init__()\n",
    "        self.kernel_size = kernel_size\n",
    "        self.stride = stride\n",
    "        self.padding = padding\n",
    "\n",
    "    def forward(self, x: t.Tensor) -> t.Tensor:\n",
    "        \"\"\"Call the functional version of max_pool2d.\"\"\"\n",
    "        return max_pool2d(x, self.kernel_size, self.stride, self.padding)\n",
    "\n",
    "    def extra_repr(self) -> str:\n",
    "        \"\"\"Add additional information to the string representation of this class.\"\"\"\n",
    "        return (\n",
    "            f\"Kernel size: {self.kernel_size}\\n\"\n",
    "            + f\"Stride: {self.stride}\\n\"\n",
    "            + f\"Padding: {self.padding}\"\n",
    "        )\n",
    "\n",
    "\n",
    "tests.test_maxpool2d_module(MaxPool2d)\n",
    "m = MaxPool2d(kernel_size=3, stride=2, padding=1)\n",
    "print(f\"Manually verify that this is an informative repr: {m}\")"
   ]
  },
  {
   "cell_type": "markdown",
   "metadata": {
    "id": "cfoClwI3_bpS"
   },
   "source": [
    "<details>\n",
    "<summary>Help - I'm really confused about what to do here!</summary>\n",
    "\n",
    "Your `forward` method should just implement the `maxpool2d` function. In order to get the parameters for this function like `kernel_size` and `stride`, you'll need to initialise them in `__init__`.\n",
    "\n",
    "Remember that `MaxPool2d` has no weights - it's just a wrapper for the `maxpool2d` function.\n",
    "\n",
    "---\n",
    "\n",
    "Ideally, the `extra_repr` method should output something like:\n",
    "\n",
    "```python\n",
    "\"kernel_size=3, stride=2, padding=1\"\n",
    "```\n",
    "\n",
    "so that when you print the module, it will look like this:\n",
    "\n",
    "```python\n",
    "MaxPool2d(kernel_size=3, stride=2, padding=1)\n",
    "```\n",
    "\n",
    "</details>\n"
   ]
  },
  {
   "cell_type": "markdown",
   "metadata": {
    "id": "a9NImreY7IZb"
   },
   "source": [
    "# 4️⃣ ResNets\n"
   ]
  },
  {
   "cell_type": "markdown",
   "metadata": {
    "id": "l8IZLzE0_gCS"
   },
   "source": [
    "> ### Learning Objectives\n",
    ">\n",
    "> - Learn about skip connections, and how they help overcome the degradation problem\n",
    "> - Learn about batch normalization, and why it is used in training\n",
    "> - Assemble your own ResNet, and load in weights from PyTorch's ResNet implementation\n"
   ]
  },
  {
   "cell_type": "markdown",
   "metadata": {
    "id": "-9ZGesNI_hYQ"
   },
   "source": [
    "## Reading\n",
    "\n",
    "- [Batch Normalization in Convolutional Neural Networks](https://www.baeldung.com/cs/batch-normalization-cnn)\n",
    "- [Deep Residual Learning for Image Recognition](https://arxiv.org/pdf/1512.03385.pdf)\n",
    "\n",
    "You should move on once you can answer the following questions:\n",
    "\n",
    "<details>\n",
    "<summary>\"Batch Normalization allows us to be less careful about initialization.\" Explain this statement.</summary>\n",
    "\n",
    "Weight initialisation methods like Xavier (which we encountered yesterday) are based on the idea of making sure the activations have approximately the same distribution across layers at initialisation. But batch normalisation ensures that this is the case as signals pass through the network.\n",
    "\n",
    "</details>\n",
    "\n",
    "<details>\n",
    "<summary>Give three reasons why batch norm improves the performance of neural networks.</summary>\n",
    "\n",
    "The reasons given in the first linked document above are:\n",
    "\n",
    "- Normalising inputs speeds up computation\n",
    "- Internal covariate shift is reduced, i.e. the mean and standard deviation is kept constant across the layers.\n",
    "- Regularisation effect: noise internal to each minibatch is reduced\n",
    "</details>\n",
    "\n",
    "<details>\n",
    "<summary>If you have an input tensor of size (batch, channels, width, height), and you apply a batchnorm layer, how many learned parameters will there be?</summary>\n",
    "\n",
    "A mean and standard deviation is calculated for each channel (i.e. each calculation is done across the batch, width, and height dimensions). So the number of learned params will be `2 * channels`.\n",
    "\n",
    "</details>\n",
    "\n",
    "<details>\n",
    "<summary>In the paper, the diagram shows additive skip connections (i.e. F(x) + x). One can also form concatenated skip connections, by \"gluing together\" F(x) and x into a single tensor. Give one advantage and one disadvantage of these, relative to additive connections.</summary>\n",
    "\n",
    "One advantage of concatenation: the subsequent layers can re-use middle representations; maintaining more information which can lead to better performance. Also, this still works if the tensors aren't exactly the same shape. One disadvantage: less compact, so there may be more weights to learn in subsequent layers.\n",
    "\n",
    "Crucially, both the addition and concatenation methods have the property of preserving information, to at least some degree of fidelity. For instance, you can [use calculus to show](https://theaisummer.com/skip-connections/#:~:text=residual%20skip%20connections.-,ResNet%3A%20skip%20connections%C2%A0via%C2%A0addition,-The%20core%20idea) that both methods will fix the vanishing gradients problem.\n",
    "\n",
    "</details>\n",
    "\n",
    "In this section, we'll do a more advanced version of the exercise in part 1. Rather than building a relatively simple network in which computation can be easily represented by a sequence of simple layers, we're going to build a more complex architecture which requires us to define nested blocks.\n",
    "\n",
    "We'll start by defining a few more `nn.Module` objects, which we hadn't needed before.\n"
   ]
  },
  {
   "cell_type": "markdown",
   "metadata": {
    "id": "q94dxuju_jpr"
   },
   "source": [
    "## Sequential\n",
    "\n",
    "Firstly, now that we're working with large and complex architectures, we should create a version of `nn.Sequential`. As the name suggests, when an `nn.Sequential` is fed an input, it sequentially applies each of its submodules to the input, with the output from one module feeding into the next one.\n",
    "\n",
    "The implementation is given to you below. A few notes:\n",
    "\n",
    "- In initalization, we add to the `_modules` dictionary.\n",
    "  - This is a special type of dict called an **ordered dictionary**, which preserves the order of elements that get added (although Python sort-of does this now by default).\n",
    "  - When we call `self.parameters()`, this recursively goes through all modules in `self._modules`, and returns the params in those modules. This means we can nest sequentials within sequentials!\n",
    "- The special `__getitem__` and `__setitem__` methods determine behaviour when we get and set modules within the sequential.\n",
    "- The `repr` of the base class `nn.Module` already recursively prints out the submodules, so we don't need to write anything in `extra_repr`.\n",
    "  - To see how this works in practice, try defining a `Sequential` which takes a sequence of modules that you've defined above, and see what it looks like when you print it.\n",
    "\n",
    "Don't worry about deeply understanding this code. The main takeaway is that `nn.Sequential` is a useful list-like object to store modules, and apply them all sequentially.\n",
    "\n",
    "<details>\n",
    "<summary>Aside - initializing Sequential with an OrderedDict</summary>\n",
    "\n",
    "The actual `nn.Sequential` module can be initialized with an ordered dictionary, rather than a list of modules. For instance, rather than doing this:\n",
    "\n",
    "```python\n",
    "seq = nn.Sequential(\n",
    "    nn.Linear(10, 20),\n",
    "    nn.ReLU(),\n",
    "    nn.Linear(20, 30)\n",
    ")\n",
    "```\n",
    "\n",
    "we can do this:\n",
    "\n",
    "```python\n",
    "seq = nn.Sequential(OrderedDict([\n",
    "    (\"linear1\", nn.Linear(10, 20)),\n",
    "    (\"relu\", nn.ReLU()),\n",
    "    (\"linear2\", nn.Linear(20, 30))\n",
    "]))\n",
    "```\n",
    "\n",
    "This is handy if we want to give each module an descriptive name.\n",
    "\n",
    "The `Sequential` implementation below doesn't allow the input to be an OrderedDict. As a bonus exercise, can you rewrite the `__init__`, `__getitem__` and `__setitem__` methods to allow the input to be an OrderedDict?\n",
    "\n",
    "</details>\n"
   ]
  },
  {
   "cell_type": "code",
   "execution_count": 152,
   "metadata": {
    "id": "WW236Tbi_kwt"
   },
   "outputs": [],
   "source": [
    "from typing import Dict\n",
    "from collections import OrderedDict\n",
    "\n",
    "\n",
    "class Sequential(nn.Module):\n",
    "    _modules: Dict[str, nn.Module]\n",
    "\n",
    "    def __init__(self, *modules: nn.Module):\n",
    "        super().__init__()\n",
    "        self.is_ordered_dict = len(modules) == 1 and isinstance(modules[0], OrderedDict)\n",
    "\n",
    "        if self.is_ordered_dict:\n",
    "            for key, mod in modules[0].items():\n",
    "                self._modules[str(key)] = mod\n",
    "        else:\n",
    "            for index, mod in enumerate(modules):\n",
    "                self._modules[str(index)] = mod\n",
    "\n",
    "    def __getitem__(self, index: int | str) -> nn.Module:\n",
    "        if self.is_ordered_dict and type(index) == str:\n",
    "            return self._modules[index]\n",
    "        elif self.is_ordered_dict and type(index) == int:\n",
    "            return list(self._modules.values())[index]\n",
    "        else:\n",
    "            index %= len(self._modules)  # deal with negative indices\n",
    "            return self._modules[str(index)]\n",
    "\n",
    "    def __setitem__(self, index: int | str, module: nn.Module) -> None:\n",
    "        if self.is_ordered_dict and type(index) == str:\n",
    "            self._modules[index] = module\n",
    "        elif self.is_ordered_dict and type(index) == int:\n",
    "            key = list(self._modules.keys())[index]\n",
    "            self._modules[key] = module\n",
    "        else:\n",
    "            index %= len(self._modules)  # deal with negative indices\n",
    "            self._modules[str(index)] = module\n",
    "\n",
    "    def forward(self, x: t.Tensor) -> t.Tensor:\n",
    "        \"\"\"Chain each module together, with the output from one feeding into the next one.\"\"\"\n",
    "        for mod in self._modules.values():\n",
    "            x = mod(x)\n",
    "        return x"
   ]
  },
  {
   "cell_type": "markdown",
   "metadata": {
    "id": "LjC8u9Pz_mF8"
   },
   "source": [
    "## BatchNorm2d\n",
    "\n",
    "Now, we'll implement our `BatchNorm2d`, the layer described in the documents you hopefully read above.\n",
    "\n",
    "Something which might have occurred to you as you read about batch norm - how does it work when in inference mode? It makes sense to normalize over a batch of multiple input data, but normalizing over a single datapoint doesn't make any sense! This is why we have to introduce a new PyTorch concept: **buffers**.\n",
    "\n",
    "Unlike `nn.Parameter`, a buffer is not its own type and does not wrap a `Tensor`. A buffer is just a regular `Tensor` on which you've called [self.register_buffer](https://pytorch.org/docs/stable/generated/torch.nn.Module.html#torch.nn.Module.register_buffer) from inside a `nn.Module`. As an example, `self.register_buffer(\"variable_name\", t.zeros(10))` will define an object `self.variable_name` and register it as a buffer.\n",
    "\n",
    "What is a buffer, and why is it different to a standard attribute or to a `nn.Parameter` object? The differences are as follows:\n",
    "\n",
    "- It is normally included in the output of `module.state_dict()`, meaning that `torch.save` and `torch.load` will serialize and deserialize it.\n",
    "- It is moved between devices when you call `model.to(device)`.\n",
    "- It is not included in `module.parameters`, so optimizers won't see or modify it. Instead, your module will modify it as appropriate within `forward`.\n",
    "\n",
    "Implementation note: when defining BatchNorm2d, register_buffer lines must be **in order** and **after** initializing self.weight and self.bias (as the `copy_weights` function relies on order matching exactly).\n"
   ]
  },
  {
   "cell_type": "markdown",
   "metadata": {
    "id": "0oGSzB8K_njw"
   },
   "source": [
    "### Train and Eval Modes\n",
    "\n",
    "This is your first implementation that needs to care about the value of `self.training`, which is set to True by default, and can be set to False by `self.eval()` or to True by `self.train()`.\n",
    "\n",
    "In training mode, you should use the mean and variance of the batch you're on, but you should also update a stored `running_mean` and `running_var` on each call to `forward` using the \"momentum\" argument as described in the PyTorch docs. Your `running_mean` shuld be intialized as all zeros; your `running_var` should be initialized as all ones. Also, you should keep track of `num_batches_tracked`.\n",
    "\n",
    "<details>\n",
    "<summary>Aside on <code>num_batches_tracked</code> (optional, unimportant)</summary>\n",
    "\n",
    "PyTorch uses this to calculate momentum for calculation of the moving averages in the event that the module is intialized with `momentum=None`, although you don't need to worry about this because you can assume that the momentum parameter will always be a float in our use cases; we're just keeping track of `num_batches_tracked` to be consistent with PyTorch's version of BatchNorm2d, and to make sure that our state dictionaries have the same items.\n",
    "\n",
    "</details>\n",
    "\n",
    "In eval mode, you should use the running mean and variance that you stored before (not the mean and variance from the current batch).\n"
   ]
  },
  {
   "cell_type": "markdown",
   "metadata": {
    "id": "5mgv9tNi_pHn"
   },
   "source": [
    "### Exercise - implement `BatchNorm2d`\n",
    "\n",
    "```yaml\n",
    "Difficulty: 🔴🔴🔴🔴⚪\n",
    "Importance: 🔵🔵🔵🔵⚪\n",
    "\n",
    "You should spend up to 20-40 minutes on this exercise.\n",
    "\n",
    "This is the most challenging module you'll have implemented so far. Getting all the dimensions and operations right can be tricky.\n",
    "```\n",
    "\n",
    "Implement `BatchNorm2d` according to the [PyTorch docs](https://pytorch.org/docs/stable/generated/torch.nn.BatchNorm2d.html). Call your learnable parameters `weight` and `bias` for consistency with PyTorch.\n",
    "\n",
    "We're implementing it with `affine=True` and `track_running_stats=True`.\n",
    "\n",
    "A few tips (some of them are repeated from above):\n",
    "\n",
    "- Remember to differentiate between training mode, when `self.training=True` (you calculate mean & variance and update the running values) and eval mode, when `self.training=False` (you use the running values).\n",
    "- After you''ve normalized `x`, don't forget to multiply by `weight` and add `bias` (you might need to reshape these tensors so that they broadcast correctly).\n",
    "\n",
    "<details>\n",
    "<summary>Help - I don't understand which dimensions I should be taking the mean over.</summary>\n",
    "\n",
    "The input has shape `(batch, channels, height, width)` (where channels is synonymous with features). You want to calculate the mean and variance for each channel, meaning you should reduce over all dimensions except the first, e.g. `t.mean(x, dim=(0, 2, 3))`. You should then update the running mean and variance accordingly.\n",
    "\n",
    "Tip: use the argument `keepdim=True` in your mean and variance calculations, to make sure that the mean & variance still broadcast with the original input when you calculate `(x - mean) / std`.\n",
    "\n",
    "</details>\n",
    "\n",
    "<details>\n",
    "<summary>Help - I don't understand what the formula for updating the running mean / variance should be.</summary>\n",
    "\n",
    "You want `running_mean <- (1 - momentum) * running_mean + momentum * new_mean`. Again, make sure you get the dimensions right - all the tensors in this operation should be 1D, with shape `(num_features,)`.\n",
    "\n",
    "</details>\n",
    "\n",
    "If you're struggling with this implementation, we do recommend reading the solution, because there are lots of non-obvious ways this implementation can go wrong.\n"
   ]
  },
  {
   "cell_type": "code",
   "execution_count": 62,
   "metadata": {},
   "outputs": [],
   "source": [
    "# einops.rearrange(t.arange(1.0, 4.0), \"n -> 1 n 1 1\")"
   ]
  },
  {
   "cell_type": "code",
   "execution_count": 63,
   "metadata": {},
   "outputs": [],
   "source": [
    "# (x - mean) / (t.sqrt(var + 1e-05)), (x - mean) / (t.sqrt(var + 1e-05)) + einops.rearrange(t.arange(1.0, 4.0), \"n -> n 1 1\")"
   ]
  },
  {
   "cell_type": "code",
   "execution_count": 64,
   "metadata": {},
   "outputs": [],
   "source": [
    "# x = t.randint(2, 8, (2, 3, 2, 2), dtype=t.float32)\n",
    "# mean = einops.reduce(x, \"b c h w -> 1 c 1 1\", t.mean)\n",
    "# var = einops.reduce(x, \"b c h w -> 1 c 1 1\", t.var)"
   ]
  },
  {
   "cell_type": "code",
   "execution_count": 65,
   "metadata": {
    "id": "ddpDrKaN_qSn"
   },
   "outputs": [],
   "source": [
    "class BatchNorm2d(nn.Module):\n",
    "    # The type hints below aren't functional, they're just for documentation\n",
    "    running_mean: Float[Tensor, \"num_features\"]\n",
    "    running_var: Float[Tensor, \"num_features\"]\n",
    "    num_batches_tracked: Int[Tensor, \"\"]  # This is how we denote a scalar tensor\n",
    "\n",
    "    def __init__(self, num_features: int, eps=1e-05, momentum=0.1):\n",
    "        \"\"\"\n",
    "        Like nn.BatchNorm2d with track_running_stats=True and affine=True.\n",
    "\n",
    "        Name the learnable affine parameters `weight` and `bias` in that order.\n",
    "        \"\"\"\n",
    "        super().__init__()\n",
    "        self.num_features = num_features\n",
    "        self.weight = nn.Parameter(t.ones(num_features))\n",
    "        self.bias = nn.Parameter(t.zeros(num_features))\n",
    "        self.eps = eps\n",
    "        self.momentum = momentum\n",
    "\n",
    "        self.register_buffer(\"running_mean\", t.zeros(num_features))\n",
    "        self.register_buffer(\"running_var\", t.ones(num_features))\n",
    "        self.register_buffer(\"num_batches_tracked\", t.tensor(0))\n",
    "\n",
    "    def forward(self, x: t.Tensor) -> t.Tensor:\n",
    "        \"\"\"\n",
    "        Normalize each channel.\n",
    "\n",
    "        Compute the variance using `torch.var(x, unbiased=False)`\n",
    "        Hint: you may also find it helpful to use the argument `keepdim`.\n",
    "\n",
    "        x: shape (batch, channels, height, width)\n",
    "        Return: shape (batch, channels, height, width)\n",
    "        \"\"\"\n",
    "        # reshape x from batch,  channel, h, w to channel, batch, h, w\n",
    "        # because we need to take mean by channels\n",
    "\n",
    "        if self.training:\n",
    "            # normalize by channel\n",
    "            # we can also do t.mean(x, dim=(0, 2, 3))\n",
    "            mean = einops.reduce(x, \"b c h w -> 1 c 1 1\", t.mean)\n",
    "            # we can also do t.var(x, dim=(0, 2, 3))\n",
    "            var = einops.reduce(x, \"b c h w -> 1 c 1 1\", t.var)\n",
    "\n",
    "            self.running_mean = (\n",
    "                1 - self.momentum\n",
    "            ) * self.running_mean + self.momentum * mean.squeeze()\n",
    "\n",
    "            self.running_var = (\n",
    "                1 - self.momentum\n",
    "            ) * self.running_var + self.momentum * var.squeeze()\n",
    "\n",
    "            self.num_batches_tracked += 1\n",
    "        else:\n",
    "            mean = self.running_mean.reshape(1, self.num_features, 1, 1)\n",
    "            var = self.running_var.reshape(1, self.num_features, 1, 1)\n",
    "\n",
    "        normalized = (x - mean) / t.sqrt(var + self.eps)\n",
    "\n",
    "        weight = einops.rearrange(self.weight, \"c -> 1 c 1 1\")\n",
    "        bias = einops.rearrange(self.bias, \"c -> 1 c 1 1\")\n",
    "\n",
    "        # multiply by adding dims to weight\n",
    "        normalized = normalized * weight + bias\n",
    "\n",
    "        # print(x.shape, normalized.shape, normalized.max(), normalized.min())\n",
    "\n",
    "        return normalized\n",
    "\n",
    "    def extra_repr(self) -> str:\n",
    "        pass\n",
    "\n",
    "\n",
    "tests.test_batchnorm2d_module(BatchNorm2d)\n",
    "tests.test_batchnorm2d_forward(BatchNorm2d)\n",
    "tests.test_batchnorm2d_running_mean(BatchNorm2d)"
   ]
  },
  {
   "cell_type": "markdown",
   "metadata": {
    "id": "2NB2SCy6_s54"
   },
   "source": [
    "## AveragePool\n",
    "\n",
    "Let's end our collection of `nn.Module`s with an easy one 🙂\n",
    "\n",
    "The ResNet has a Linear layer with 1000 outputs at the end in order to produce classification logits for each of the 1000 classes. Any Linear needs to have a constant number of input features, but the ResNet is supposed to be compatible with arbitrary height and width, so we can't just do a pooling operation with a fixed kernel size and stride.\n",
    "\n",
    "Luckily, the simplest possible solution works decently: take the mean over the spatial dimensions. Intuitively, each position has an equal \"vote\" for what objects it can \"see\".\n"
   ]
  },
  {
   "cell_type": "markdown",
   "metadata": {
    "id": "gIirsi-0_uOk"
   },
   "source": [
    "### Exercise - implement `AveragePool`\n",
    "\n",
    "```yaml\n",
    "Difficulty: 🔴⚪⚪⚪⚪\n",
    "Importance: 🔵🔵⚪⚪⚪\n",
    "\n",
    "You should spend up to 5-10 minutes on this exercise.\n",
    "```\n",
    "\n",
    "This should be a pretty straightforward implementation; it doesn't have any weights or parameters of any kind, so you only need to implement the `forward` method.\n"
   ]
  },
  {
   "cell_type": "code",
   "execution_count": 66,
   "metadata": {},
   "outputs": [],
   "source": [
    "x = t.randint(1, 3, (1, 3, 2, 2), dtype=t.float32)\n",
    "b = BatchNorm2d(3)"
   ]
  },
  {
   "cell_type": "code",
   "execution_count": 67,
   "metadata": {
    "id": "JrSwTHMi_v2B"
   },
   "outputs": [],
   "source": [
    "class AveragePool(nn.Module):\n",
    "    def forward(self, x: t.Tensor) -> t.Tensor:\n",
    "        \"\"\"\n",
    "        x: shape (batch, channels, height, width)\n",
    "        Return: shape (batch, channels)\n",
    "        \"\"\"\n",
    "        return einops.reduce(x, \"b c h w -> b c\", t.mean)"
   ]
  },
  {
   "cell_type": "markdown",
   "metadata": {
    "id": "wgL5nJrD_yD6"
   },
   "source": [
    "## Building ResNet\n",
    "\n",
    "Now we have all the building blocks we need to start assembling your own ResNet! The following diagram describes the architecture of ResNet34 - the other versions are broadly similar. Unless otherwise noted, convolutions have a kernel_size of 3x3, a stride of 1, and a padding of 1. None of the convolutions have biases.\n",
    "\n",
    "<details>\n",
    "<summary>Question: there would be no advantage to enabling biases on the convolutional layers. Why?</summary>\n",
    "\n",
    "Every convolution layer in this network is followed by a batch normalization layer. The first operation in the batch normalization layer is to subtract the mean of each output channel. But a convolutional bias just adds some scalar `b` to each output channel, increasing the mean by `b`. This means that for any `b` added, the batch normalization will subtract `b` to exactly negate the bias term.\n",
    "\n",
    "</details>\n",
    "\n",
    "<details>\n",
    "<summary>Question: why is it necessary for the output of the left and right computational tracks in ResidualBlock to be the same shape?</summary>\n",
    "\n",
    "Because they're added together at the end of the tracks. If they weren't the same shape, then they couldn't be added together.\n",
    "\n",
    "</details>\n",
    "\n",
    "<details>\n",
    "<summary>Help - I'm confused about how the nested subgraphs work.</summary>\n",
    "\n",
    "The right-most block in the diagram, `ResidualBlock`, is nested inside `BlockGroup` multiple times. When you see `ResidualBlock` in `BlockGroup`, you should visualise a copy of `ResidualBlock` sitting in that position.\n",
    "\n",
    "Similarly, `BlockGroup` is nested multiple times (four to be precise) in the full `ResNet34` architecture.\n",
    "\n",
    "</details>\n",
    "\n",
    "<img src=\"https://raw.githubusercontent.com/callummcdougall/computational-thread-art/master/example_images/misc/resnet-fixed.svg\" width=\"900\">\n"
   ]
  },
  {
   "cell_type": "markdown",
   "metadata": {
    "id": "LPuBVH3I_3gr"
   },
   "source": [
    "### Exercise - implement `ResidualBlock`\n",
    "\n",
    "```yaml\n",
    "Difficulty: 🔴🔴🔴⚪⚪\n",
    "Importance: 🔵🔵🔵🔵⚪\n",
    "\n",
    "You should spend up to 15-30 minutes on this exercise.\n",
    "```\n",
    "\n",
    "Implement `ResidualBlock` by referring to the diagram. A few more notes on the left and right branches of this diagram:\n",
    "\n",
    "#### Left branch\n",
    "\n",
    "This branch has 2 convolutional layers. One of them applies a stride (the `first_stride` argument below), and changes the number of features from `in_feats -> out_feats`. The second one is a shape-preserving convolution, i.e. it has stride 1 and changes the number of features from `out_feats -> out_feats`.\n",
    "\n",
    "#### Right branch\n",
    "\n",
    "You can think of this branch as essentially a skip connection. But remember, we need to add this branch's output onto the left branch's output at the end of the residual block. If the left branch doesn't change the shape of its inputs (i.e. no strides, and `in_feats == out_feats`) then we can just use the identity operator for this right branch (you can use `nn.Identity` for this). But if either we have strides or a different number of output features, then we can't use the identity for the right branch. Instead we use what is essentially the closest approximation to the identity - a 1x1 convolution with stride & channel arguments chosen to match the shape of the left branch (followed by a batchnorm to standardize the output). Note, you may assume that if `first_stride == 1` then we always have number of input features equal to number of output features (meaning you can use the identity operator for this branch if and only if `first_stride == 1`).\n",
    "\n",
    "<details>\n",
    "<summary>Help - I'm completely stuck on parts of the architecture.</summary>\n",
    "\n",
    "In this case, you can use the following code to import your own `resnet34`, and inspect its architecture:\n",
    "\n",
    "```python\n",
    "resnet = models.resnet34()\n",
    "print(torchinfo.summary(resnet, input_size=(1, 3, 64, 64)))\n",
    "```\n",
    "\n",
    "This will generate output telling you the names of each module, as well as the parameter counts.\n",
    "\n",
    "Unfortunately, this function won't work on your own model if your model breaks when an image is passed through. Since a lot of the time mistakes in the architecture will mean your model doesn't work, you won't be able to use `torchinfo.summary` on your model. Instead, you should compare the models by printing them out.\n",
    "\n",
    "</details>\n"
   ]
  },
  {
   "cell_type": "code",
   "execution_count": 68,
   "metadata": {
    "id": "chmn1EIj_41m"
   },
   "outputs": [],
   "source": [
    "# Now we have all the building blocks we need to start assembling your own ResNet! The following diagram describes the architecture of ResNet34 - the other versions are broadly similar. Unless otherwise noted, convolutions have a kernel_size of 3x3, a stride of 1, and a padding of 1. None of the convolutions have biases.\n",
    "\n",
    "\n",
    "class ResidualBlock(nn.Module):\n",
    "    def __init__(self, in_feats: int, out_feats: int, first_stride=1, debug=False):\n",
    "        \"\"\"\n",
    "        A single residual block with optional downsampling.\n",
    "\n",
    "        For compatibility with the pretrained model, declare the left side branch first using a `Sequential`.\n",
    "\n",
    "        If first_stride is > 1, this means the optional (conv + bn) should be present on the right branch. Declare it second using another `Sequential`.\n",
    "        \"\"\"\n",
    "        super().__init__()\n",
    "        if debug:\n",
    "            print(in_feats, out_feats, first_stride)\n",
    "\n",
    "        self.left = Sequential(OrderedDict([\n",
    "            # padding 1 and stride 3 = \"same padding\"  ((k - 1) / 2)\n",
    "            (\"conv1\", Conv2d(\n",
    "                in_feats,\n",
    "                out_feats,\n",
    "                kernel_size=3,\n",
    "                stride=first_stride,\n",
    "                padding=1,\n",
    "                debug=debug,\n",
    "            )),\n",
    "            (\"bn1\", BatchNorm2d(out_feats)),\n",
    "            (\"relu\", ReLU()),\n",
    "            (\"conv2\", Conv2d(out_feats, out_feats, kernel_size=3, stride=1, padding=1)),\n",
    "            (\"bn2\", BatchNorm2d(out_feats)),\n",
    "        ]))\n",
    "\n",
    "        if first_stride == 1 and in_feats == out_feats:\n",
    "            # this means we applied same padding above. so just do identity no need to change.\n",
    "            self.right = Sequential(nn.Identity())\n",
    "        # if we changed number of features, or had a stride != 1\n",
    "        # do a convolution\n",
    "        else:\n",
    "            #  But if either we have strides or a different number of output features, then we can't use the identity for the right branch. Instead we use what is essentially the closest approximation to the identity - a 1x1 convolution with stride & channel arguments chosen to match the shape of the left branch (followed by a batchnorm to standardize the output). Note, you may assume that if `first_stride == 1` then we always have number of input features equal to number of output features (meaning you can use the identity operator for this branch if and only if `first_stride == 1`).\n",
    "            self.right = Sequential(\n",
    "                # note we keep padding 0 with kernel size 1. Identity ish??\n",
    "                Conv2d(\n",
    "                    in_feats,\n",
    "                    out_feats,\n",
    "                    kernel_size=1,\n",
    "                    stride=first_stride,\n",
    "                    padding=0,\n",
    "                    debug=debug,\n",
    "                ),\n",
    "                BatchNorm2d(out_feats),\n",
    "            )\n",
    "\n",
    "        self.relu = ReLU()\n",
    "        self.debug = debug\n",
    "\n",
    "    def forward(self, x: t.Tensor) -> t.Tensor:\n",
    "        \"\"\"\n",
    "        Compute the forward pass.\n",
    "\n",
    "        x: shape (batch, in_feats, height, width)\n",
    "\n",
    "        Return: shape (batch, out_feats, height / stride, width / stride)\n",
    "\n",
    "        If no downsampling block is present, the addition should just add the left branch's output to the input.\n",
    "        \"\"\"\n",
    "        if self.debug:\n",
    "            print(x.shape)\n",
    "        out = self.relu(self.left(x) + self.right(x))\n",
    "        if self.debug:\n",
    "            print(out.shape)\n",
    "        return out\n",
    "\n",
    "\n",
    "tests.test_residual_block(ResidualBlock)"
   ]
  },
  {
   "cell_type": "markdown",
   "metadata": {
    "id": "dQSt4TVg_7LS"
   },
   "source": [
    "### Exercise - implement `BlockGroup`\n",
    "\n",
    "```yaml\n",
    "Difficulty: 🔴🔴🔴⚪⚪\n",
    "Importance: 🔵🔵🔵🔵⚪\n",
    "\n",
    "You should spend up to 10-15 minutes on this exercise.\n",
    "```\n",
    "\n",
    "Implement `BlockGroup` according to the diagram.\n",
    "\n",
    "The number of channels changes from `in_feats` to `out_feats` in the first `ResidualBlock` (all subsequent blocks will have `out_feats` input channels and `out_feats` output channels).\n",
    "\n",
    "The `height` and `width` of the input will only be changed if `first_stride>1` (in which case it will be downsampled by exactly this amount).\n",
    "\n",
    "You can also read the docstring for a description of the input and output shapes.\n"
   ]
  },
  {
   "cell_type": "code",
   "execution_count": 69,
   "metadata": {
    "id": "nKFjfm06_8Wp"
   },
   "outputs": [],
   "source": [
    "class BlockGroup(nn.Module):\n",
    "    def __init__(\n",
    "        self, n_blocks: int, in_feats: int, out_feats: int, first_stride=1, debug=False\n",
    "    ):\n",
    "        \"\"\"An n_blocks-long sequence of ResidualBlock where only the first block uses the provided stride.\"\"\"\n",
    "        super().__init__()\n",
    "        self.blocks = Sequential(\n",
    "             ResidualBlock(in_feats, out_feats, first_stride=first_stride),\n",
    "            *[ResidualBlock(out_feats, out_feats) for _ in range(n_blocks - 1)]\n",
    "        )\n",
    "        if debug:\n",
    "            print(\n",
    "                \"[BlockGroup]\",\n",
    "                in_feats,\n",
    "                \"->\",\n",
    "                out_feats,\n",
    "                \",\",\n",
    "                \"first_stride =\",\n",
    "                first_stride,\n",
    "            )\n",
    "\n",
    "        self.debug = debug\n",
    "\n",
    "    def forward(self, x: t.Tensor) -> t.Tensor:\n",
    "        \"\"\"\n",
    "        Compute the forward pass.\n",
    "\n",
    "        x: shape (batch, in_feats, height, width)\n",
    "\n",
    "        Return: shape (batch, out_feats, height / first_stride, width / first_stride)\n",
    "        \"\"\"\n",
    "        out = self.blocks(x)\n",
    "        if self.debug:\n",
    "            print(\"[BlockGroup]\", \"Input\", x.shape, \"Output\", out.shape)\n",
    "        return out\n",
    "\n",
    "\n",
    "tests.test_block_group(BlockGroup)"
   ]
  },
  {
   "cell_type": "markdown",
   "metadata": {
    "id": "940asI-B_-9i"
   },
   "source": [
    "### Exercise - implement `ResNet34`\n",
    "\n",
    "```yaml\n",
    "Difficulty: 🔴🔴🔴🔴⚪\n",
    "Importance: 🔵🔵🔵🔵⚪\n",
    "\n",
    "You should spend up to 25-30 minutes on this exercise.\n",
    "\n",
    "You may have to return to this and previous exercises, if you find a bug later.\n",
    "```\n",
    "\n",
    "Last step! Assemble `ResNet34` using the diagram.\n",
    "\n",
    "<details>\n",
    "<summary>Help - I'm not sure how to construct each of the BlockGroups.</summary>\n",
    "\n",
    "Each BlockGroup takes arguments `n_blocks`, `in_feats`, `out_feats` and `first_stride`. In the initialisation of `ResNet34` below, we're given a list of `n_blocks`, `out_feats` and `first_stride` for each of the BlockGroups. To find `in_feats` for each block, it suffices to note two things:\n",
    "\n",
    "1. The first `in_feats` should be 64, because the input is coming from the convolutional layer with 64 output channels.\n",
    "2. The `out_feats` of each layer should be equal to the `in_feats` of the subsequent layer (because the BlockGroups are stacked one after the other; with no operations in between to change the shape).\n",
    "\n",
    "You can use these two facts to construct a list `in_features_per_group`, and then create your BlockGroups by zipping through all four lists.\n",
    "\n",
    "</details>\n",
    "\n",
    "<details>\n",
    "<summary>Help - I'm not sure how to construct the 7x7 conv at the very start.</summary>\n",
    "\n",
    "All the information about this convolution is given in the diagram, except for `in_channels`. Recall that the input to this layer is an RGB image. Can you deduce from this how many input channels your layer should have?\n",
    "\n",
    "</details>\n"
   ]
  },
  {
   "cell_type": "code",
   "execution_count": 70,
   "metadata": {},
   "outputs": [],
   "source": [
    "n_blocks_per_group=[3, 4, 6, 3]\n",
    "out_features_per_group=[64, 128, 256, 512]\n",
    "in_features_per_group = [3] + out_features_per_group[:-1]\n",
    "first_strides_per_group=[1, 2, 2, 2]\n",
    "n_classes=1000\n",
    "\n",
    "list(zip(\n",
    "    n_blocks_per_group,\n",
    "    in_features_per_group,\n",
    "    out_features_per_group,\n",
    "    first_strides_per_group,\n",
    "))"
   ]
  },
  {
   "cell_type": "code",
   "execution_count": 86,
   "metadata": {
    "id": "pD2tSK1HAAIN"
   },
   "outputs": [],
   "source": [
    "class ResNet34(nn.Module):\n",
    "    def __init__(\n",
    "        self,\n",
    "        n_blocks_per_group=[3, 4, 6, 3],\n",
    "        out_features_per_group=[64, 128, 256, 512],\n",
    "        first_strides_per_group=[1, 2, 2, 2],\n",
    "        n_classes=1000,\n",
    "    ):\n",
    "        super().__init__()\n",
    "\n",
    "        self.n_blocks_per_group = n_blocks_per_group\n",
    "        self.out_features_per_group = out_features_per_group\n",
    "        self.first_strides_per_group = first_strides_per_group\n",
    "        self.n_classes = n_classes\n",
    "        \n",
    "        self.blocks = Sequential(OrderedDict([\n",
    "            # Note that this is same padding. But stride = 2 reduces it to h / 2 and w / 2\n",
    "            # same padding = (k - 1) / 2 = 7 - 1 / 2 = 6 / 2 = 3\n",
    "            (\"conv1\", Conv2d(in_channels=3, out_channels=64, stride=2, kernel_size=7, padding=3)),\n",
    "            (\"bn1\", BatchNorm2d(num_features=64)),\n",
    "            (\"relu\", ReLU()),\n",
    "            # this is same padding. So stride = 2 will lead to height / 2 and width / 2\n",
    "            (\"maxpool\", MaxPool2d(kernel_size=3, stride=2, padding=1)),\n",
    "            *[\n",
    "                (f\"layer{i+1}\", BlockGroup(\n",
    "                    n_blocks=nb, in_feats=in_f, out_feats=out_f, first_stride=f_str\n",
    "                ))\n",
    "                for i, nb, in_f, out_f, f_str in zip(\n",
    "                    range(len(n_blocks_per_group)),\n",
    "                    n_blocks_per_group,\n",
    "                    [64] + out_features_per_group[:-1],\n",
    "                    out_features_per_group,\n",
    "                    first_strides_per_group,\n",
    "                )\n",
    "            ],\n",
    "            (\"avg\", AveragePool()),\n",
    "            (\"linear\", Linear(in_features = out_features_per_group[-1], out_features=n_classes))\n",
    "        ])\n",
    "        )\n",
    "\n",
    "    def forward(self, x: t.Tensor) -> t.Tensor:\n",
    "        \"\"\"\n",
    "        x: shape (batch, channels, height, width)\n",
    "        Return: shape (batch, n_classes)\n",
    "        \"\"\"\n",
    "        return self.blocks(x)\n",
    "\n",
    "\n",
    "my_resnet = ResNet34()"
   ]
  },
  {
   "cell_type": "markdown",
   "metadata": {
    "id": "tFyxZEj_ADHI"
   },
   "source": [
    "Now that you've built your `ResNet34`, we'll copy weights over from PyTorch's pretrained resnet to yours. This is a good way to verify that you've designed the architecture correctly.\n"
   ]
  },
  {
   "cell_type": "code",
   "execution_count": null,
   "metadata": {
    "id": "zFiExIYeAEXh"
   },
   "outputs": [],
   "source": [
    "def copy_weights(\n",
    "    my_resnet: ResNet34, pretrained_resnet: models.resnet.ResNet\n",
    ") -> ResNet34:\n",
    "    \"\"\"Copy over the weights of `pretrained_resnet` to your resnet.\"\"\"\n",
    "\n",
    "    # Get the state dictionaries for each model, check they have the same number of parameters & buffers\n",
    "    mydict = my_resnet.state_dict()\n",
    "    pretraineddict = pretrained_resnet.state_dict()\n",
    "    # print(pretraineddict.keys(), mydict.keys())\n",
    "    assert len(mydict) == len(pretraineddict), \"Mismatching state dictionaries.\"\n",
    "\n",
    "    # Define a dictionary mapping the names of your parameters / buffers to their values in the pretrained model\n",
    "    state_dict_to_load = {\n",
    "        mykey: pretrainedvalue\n",
    "        for (mykey, myvalue), (pretrainedkey, pretrainedvalue) in zip(\n",
    "            mydict.items(), pretraineddict.items()\n",
    "        )\n",
    "    }\n",
    "\n",
    "    # Load in this dictionary to your model\n",
    "    my_resnet.load_state_dict(state_dict_to_load)\n",
    "\n",
    "    return my_resnet\n",
    "\n",
    "\n",
    "pretrained_resnet = models.resnet34(weights=models.ResNet34_Weights.IMAGENET1K_V1)\n",
    "# my_resnet = copy_weights(my_resnet, pretrained_resnet)"
   ]
  },
  {
   "cell_type": "markdown",
   "metadata": {
    "id": "F4SqVsqoAFi2"
   },
   "source": [
    "This function uses the `state_dict()` method, which returns an `OrderedDict` (documentation [here](https://realpython.com/python-ordereddict/)) object containing all the parameter/buffer names and their values. State dicts can be extracted from models, saved to your filesystem (this is a common way to store the results of training a model), and can also be loaded back into a model using the `load_state_dict` method. (Note that you can also load weights using a regular Python `dict`, but since Python 3.7, the builtin `dict` is guaranteed to maintain items in the order they're inserted.)\n",
    "\n",
    "If the copying fails, this means that your model's layers don't match up with the layers in the PyTorch model implementation.\n",
    "\n",
    "To debug here, we've given you a helpful function `print_param_count` (from `utils.py`), which takes two models and prints out a stylized dataframe comparing the parameter names and shapes of each model. It will tell you when your model matches up with the PyTorch implementation. It can be used as follows:\n"
   ]
  },
  {
   "cell_type": "code",
   "execution_count": null,
   "metadata": {
    "id": "wAAMfNwQTEEa"
   },
   "outputs": [],
   "source": [
    "print_param_count(my_resnet, pretrained_resnet)"
   ]
  },
  {
   "cell_type": "code",
   "execution_count": null,
   "metadata": {},
   "outputs": [],
   "source": []
  },
  {
   "cell_type": "markdown",
   "metadata": {
    "id": "2olK_Yb6TDfI"
   },
   "source": [
    "You'll hopefully see something like the image below (the layer names not necessarily matching, but the parameter counts & shapes hopefully matching).\n",
    "\n",
    "<img src=\"https://raw.githubusercontent.com/callummcdougall/Fundamentals/main/images/resnet-compared.png\" width=\"900\">\n",
    "\n",
    "Tweaking your model until all the layers match up might be a difficult and frustrating exercise at times! However, it's a pretty good example of the kind of low-level model implementation and debugging that is important for your growth as ML engineers. We'll be doing a few more model-building exercises similar to these in later sections.\n"
   ]
  },
  {
   "cell_type": "markdown",
   "metadata": {
    "id": "Qdlj-azIAGzT"
   },
   "source": [
    "## Running Your Model\n",
    "\n",
    "We've provided you with some images for your model to classify:\n"
   ]
  },
  {
   "cell_type": "code",
   "execution_count": 97,
   "metadata": {
    "id": "SaK9CAV3AIG2"
   },
   "outputs": [],
   "source": [
    "IMAGE_FILENAMES = [\n",
    "    \"chimpanzee.jpg\",\n",
    "    \"golden_retriever.jpg\",\n",
    "    \"platypus.jpg\",\n",
    "    \"frogs.jpg\",\n",
    "    \"fireworks.jpg\",\n",
    "    \"astronaut.jpg\",\n",
    "    \"iguana.jpg\",\n",
    "    \"volcano.jpg\",\n",
    "    \"goofy.jpg\",\n",
    "    \"dragonfly.jpg\",\n",
    "]\n",
    "\n",
    "IMAGE_FOLDER = section_dir / \"resnet_inputs\"\n",
    "\n",
    "images = [Image.open(IMAGE_FOLDER / filename) for filename in IMAGE_FILENAMES]"
   ]
  },
  {
   "cell_type": "markdown",
   "metadata": {
    "id": "0GL8fU67AJl3"
   },
   "source": [
    "Our `images` are of type `PIL.Image.Image`, so we can just call them in a cell to display them.\n"
   ]
  },
  {
   "cell_type": "code",
   "execution_count": null,
   "metadata": {
    "id": "0a0wyprlAKMl"
   },
   "outputs": [],
   "source": []
  },
  {
   "cell_type": "markdown",
   "metadata": {
    "id": "AKZX5btkALEZ"
   },
   "source": [
    "We now need to define a `transform` object like we did for MNIST. We will use the same transforms to convert the PIL image to a tensor, and to normalize it. But we also want to resize the images to `height=224, width=224`, because not all of them start out with this size and we need them to be consistent before passing them through our model.\n",
    "\n",
    "In the normalization step, we'll use a mean of `[0.485, 0.456, 0.406]`, and a standard deviation of `[0.229, 0.224, 0.225]` (these are the mean and std dev of images from [ImageNet](https://www.image-net.org/)). Note that the means and std devs have three elements, because ImageNet contains RGB rather than monochrome images, and we're normalising over each of the three RGB channels separately.\n"
   ]
  },
  {
   "cell_type": "code",
   "execution_count": 98,
   "metadata": {
    "id": "wLAjqJp4AM2y"
   },
   "outputs": [],
   "source": [
    "IMAGE_SIZE = 224\n",
    "IMAGENET_MEAN = [0.485, 0.456, 0.406]\n",
    "IMAGENET_STD = [0.229, 0.224, 0.225]\n",
    "\n",
    "IMAGENET_TRANSFORM = transforms.Compose(\n",
    "    [\n",
    "        transforms.ToTensor(),\n",
    "        transforms.Resize((IMAGE_SIZE, IMAGE_SIZE)),\n",
    "        transforms.Normalize(mean=IMAGENET_MEAN, std=IMAGENET_STD),\n",
    "    ]\n",
    ")\n",
    "\n",
    "prepared_images = t.stack([IMAGENET_TRANSFORM(img) for img in images], dim=0)\n",
    "\n",
    "assert prepared_images.shape == (len(images), 3, IMAGE_SIZE, IMAGE_SIZE)"
   ]
  },
  {
   "cell_type": "markdown",
   "metadata": {
    "id": "158B2_GpAMM-"
   },
   "source": [
    "### Exercise - verify your model's predictions\n",
    "\n",
    "```c\n",
    "Difficulty: 🔴🔴⚪⚪⚪\n",
    "Importance: 🔵🔵🔵⚪⚪\n",
    "\n",
    "You should spend up to ~10 minutes on this exercise.\n",
    "```\n",
    "\n",
    "Lastly, you should run your model with these prepared images, and verify that your predictions are the same as the model's predictions.\n",
    "\n",
    "You can do this by filling in the `predict` function below, then running the code. We've also provided you with a file `imagenet_labels.json` which you can use to get the actual classnames of imagenet data, and see what your model's predictions actually are.\n"
   ]
  },
  {
   "cell_type": "code",
   "execution_count": 271,
   "metadata": {},
   "outputs": [],
   "source": [
    "x = t.randint(2, 8, (2, 3))\n",
    "\n",
    "x, x.argmax()"
   ]
  },
  {
   "cell_type": "code",
   "execution_count": null,
   "metadata": {
    "id": "NpHmhQ_lAQrK"
   },
   "outputs": [],
   "source": [
    "def predict(model, images: t.Tensor) -> list[int]:\n",
    "    \"\"\"\n",
    "    Returns the predicted class for each image (as a list of ints).\n",
    "    \"\"\"\n",
    "    out = model(images)\n",
    "    classes = out.argmax(dim=1)\n",
    "    return classes\n",
    "    \n",
    "\n",
    "\n",
    "with open(section_dir / \"imagenet_labels.json\") as f:\n",
    "    imagenet_labels = list(json.load(f).values())\n",
    "\n",
    "# Check your predictions match those of the pretrained model\n",
    "my_predictions = predict(my_resnet, prepared_images)\n",
    "pretrained_predictions = predict(pretrained_resnet, prepared_images)\n",
    "assert all(my_predictions == pretrained_predictions)\n",
    "print(\"All predictions match!\")\n",
    "\n",
    "# Print out your predictions, next to the corresponding images\n",
    "for img, label in zip(images, my_predictions):\n",
    "    print(f\"Class {label}: {imagenet_labels[label]}\")\n",
    "    display(img)\n",
    "    print()"
   ]
  },
  {
   "cell_type": "markdown",
   "metadata": {
    "id": "9kRkih3iAS85"
   },
   "source": [
    "If you've done everything correctly, your version should give the same classifications, and the percentages should match at least to a couple decimal places.\n",
    "\n",
    "If it does, congratulations, you've now run an entire ResNet, using barely any code from `torch.nn`! The only things we used were `nn.Module` and `nn.Parameter`.\n",
    "\n",
    "If it doesn't, you get to practice model debugging! Remember to use the `utils.print_param_count` function that was provided.\n",
    "\n",
    "<details>\n",
    "<summary>Help! My model is predicting roughly the same percentage for every category!</summary>\n",
    "\n",
    "This can indicate that your model weights are randomly initialized, meaning the weight loading process didn't actually take. Or, you reinitialized your model by accident after loading the weights.\n",
    "\n",
    "</details>\n"
   ]
  },
  {
   "cell_type": "markdown",
   "metadata": {
    "id": "s61_73_XAUcP"
   },
   "source": [
    "### Aside - hooks\n",
    "\n",
    "One problem you might have encountered is that your model outputs `NaN`s rather than actual numbers. When debugging this, it's useful to try and identify which module the error first appears in. This is a great use-case for **hooks**, which are something we'll be digging a lot more into during our mechanistic interpretability exercises later on.\n",
    "\n",
    "A hook is basically a function which you can attach to a particular `nn.Module`, which gets executed during your model's forward or backward passes. Here, we'll only consider forward hooks. A hook function's type signature is:\n",
    "\n",
    "```python\n",
    "def hook(module: nn.Module, inputs: list[t.Tensor], output: t.Tensor) -> None:\n",
    "    pass\n",
    "```\n",
    "\n",
    "The `inputs` argument is a list of the inputs to the module (often just one tensor), and the `output` argument is the output of the module. This hook gets registered to a module by calling `module.register_forward_hook(hook)`. During forward passes, the hook function will run.\n",
    "\n",
    "Here is some code which will check for `NaN`s in the output of each module, and raise a `ValueError` if it finds any. We've also given you an example tiny network which produces a `NaN` in the output of the second layer, to demonstrate it on.\n"
   ]
  },
  {
   "cell_type": "code",
   "execution_count": 274,
   "metadata": {
    "id": "73uTZ_iwAVz7"
   },
   "outputs": [],
   "source": [
    "class NanModule(nn.Module):\n",
    "    \"\"\"\n",
    "    Define a module that always returns NaNs (we will use hooks to identify this error).\n",
    "    \"\"\"\n",
    "\n",
    "    def forward(self, x):\n",
    "        return t.full_like(x, float(\"nan\"))\n",
    "\n",
    "\n",
    "model = nn.Sequential(nn.Identity(), NanModule(), nn.Identity())\n",
    "\n",
    "\n",
    "def hook_check_for_nan_output(\n",
    "    module: nn.Module, input: tuple[t.Tensor], output: t.Tensor\n",
    ") -> None:\n",
    "    \"\"\"\n",
    "    Hook function which detects when the output of a layer is NaN.\n",
    "    \"\"\"\n",
    "    if t.isnan(output).any():\n",
    "        raise ValueError(f\"NaN output from {module}\")\n",
    "\n",
    "\n",
    "def add_hook(module: nn.Module) -> None:\n",
    "    \"\"\"\n",
    "    Register our hook function in a module.\n",
    "\n",
    "    Use model.apply(add_hook) to recursively apply the hook to model and all submodules.\n",
    "    \"\"\"\n",
    "    module.register_forward_hook(hook_check_for_nan_output)\n",
    "\n",
    "\n",
    "def remove_hooks(module: nn.Module) -> None:\n",
    "    \"\"\"\n",
    "    Remove all hooks from module.\n",
    "\n",
    "    Use module.apply(remove_hooks) to do this recursively.\n",
    "    \"\"\"\n",
    "    module._backward_hooks.clear()\n",
    "    module._forward_hooks.clear()\n",
    "    module._forward_pre_hooks.clear()\n",
    "\n",
    "\n",
    "model = model.apply(add_hook)\n",
    "input = t.randn(3)\n",
    "\n",
    "try:\n",
    "    output = model(input)\n",
    "except ValueError as e:\n",
    "    print(e)\n",
    "\n",
    "model = model.apply(remove_hooks)"
   ]
  },
  {
   "cell_type": "markdown",
   "metadata": {
    "id": "AAjJsqsGAW5T"
   },
   "source": [
    "When you run this code, you should find it raising an error at the `NanModule`.\n",
    "\n",
    "> Important - when you're working with PyTorch hooks, make sure you remember to remove them at the end of each exercise! This is a classic source of bugs, and one of the things that make PyTorch hooks so janky. When we study TransformerLens in the next chapter, we'll use a version of hooks that is essentially the same under the hood, but comes with quite a few quality of life improvements!\n"
   ]
  },
  {
   "cell_type": "markdown",
   "metadata": {
    "id": "s14T6NUJ7Ivu"
   },
   "source": [
    "# 5️⃣ Bonus - Convolutions From Scratch\n"
   ]
  },
  {
   "cell_type": "markdown",
   "metadata": {
    "id": "X9KqJA1tAazT"
   },
   "source": [
    "> ### Learning objectives\n",
    ">\n",
    "> - Understand how array strides work, and why they're important for efficient linear operations\n",
    "> - Learn how to use `as_strided` to perform simple linear operations like trace and matrix multiplication\n",
    "> - Implement your own convolutions and maxpooling functions using stride-based methods\n"
   ]
  },
  {
   "cell_type": "markdown",
   "metadata": {
    "id": "o3QlojagAeZR"
   },
   "source": [
    "This section is designed to get you familiar with the implementational details of layers like `Linear` and `Conv2d`. You'll be using libraries like `einops`, and functions like `torch.as_strided` to get a very low-level picture of how these operations work, which will help build up your overall understanding.\n",
    "\n",
    "Note that `torch.as_strided` isn't something which will come up explicitly in much of the rest of the course (unlike `einops`). The purpose of the stride exercises is more to give you an appreciation for what's going on under the hood, so that we can build layers of abstraction on top of that during the rest of this week (and by extension this course). I see this as analogous to how [many CS courses](https://cs50.harvard.edu/x/2023/) start by teaching you about languages like C and concepts like pointers and memory management before moving on to higher-level langauges like Python which abstract away these details. The hope is that when you get to the later sections of the course, you'll have the tools to understand them better.\n"
   ]
  },
  {
   "cell_type": "code",
   "execution_count": 4,
   "metadata": {},
   "outputs": [],
   "source": [
    "u = t.arange(10)\n",
    "v = t.arange(5)\n",
    "\n",
    "\n",
    "# repeat each element of u 5 times\n",
    "\n",
    "o1 = t.outer(u, v)\n",
    "o2 = u.as_strided(size=(10, 5), stride=(1, 0)) * v.as_strided((10, 5), stride=(0, 1))\n",
    "\n",
    "if t.all(t.isclose(o1, o2)):\n",
    "    print(\"Outer correct\")\n",
    "else:\n",
    "    print(\"Outer incorrect\")\n",
    "\n",
    "# matmul\n",
    "m = t.arange(10).view(5, 2)\n",
    "n = t.arange(20).view(2, 10)\n",
    "matmul1 = m @ n\n",
    "\n",
    "# m, m.as_strided(size=(5, 2, 10), stride=(1, 1, 0))\n",
    "matmul2 = m.as_strided(size=(5, 2, 10), stride=(2, 1, 0)) * n.as_strided(size=(5, 2, 10), stride=(0, 10, 1))\n",
    "matmul2 = einops.reduce(matmul2, \"row_m row_m_col_m mul -> row_m mul\", t.sum)\n",
    "\n",
    "if t.all(t.isclose(matmul1, matmul2)):\n",
    "    print(\"Matmul correct\")\n",
    "else:\n",
    "    print(\"Matmul incorrect\")"
   ]
  },
  {
   "cell_type": "code",
   "execution_count": 52,
   "metadata": {},
   "outputs": [],
   "source": [
    "t.eye(4, 5)"
   ]
  },
  {
   "cell_type": "code",
   "execution_count": 61,
   "metadata": {},
   "outputs": [],
   "source": [
    "rows = 5\n",
    "cols = 6\n",
    "m = t.ones(rows * cols, dtype=t.float32).reshape(1, 1, rows, cols)\n",
    "k_rows = 2\n",
    "k_cols = 5\n",
    "k = t.eye(k_rows, k_cols).reshape(1, 1, k_rows, k_cols)\n",
    "conv = conv2d(m, k)\n",
    "m, conv, k\n",
    "\n",
    "for r in range(rows):\n",
    "    for c in range(cols):\n",
    "        s = 0\n",
    "        for i in range(k_rows):\n",
    "            for j in range(k_cols):\n",
    "                m_i = r + i\n",
    "                m_j = c + j\n",
    "                \n"
   ]
  },
  {
   "cell_type": "code",
   "execution_count": null,
   "metadata": {},
   "outputs": [],
   "source": []
  },
  {
   "cell_type": "code",
   "execution_count": null,
   "metadata": {},
   "outputs": [],
   "source": []
  },
  {
   "cell_type": "markdown",
   "metadata": {
    "id": "kJmEJuqIAgCp"
   },
   "source": [
    "## Reading\n",
    "\n",
    "- [Python NumPy, 6.1 - `as_strided()`](https://www.youtube.com/watch?v=VlkzN00P0Bc) explains what array strides are.\n",
    "- [`as_strided` and `sum` are all you need](https://jott.live/markdown/as_strided) gives an overview of how to use `as_strided` to perform array operations.\n",
    "- [Advanced NumPy: Master stride tricks with 25 illustrated exercises](https://towardsdatascience.com/advanced-numpy-master-stride-tricks-with-25-illustrated-exercises-923a9393ab20) provides several clear and intuitive examples of `as_strided` being used to construct arrays.\n"
   ]
  },
  {
   "cell_type": "markdown",
   "metadata": {
    "id": "UWyoJvVwAhUf"
   },
   "source": [
    "## Basic stride exercises\n",
    "\n",
    "Array strides, and the `as_strided` method, are important to understand well because lots of linear operations are actually implementing something like `as_strided` under the hood.\n",
    "\n",
    "Run the following code, to define this tensor:\n"
   ]
  },
  {
   "cell_type": "code",
   "execution_count": 63,
   "metadata": {
    "id": "IAGwqQvsAiEm"
   },
   "outputs": [],
   "source": [
    "test_input = t.tensor(\n",
    "    [[0, 1, 2, 3, 4], [5, 6, 7, 8, 9], [10, 11, 12, 13, 14], [15, 16, 17, 18, 19]],\n",
    "    dtype=t.float,\n",
    ")"
   ]
  },
  {
   "cell_type": "markdown",
   "metadata": {
    "id": "--Xk5kawAi54"
   },
   "source": [
    "This tensor is stored in a contiguous block in computer memory.\n",
    "\n",
    "We can call the `stride` method to get the strides of this particular array. Running `test_input.stride()`, we get `(5, 1)`. This means that we need to skip over one element in the storage of this tensor to get to the next element in the row, and 5 elements to get the next element in the column (because you have to jump over all 5 elements in the row). Another way of phrasing this: the `n`th element in the stride is the number of elements we need to skip over to move one index position in the `n`th dimension.\n"
   ]
  },
  {
   "cell_type": "markdown",
   "metadata": {
    "id": "NzDUJNT2Aj7d"
   },
   "source": [
    "### Exercise - fill in the correct size and stride\n",
    "\n",
    "```yaml\n",
    "Difficulty: 🔴🔴🔴🔴⚪\n",
    "Importance: 🔵🔵⚪⚪⚪\n",
    "\n",
    "You should spend up to ~30 minutes on these exercises collectively.\n",
    "\n",
    "as_strided exercises can be notoriously confusing and fiddly, so you should be willing to look at the solution if you're stuck. They are not the most important part of the material today.\n",
    "```\n",
    "\n",
    "In the exercises below, we will work with the `test_input` tensor above. You should fill in the `size` and `stride` arguments so that calling `test_input.as_strided` with these arguments produces the desired output. When you run the cell, the `for` loop at the end will iterate through the test cases and print out whether the test passed or failed.\n",
    "\n",
    "We've already filled in the first two as an example, along with illustrations explaining what's going on:\n",
    "\n",
    "<img src=\"https://raw.githubusercontent.com/callummcdougall/computational-thread-art/master/example_images/misc/strides2.png\" width=\"650\">\n",
    "\n",
    "By the end of these examples, hopefully you'll have a clear idea of what's going on. If you're still confused by some of these, then the dropdown below the codeblock contains some annotations to explain the answers.\n"
   ]
  },
  {
   "cell_type": "code",
   "execution_count": 82,
   "metadata": {},
   "outputs": [],
   "source": []
  },
  {
   "cell_type": "code",
   "execution_count": 68,
   "metadata": {},
   "outputs": [],
   "source": [
    "t.rand(4).shape"
   ]
  },
  {
   "cell_type": "code",
   "execution_count": 78,
   "metadata": {
    "id": "SuENcLRfAliH"
   },
   "outputs": [],
   "source": [
    "import torch as t\n",
    "from collections import namedtuple\n",
    "\n",
    "TestCase = namedtuple(\"TestCase\", [\"output\", \"size\", \"stride\"])\n",
    "\n",
    "test_cases = [\n",
    "    TestCase(\n",
    "        output=t.tensor([0, 1, 2, 3]),\n",
    "        size=(4,),\n",
    "        stride=(1,),\n",
    "    ),\n",
    "    TestCase(\n",
    "        output=t.tensor([[0, 2], [5, 7]]),\n",
    "        size=(2, 2),\n",
    "        stride=(5, 2),\n",
    "    ),\n",
    "    TestCase(\n",
    "        output=t.tensor([0, 1, 2, 3, 4]),\n",
    "        size=(5,),\n",
    "        stride=(1,),\n",
    "    ),\n",
    "    TestCase(\n",
    "        output=t.tensor([0, 5, 10, 15]),\n",
    "        size=(4,),\n",
    "        stride=(5,),\n",
    "    ),\n",
    "    TestCase(\n",
    "        output=t.tensor([[0, 1, 2], [5, 6, 7]]),\n",
    "        size=(2, 3),\n",
    "        stride=(5, 1),\n",
    "    ),\n",
    "    TestCase(\n",
    "        output=t.tensor([[0, 1, 2], [10, 11, 12]]),\n",
    "        size=(2, 3),\n",
    "        stride=(10, 1),\n",
    "    ),\n",
    "    TestCase(\n",
    "        output=t.tensor([[0, 0, 0], [11, 11, 11]]),\n",
    "        size=(2, 3),\n",
    "        stride=(11, 0),\n",
    "    ),\n",
    "    TestCase(\n",
    "        output=t.tensor([0, 6, 12, 18]),\n",
    "        size=(4, ),\n",
    "        stride=(6, ),\n",
    "    ),\n",
    "]\n",
    "\n",
    "for i, test_case in enumerate(test_cases):\n",
    "    if (test_case.size is None) or (test_case.stride is None):\n",
    "        print(f\"Test {i} failed: attempt missing.\")\n",
    "    else:\n",
    "        actual = test_input.as_strided(size=test_case.size, stride=test_case.stride)\n",
    "        if (test_case.output != actual).any():\n",
    "            print(f\"Test {i} failed:\")\n",
    "            print(f\"Expected: {test_case.output}\")\n",
    "            print(f\"Actual: {actual}\")\n",
    "        else:\n",
    "            print(f\"Test {i} passed!\")"
   ]
  },
  {
   "cell_type": "markdown",
   "metadata": {
    "id": "botRE5uJAo8-"
   },
   "source": [
    "## Intermediate stride exercises\n",
    "\n",
    "Now that you're comfortable with the basics, we'll dive a little deeper with `as_strided`. In the last few exercises of this section, you'll start to implement some more challenging stride functions: trace, matrix-vector and matrix-matrix multiplication, just like we did for `einsum` in the previous section.\n"
   ]
  },
  {
   "cell_type": "markdown",
   "metadata": {
    "id": "7GSNNOztAp9L"
   },
   "source": [
    "### Exercise - trace\n",
    "\n",
    "```yaml\n",
    "Difficulty: 🔴🔴⚪⚪⚪\n",
    "Importance: 🔵🔵⚪⚪⚪\n",
    "\n",
    "You should spend up to 10-15 minutes on this exercise.\n",
    "\n",
    "Use the hint if you're stuck.\n",
    "```\n"
   ]
  },
  {
   "cell_type": "code",
   "execution_count": 83,
   "metadata": {
    "id": "TDhgB-K8Aqp1"
   },
   "outputs": [],
   "source": [
    "def as_strided_trace(mat: Float[Tensor, \"i j\"]) -> Float[Tensor, \"\"]:\n",
    "    \"\"\"\n",
    "    Returns the same as `torch.trace`, using only `as_strided` and `sum` methods.\n",
    "    \"\"\"\n",
    "    i, j = mat.shape\n",
    "    return mat.as_strided(size=(i, ), stride=(j + 1, )).sum()\n",
    "\n",
    "\n",
    "tests.test_trace(as_strided_trace)"
   ]
  },
  {
   "cell_type": "markdown",
   "metadata": {
    "id": "edGiIjSpArxv"
   },
   "source": [
    "<details>\n",
    "<summary>Hint</summary>\n",
    "\n",
    "The trace is the sum of all the elements you get from starting at `[0, 0]` and then continually stepping down and right one element. Use strides to create a 1D array which contains these elements.\n",
    "\n",
    "</details>\n"
   ]
  },
  {
   "cell_type": "markdown",
   "metadata": {
    "id": "Ul_HRILDAs3Y"
   },
   "source": [
    "### Exercise - matrix-vector multiplication\n",
    "\n",
    "```yaml\n",
    "Difficulty: 🔴🔴🔴⚪⚪\n",
    "Importance: 🔵🔵🔵⚪⚪\n",
    "\n",
    "You should spend up to 15-20 minutes on this exercise.\n",
    "\n",
    "The hints should be especially useful here if you're stuck. There are two hints available to you.\n",
    "```\n",
    "\n",
    "You should implement this using only `as_strided` and `sum` methods, and elementwise multiplication `*` - in other words, no matrix multiplication functions!\n"
   ]
  },
  {
   "cell_type": "code",
   "execution_count": 100,
   "metadata": {},
   "outputs": [],
   "source": [
    "m = t.randint(2, 5, (2, 10))\n",
    "v = t.arange(10)\n",
    "m @ v, m, v, (m * v.as_strided(size=(2, 10), stride=(0, 1))).sum(dim=1)"
   ]
  },
  {
   "cell_type": "code",
   "execution_count": 115,
   "metadata": {},
   "outputs": [],
   "source": [
    "vec = t.tensor([0.0823, 1.2023, 0.0479, 2.0087])\n",
    "j,  = vec.shape\n",
    "\n",
    "vec.as_strided(size=(4, j), stride=(0, 1))"
   ]
  },
  {
   "cell_type": "code",
   "execution_count": 117,
   "metadata": {
    "id": "_hrXwmeWAxJo"
   },
   "outputs": [],
   "source": [
    "def as_strided_mv(\n",
    "    mat: Float[Tensor, \"i j\"], vec: Float[Tensor, \"j\"]\n",
    ") -> Float[Tensor, \"i\"]:\n",
    "    \"\"\"\n",
    "    Returns the same as `torch.matmul`, using only `as_strided` and `sum` methods.\n",
    "    \"\"\"\n",
    "    i, j = mat.shape\n",
    "    strideV = vec.stride()\n",
    "    v = vec.as_strided(size=(i, j), stride=(0, strideV[0]))\n",
    "    return (mat * v).sum(dim=1)\n",
    "\n",
    "\n",
    "tests.test_mv(as_strided_mv)\n",
    "tests.test_mv2(as_strided_mv)"
   ]
  },
  {
   "cell_type": "markdown",
   "metadata": {
    "id": "g0pl3_O2AzHS"
   },
   "source": [
    "<details>\n",
    "<summary>Hint 1</summary>\n",
    "\n",
    "You want your output array to be as follows:\n",
    "\n",
    "$$\n",
    "\\text{output}[i] = \\sum_j \\text{mat}[i, j] \\times \\text{vector}[j]\n",
    "$$\n",
    "\n",
    "so first try to create an array with:\n",
    "\n",
    "$$\n",
    "\\text{arr}[i, j] = \\text{mat}[i, j] \\times \\text{vector}[j]\n",
    "$$\n",
    "\n",
    "then you can calculate `output` by summing over the second dimension of `arr`.\n",
    "\n",
    "</details>\n",
    "\n",
    "<details>\n",
    "<summary>Hint 2</summary>\n",
    "\n",
    "First try to use strides to create `vec_expanded` such that:\n",
    "\n",
    "$$\n",
    "\\text{vec\\_expanded}[i, j] = \\text{vec}[j]\n",
    "$$\n",
    "\n",
    "We can then compute:\n",
    "\n",
    "$$\n",
    "\\begin{align}\n",
    "\\text{arr}[i, j] &= \\text{mat}[i, j] \\times \\text{vec\\_expanded}[i, j] \\\\\n",
    "\\text{output}[i, j] &= \\sum_j \\text{arr}[i, j]\n",
    "\\end{align}\n",
    "$$\n",
    "\n",
    "with the first equation being a simple elementwise multiplication, and the second equation being a sum over the second dimension.\n",
    "\n",
    "</details>\n",
    "\n",
    "<details>\n",
    "<summary>Help - I'm passing the first test, but failing the second.</summary>\n",
    "\n",
    "It's possible that the input matrices you recieve could themselves be the output of an `as_strided` operation, so that they're represented in memory in a non-contiguous way. Make sure that your `as_strided `operation is using the strides from the original input arrays, i.e. it's not just assuming the last element in the `stride()` tuple is 1.\n",
    "\n",
    "</details>\n"
   ]
  },
  {
   "cell_type": "markdown",
   "metadata": {
    "id": "TVPY8njeA0mP"
   },
   "source": [
    "### Exercise - matrix-matrix multiplication\n",
    "\n",
    "```yaml\n",
    "Difficulty: 🔴🔴🔴🔴⚪\n",
    "Importance: 🔵🔵🔵⚪⚪\n",
    "\n",
    "You should spend up to 15-20 minutes on this exercise.\n",
    "\n",
    "The hints should be especially useful here if you're stuck. There are two hints available to you.\n",
    "```\n",
    "\n",
    "Like the previous function, this should only involve `as_strided`, `sum`, and pointwise multiplication.\n"
   ]
  },
  {
   "cell_type": "code",
   "execution_count": 165,
   "metadata": {},
   "outputs": [],
   "source": [
    "matA = t.randint(3, (2, 3))\n",
    "matB = t.randint(2, (3, 4))\n",
    "\n",
    "i, j = matA.shape\n",
    "j, k = matB.shape\n",
    "\n",
    "# final shape has to be i x k\n",
    "\n",
    "strideA = matA.stride()\n",
    "strideB = matB.stride()\n",
    "\n",
    "stA = matA.as_strided(size=(i, k, j), stride=(j, 0, 1))\n",
    "stB = matB.as_strided(size=(i, k, j), stride=(0, j, 1))\n",
    "matA @ matB, (stA * stB).sum(dim=-1)"
   ]
  },
  {
   "cell_type": "code",
   "execution_count": null,
   "metadata": {},
   "outputs": [],
   "source": []
  },
  {
   "cell_type": "code",
   "execution_count": null,
   "metadata": {},
   "outputs": [],
   "source": []
  },
  {
   "cell_type": "code",
   "execution_count": 182,
   "metadata": {
    "id": "-3dPJSY3A12F"
   },
   "outputs": [],
   "source": [
    "def as_strided_mm(\n",
    "    matA: Float[Tensor, \"i j\"], matB: Float[Tensor, \"j k\"]\n",
    ") -> Float[Tensor, \"i k\"]:\n",
    "    \"\"\"\n",
    "    Returns the same as `torch.matmul`, using only `as_strided` and `sum` methods.\n",
    "    \"\"\"\n",
    "    # convert both to a i x k x j matrix\n",
    "    i, j = matA.shape\n",
    "    j, k = matB.shape\n",
    "\n",
    "    # final shape has to be i x k\n",
    "    strideA = matA.stride()\n",
    "    strideB = matB.stride()\n",
    "\n",
    "    stA = matA.as_strided(size=(i, k, j), stride=(strideA[0], 0, strideA[1]))\n",
    "    stB = matB.as_strided(size=(i, k, j), stride=(0, strideB[1], strideB[0]))\n",
    "    return (stA * stB).sum(dim=-1)\n",
    "\n",
    "\n",
    "tests.test_mm(as_strided_mm)\n",
    "tests.test_mm2(as_strided_mm)"
   ]
  },
  {
   "cell_type": "code",
   "execution_count": null,
   "metadata": {},
   "outputs": [],
   "source": []
  },
  {
   "cell_type": "markdown",
   "metadata": {
    "id": "FngMxa-CA3zd"
   },
   "source": [
    "<details>\n",
    "<summary>Hint 1</summary>\n",
    "\n",
    "If you did the first one, this isn't too dissimilar. We have:\n",
    "\n",
    "$$\n",
    "\\text{output}[i, k] = \\sum_j \\text{matA}[i, j] \\times \\text{matB}[j, k]\n",
    "$$\n",
    "\n",
    "so in this case, try to create an array with:\n",
    "\n",
    "$$\n",
    "\\text{arr}[i, j, k] = \\text{matA}[i, j] \\times \\text{matB}[j, k]\n",
    "$$\n",
    "\n",
    "then sum this array over `j` to get our output.\n",
    "\n",
    "We need to create expanded versions of both `matA` and `matB` in order to take this product.\n",
    "\n",
    "</details>\n",
    "\n",
    "<details>\n",
    "<summary>Hint 2</summary>\n",
    "\n",
    "We want to compute\n",
    "\n",
    "$$\n",
    "\\text{matA\\_expanded}[i, j, k] = \\text{matA}[i, j]\n",
    "$$\n",
    "\n",
    "so our stride for `matA` should be `(matA.stride(0), matA.stride(1), 0)`.\n",
    "\n",
    "A similar idea applies for `matB`.\n",
    "\n",
    "</details>\n"
   ]
  },
  {
   "cell_type": "markdown",
   "metadata": {
    "id": "OMQ4W5raA5Eq"
   },
   "source": [
    "## conv1d minimal\n",
    "\n",
    "Here, we will implement the PyTorch `conv1d` function, which can be found [here](https://pytorch.org/docs/stable/generated/torch.nn.Conv1d.html). We will start with a simple implementation where `stride=1` and `padding=0`, with the other arguments set to their default values.\n",
    "\n",
    "Firstly, some explanation of `conv1d` in PyTorch. The `1` in `1d` here refers to the number of dimensions along which we slide the weights (also called the kernel) when we convolve. Importantly, it does not refer to the number of dimensions of the tensors that are being used in our calculations. Typically the input and kernel are both 3D:\n",
    "\n",
    "- `input.shape = (batch, in_channels, width)`\n",
    "- `kernel.shape = (out_channels, in_channels, kernel_width)`\n",
    "\n",
    "A typical convolution operation is illustrated in the sketch below. Some notes on this sketch:\n",
    "\n",
    "- The `kernel_width` dimension of the kernel slides along the `width` dimension of the input. The `output_width` of the output is determined by the number of kernels that can be fit inside it; the formula can be seen in the right part of the sketch.\n",
    "- For each possible position of the kernel inside the model (i.e. each freezeframe position in the sketch), the operation happening is as follows:\n",
    "  - We take the product of the kernel values with the corresponding input values, and then take the sum\n",
    "  - This gives us a single value for each output channel\n",
    "  - These values are then passed into the output tensor\n",
    "- The sketch assumes a batch size of 1. To generalise to a larger batch number, we can just imagine this operation being repeated identically on every input.\n",
    "\n",
    "<img src=\"https://raw.githubusercontent.com/callummcdougall/computational-thread-art/master/example_images/misc/ch0-conv1d-general.png\" width=1050>\n"
   ]
  },
  {
   "cell_type": "markdown",
   "metadata": {
    "id": "g7TYxZ4yA6E4"
   },
   "source": [
    "### A note on `out_channels`\n",
    "\n",
    "The out_channels in a conv2d layer denotes the number of filters the layer uses. Each filter detects specific features in the input, producing an output with as many channels as filters.\n",
    "\n",
    "This number isn't tied to the input image's channels but is a design choice in the neural network architecture. Commonly, powers of 2 are chosen for computational efficiency, and deeper layers might have more channels to capture complex features. Additionally, this parameter is sometimes chosen based on the heuristic of wanting to balance the parameter count / compute for each layer - which is why you often see `out_channels` growing as the size of each feature map gets smaller.\n"
   ]
  },
  {
   "cell_type": "markdown",
   "metadata": {
    "id": "xBuudWSnA7S4"
   },
   "source": [
    "### Exercise - implement minimal 1D conv (part 1)\n",
    "\n",
    "```yaml\n",
    "Difficulty: 🔴🔴🔴🔴⚪\n",
    "Importance: 🔵🔵⚪⚪⚪\n",
    "\n",
    "You should spend up to 15-20 minutes on this exercise.\n",
    "\n",
    "Use the diagram in the dropdown below, if you're stuck.\n",
    "```\n",
    "\n",
    "Below, you should implement `conv1d_minimal`. This is a function which works just like `conv1d`, but takes the default stride and padding values (these will be added back in later). You are allowed to use `as_strided` and `einsum`.\n",
    "\n",
    "Because this is a difficult exercise, we've given you a \"simplified\" function to implement first. This gets rid of the batch dimension, and input & output channel dimensions, so you only have to think about `x` and `weights` being one-dimensional tensors:\n",
    "\n",
    "<img src=\"https://raw.githubusercontent.com/callummcdougall/computational-thread-art/master/example_images/misc/ch0-conv1d-A.png\" width=620>\n"
   ]
  },
  {
   "cell_type": "code",
   "execution_count": 254,
   "metadata": {},
   "outputs": [],
   "source": [
    "from torch import conv1d\n",
    "\n",
    "\n",
    "x = t.arange(10)\n",
    "k = t.arange(4)\n",
    "w, = x.shape\n",
    "kw, = k.shape\n",
    "output_width = w - kw + 1\n",
    "stride_input = x.stride()\n",
    "stride_k = k.stride()\n",
    "\n",
    "view_x = x.as_strided(size=(output_width, kw), stride=(stride_input[0], 1))\n",
    "view_k = k.as_strided(size=(output_width, kw), stride=(0, 1))\n",
    "\n",
    "# einops.einsum(view_x, view_k, \"outw kw, outw kw -> outw\"), t.conv1d(x.reshape(1, 1, w), k.reshape(1, 1, kw))\n",
    "x, view_x"
   ]
  },
  {
   "cell_type": "code",
   "execution_count": 221,
   "metadata": {
    "id": "ZaixoAbSA8tX"
   },
   "outputs": [],
   "source": [
    "def conv1d_minimal_simple(\n",
    "    x: Float[Tensor, \"w\"], weights: Float[Tensor, \"kw\"]\n",
    ") -> Float[Tensor, \"ow\"]:\n",
    "    \"\"\"\n",
    "    Like torch's conv1d using bias=False and all other keyword arguments left at their default values.\n",
    "\n",
    "    Simplifications: batch = input channels = output channels = 1.\n",
    "\n",
    "    x: shape (width,)\n",
    "    weights: shape (kernel_width,)\n",
    "\n",
    "    Returns: shape (output_width,)\n",
    "    \"\"\"\n",
    "    \n",
    "    w, = x.shape\n",
    "    kw, = weights.shape\n",
    "    output_width = w - kw + 1\n",
    "    stride_input = x.stride()\n",
    "\n",
    "    view_x = x.as_strided(size=(output_width, kw), stride=(stride_input[0], 1))\n",
    "    view_k = weights.as_strided(size=(output_width, kw), stride=(0, 1))\n",
    "\n",
    "    return einops.einsum(view_x, view_k, \"outw kw, outw kw -> outw\")\n",
    "\n",
    "\n",
    "tests.test_conv1d_minimal_simple(conv1d_minimal_simple)"
   ]
  },
  {
   "cell_type": "markdown",
   "metadata": {
    "id": "F67R7lk-A-cA"
   },
   "source": [
    "<details>\n",
    "<summary>If you're stuck on <code>conv1d_minimal_simple</code>, click here to see a diagram which should help.</summary>\n",
    "\n",
    "This diagram illustrates the striding operation you'll need to perform on `x`. Once you do this, it's just a matter of using the right `einsum` operation to get the output.\n",
    "\n",
    "<img src=\"https://raw.githubusercontent.com/callummcdougall/computational-thread-art/master/example_images/misc/ch0-conv1d-explained.png\" width=800>\n",
    "</details>\n"
   ]
  },
  {
   "cell_type": "markdown",
   "metadata": {
    "id": "l_U-UBFwBJ2c"
   },
   "source": [
    "### Exercise - implement minimal 1D conv (part 2)\n",
    "\n",
    "```yaml\n",
    "Difficulty: 🔴🔴🔴🔴⚪\n",
    "Importance: 🔵🔵⚪⚪⚪\n",
    "\n",
    "You should spend up to 15-25 minutes on this exercise.\n",
    "```\n",
    "\n",
    "Once you've implemented this function, you should now adapt it to make a \"full version\", which includes batch, in_channel and out_channel dimensions. If you're stuck, the dropdowns provide hints for how each of these new dimensions should be handled.\n"
   ]
  },
  {
   "cell_type": "code",
   "execution_count": null,
   "metadata": {},
   "outputs": [],
   "source": [
    "b = 1\n",
    "ic = 2\n",
    "w = 3\n",
    "oc = 3\n",
    "kw = 2\n",
    "\n",
    "x = t.randint(10, (b, ic, w))\n",
    "weights = t.randint(3, (oc, ic, kw))\n",
    "output_width = w - kw + 1 # 3 - 2 + 1 = 2\n",
    "\n",
    "stride_x = x.stride()\n",
    "stride_weights = weights.stride()\n",
    "\n",
    "# we want each of the oc kernels to see the ic, w strided matrix\n",
    "# also each kernel will result in output_width number of items\n",
    "# so we will have batch, each item in the batch sees oc kernels\n",
    "# each kernel causes output_width outputs\n",
    "x_strided = x.as_strided(size=(b, oc, output_width, ic, kw), stride=(stride_x[0], 0,  stride_x[2], stride_x[1], stride_x[2]))\n",
    "weights_strided = weights.as_strided(size=(b, oc, output_width, ic, kw), stride=(0, stride_weights[0], 0, stride_weights[1], stride_weights[2]))\n",
    "\n",
    "print(f\"Input channels: {ic}\")\n",
    "print(f\"Output channels: {oc}\")\n",
    "print(f\"Each kernel has this many steps for each of the ic input channels): {output_width}\")\n",
    "\n",
    "# weights, weights_strided\n",
    "# (x_strided * weights_strided).sum(dim=(-1, -2)), conv1d(x, weights)\n",
    "# x_strided = x.as_strided(size=(b, ic, output_width, kw), stride=(stride_x[0], stride_x[1], stride_x[2], stride_x[2]))\n",
    "x, x_strided\n",
    "\n",
    "# x is b, ic, output_width, kw\n",
    "# weights is oc ic kw\n",
    "# x, x_strided, weights, einops.einsum(x_strided, weights, \"b ic ow kw, oc ic kw -> b oc ow\")\n",
    "# x, x_strided, weights, weights.unsqueeze(0).unsqueeze(3).expand(x_strided.shape[0], weights.shape[0], weights.shape[1], x_strided.shape[2], weights.shape[2])\n"
   ]
  },
  {
   "cell_type": "code",
   "execution_count": 4,
   "metadata": {
    "id": "6xb_NYuOBBTv"
   },
   "outputs": [],
   "source": [
    "def conv1d_minimal(\n",
    "    x: Float[Tensor, \"b ic w\"], weights: Float[Tensor, \"oc ic kw\"]\n",
    ") -> Float[Tensor, \"b oc ow\"]:\n",
    "    \"\"\"\n",
    "    Like torch's conv1d using bias=False and all other keyword arguments left at their default values.\n",
    "\n",
    "    x: shape (batch, in_channels, width)\n",
    "    weights: shape (out_channels, in_channels, kernel_width)\n",
    "\n",
    "    Returns: shape (batch, out_channels, output_width)\n",
    "    \"\"\"\n",
    "    b, ic, w = x.shape\n",
    "    oc, ic, kw, = weights.shape\n",
    "    output_width = w - kw + 1\n",
    "\n",
    "    stride_x = x.stride()\n",
    "    stride_weights = weights.stride()\n",
    "\n",
    "    # we want each of the oc kernels to see the ic, w strided matrix\n",
    "    # also each kernel will result in output_width number of items\n",
    "    # so we will have batch, each item in the batch sees oc kernels\n",
    "    # each kernel causes output_width outputs\n",
    "    # x_strided = x.as_strided(size=(b, oc, output_width, ic, kw), stride=(stride_x[0], 0,  stride_x[2], stride_x[1], stride_x[2]))\n",
    "    # weights_strided = weights.as_strided(size=(b, oc, output_width, ic, kw), stride=(0, stride_weights[0], 0, stride_weights[1], stride_weights[2]))\n",
    "\n",
    "    # print(f\"Input channels: {ic}\")\n",
    "    # print(f\"Output channels: {oc}\")\n",
    "    # print(f\"Each kernel has this many steps for each of the ic input channels): {output_width}\")\n",
    "\n",
    "    # x, x_strided\n",
    "    # weights, weights_strided\n",
    "    # return (x_strided * weights_strided).sum(dim=(-1, -2))\n",
    "\n",
    "    # from solution:\n",
    "    x_strided = x.as_strided(size=(b, ic, output_width, kw), stride=(stride_x[0], stride_x[1], stride_x[2], stride_x[2]))\n",
    "\n",
    "    return einops.einsum(x_strided, weights, \"b ic ow kw, oc ic kw -> b oc ow\")\n",
    "\n",
    "    \n",
    "\n",
    "\n",
    "tests.test_conv1d_minimal(conv1d_minimal)"
   ]
  },
  {
   "cell_type": "markdown",
   "metadata": {
    "id": "eyPivH7UBErm"
   },
   "source": [
    "<details>\n",
    "<summary>Help - I'm stuck on going from <code>conv1d_minimal_simple</code> to <code>conv1d_minimal</code>.</summary>\n",
    "\n",
    "The principle is the same as before. In your function, you should:\n",
    "\n",
    "- Create a strided version of `x` by adding a dimension of length `output_width` and with the same stride as the `width` stride of `x` (the purpose of which is to be able to do all the convolutions at once).\n",
    "- Perform an einsum between this strided version of `x` and `weights`, summing over the appropriate dimensions.\n",
    "\n",
    "The way each of the new dimensions `batch`, `out_channels` and `in_channels` are handled is as follows:\n",
    "\n",
    "- `batch` - this is an extra dimension for `x`, it is _not_ summed over when creating `output`.\n",
    "- `out_channels` - this is an extra dimension for `weights`, it is _not_ summed over when creating `output`.\n",
    "- `in_channels` - this is an extra dimension for `weights` _and_ for `x`, it _is_ summed over when creating `output`.\n",
    "</details>\n"
   ]
  },
  {
   "cell_type": "markdown",
   "metadata": {
    "id": "U2QEYj_vBg2c"
   },
   "source": [
    "## conv2d minimal\n",
    "\n",
    "2D convolutions are conceptually similar to 1D. The only difference is in how you move the kernel across the tensor as you take your convolution. In this case, you will be moving the tensor across two dimensions:\n",
    "\n",
    "<img src=\"https://raw.githubusercontent.com/callummcdougall/computational-thread-art/master/example_images/misc/ch0-conv2d-B.png\" width=850>\n",
    "\n",
    "For this reason, 1D convolutions tend to be used for signals (e.g. audio), 2D convolutions are used for images, and 3D convolutions are used for 3D scans (e.g. in medical applications).\n"
   ]
  },
  {
   "cell_type": "markdown",
   "metadata": {
    "id": "qOweHTUdBiYN"
   },
   "source": [
    "### Exercise - implement 2D minimal convolutions\n",
    "\n",
    "```yaml\n",
    "Difficulty: 🔴🔴🔴🔴⚪\n",
    "Importance: 🔵🔵⚪⚪⚪\n",
    "\n",
    "You should spend up to 20-25 minutes on this exercise.\n",
    "\n",
    "Use the diagram in the dropdown below, if you're stuck.\n",
    "```\n",
    "\n",
    "You should implement `conv2d` in a similar way to `conv1d`. Again, this is expected to be difficult and there are several hints you can go through.\n"
   ]
  },
  {
   "cell_type": "code",
   "execution_count": 31,
   "metadata": {},
   "outputs": [],
   "source": [
    "from torch import conv2d\n",
    "\n",
    "b = 1\n",
    "ic = 2\n",
    "oc = 3\n",
    "h = 3\n",
    "w = 4\n",
    "kh = 2\n",
    "kw = 2\n",
    "\n",
    "oh = h - kh + 1\n",
    "ow = w - kw + 1\n",
    "\n",
    "x = t.randint(10, (b, ic, h, w))\n",
    "k = t.randint(3, (oc, ic, kh, kw))\n",
    "\n",
    "sx_b, sx_ic, sx_kh, sx_kw = x.stride()\n",
    "\n",
    "sk_oc, sk_ic, sk_h, sk_w = k.stride()\n",
    "# each kernel's output channel\n",
    "# will see each input channel\n",
    "# we will first create both to be the same sized tensors\n",
    "# print()\n",
    "x_strided = x.as_strided(size=(b, oc, ic, oh, ow, kh, kw), stride=(sx_b, 0, sx_ic, sx_h, sx_w, sx_h, sx_w))\n",
    "\n",
    "einops.einsum(x_strided, k, \"b oc ic oh ow kh kw, oc ic kh kw -> b oc oh ow\"), conv2d(x, k)"
   ]
  },
  {
   "cell_type": "code",
   "execution_count": null,
   "metadata": {},
   "outputs": [],
   "source": []
  },
  {
   "cell_type": "code",
   "execution_count": null,
   "metadata": {},
   "outputs": [],
   "source": []
  },
  {
   "cell_type": "code",
   "execution_count": null,
   "metadata": {},
   "outputs": [],
   "source": []
  },
  {
   "cell_type": "code",
   "execution_count": 37,
   "metadata": {
    "id": "K2gWlN--BjWx"
   },
   "outputs": [],
   "source": [
    "def conv2d_minimal(\n",
    "    x: Float[Tensor, \"b ic h w\"], weights: Float[Tensor, \"oc ic kh kw\"]\n",
    ") -> Float[Tensor, \"b oc oh ow\"]:\n",
    "    \"\"\"\n",
    "    Like torch's conv2d using bias=False and all other keyword arguments left at their default values.\n",
    "\n",
    "    x: shape (batch, in_channels, height, width)\n",
    "    weights: shape (out_channels, in_channels, kernel_height, kernel_width)\n",
    "\n",
    "    Returns: shape (batch, out_channels, output_height, output_width)\n",
    "    \"\"\"\n",
    "    b, ic, h, w = x.shape\n",
    "    oc, ic, kh, kw = weights.shape\n",
    "\n",
    "    oh = h - kh + 1\n",
    "    ow = w - kw + 1\n",
    "\n",
    "    sx_b, sx_ic, sx_h, sx_w = x.stride()\n",
    "    # each kernel's output channel\n",
    "    # will see each input channel\n",
    "    # we will first create both to be the same sized tensors\n",
    "    # print()\n",
    "    x_strided = x.as_strided(size=(b, ic, oh, ow, kh, kw), stride=(sx_b, sx_ic, sx_h, sx_w, sx_h, sx_w))\n",
    "\n",
    "    return einops.einsum(x_strided, weights, \"b ic oh ow kh kw, oc ic kh kw -> b oc oh ow\")\n",
    "\n",
    "\n",
    "tests.test_conv2d_minimal(conv2d_minimal)"
   ]
  },
  {
   "cell_type": "markdown",
   "metadata": {
    "id": "aYf8KQDLBksZ"
   },
   "source": [
    "<details>\n",
    "<summary>Hint & diagram</summary>\n",
    "\n",
    "You should be doing the same thing that you did for the 1D version. The only difference is that you're introducing 2 new dimensions to your strided version of x, rather than 1 (their sizes should be `output_height` and `output_width`, and their strides should be the same as the original `height` and `width` strides of `x` respectively).\n",
    "\n",
    "<img src=\"https://raw.githubusercontent.com/callummcdougall/computational-thread-art/master/example_images/misc/ch0-conv2d-explained.png\" width=1000>\n",
    "</details>\n"
   ]
  },
  {
   "cell_type": "markdown",
   "metadata": {
    "id": "IGmDZNLYBl3j"
   },
   "source": [
    "## Padding\n"
   ]
  },
  {
   "cell_type": "markdown",
   "metadata": {
    "id": "QwjtT9jCBo59"
   },
   "source": [
    "For a full version of `conv`, and for `maxpool` (which will follow shortly), you'll need to implement `pad` helper functions. PyTorch has some very generic padding functions, but to keep things simple and build up gradually, we'll write 1D and 2D functions individually.\n"
   ]
  },
  {
   "cell_type": "markdown",
   "metadata": {
    "id": "r8L-K0noBm0k"
   },
   "source": [
    "### Exercise - implement padding\n",
    "\n",
    "```yaml\n",
    "Difficulty: 🔴🔴⚪⚪⚪\n",
    "Importance: 🔵🔵⚪⚪⚪\n",
    "\n",
    "You should spend up to 15-20 minutes on this exercise, and the next.\n",
    "```\n",
    "\n",
    "Tips:\n",
    "\n",
    "- Use the `new_full` method of the input tensor. This is a clean way to ensure that the output tensor is on the same device as the input, and has the same dtype.\n",
    "- You can use three dots to denote slicing over multiple dimensions. For instance, `x[..., 0]` will take the `0th` slice of `x` along its last dimension. This is equivalent to `x[:, 0]` for 2D, `x[:, :, 0]` for 3D, etc.\n"
   ]
  },
  {
   "cell_type": "code",
   "execution_count": 11,
   "metadata": {},
   "outputs": [],
   "source": [
    "x = [1, 2, 3]\n",
    "\n",
    "x[0:None]"
   ]
  },
  {
   "cell_type": "code",
   "execution_count": 3,
   "metadata": {
    "id": "A6Co7RolBtcB"
   },
   "outputs": [],
   "source": [
    "def pad1d(x: t.Tensor, left: int, right: int, pad_value: float) -> t.Tensor:\n",
    "    \"\"\"Return a new tensor with padding applied to the edges.\n",
    "\n",
    "    x: shape (batch, in_channels, width), dtype float32\n",
    "\n",
    "    Return: shape (batch, in_channels, left + right + width)\n",
    "    \"\"\"\n",
    "    b, c, w = x.shape\n",
    "    n = x.new_full(size=(b, c, left + right + w), fill_value=pad_value)\n",
    "    # now fill all except left, right\n",
    "    end_idx = None if right == 0 else -right\n",
    "    start_idx = left\n",
    "    n[..., start_idx:end_idx] = x[..., :]\n",
    "\n",
    "    return n\n",
    "\n",
    "\n",
    "tests.test_pad1d(pad1d)\n",
    "tests.test_pad1d_multi_channel(pad1d)"
   ]
  },
  {
   "cell_type": "markdown",
   "metadata": {
    "id": "tt7ihRI_Bq_r"
   },
   "source": [
    "<details>\n",
    "<summary>Help - I get <code>RuntimeError: The expanded size of the tensor (0) must match ...</code></summary>\n",
    "\n",
    "This might be because you've indexed with `left : -right`. Think about what will happen here when `right` is zero.\n",
    "\n",
    "</details>\n"
   ]
  },
  {
   "cell_type": "markdown",
   "metadata": {
    "id": "WIk0IcDtBwh7"
   },
   "source": [
    "Once you've passed the tests, you can implement the 2D version:\n"
   ]
  },
  {
   "cell_type": "code",
   "execution_count": 20,
   "metadata": {},
   "outputs": [],
   "source": [
    "x = t.randint(10, (3, 4))\n",
    "\n",
    "x, x[0:2, 1:4]"
   ]
  },
  {
   "cell_type": "code",
   "execution_count": 4,
   "metadata": {
    "id": "p4vM262FBxeB"
   },
   "outputs": [],
   "source": [
    "def pad2d(\n",
    "    x: t.Tensor, left: int, right: int, top: int, bottom: int, pad_value: float\n",
    ") -> t.Tensor:\n",
    "    \"\"\"Return a new tensor with padding applied to the edges.\n",
    "\n",
    "    x: shape (batch, in_channels, height, width), dtype float32\n",
    "\n",
    "    Return: shape (batch, in_channels, top + height + bottom, left + width + right)\n",
    "    \"\"\"\n",
    "    b, c, h, w = x.shape\n",
    "    n = x.new_full(size=(b, c, top + bottom + h, left + right + w), fill_value=pad_value)\n",
    "\n",
    "    start_left_idx = left\n",
    "    end_right_idx = None if right == 0 else -right\n",
    "    start_top_idx = top\n",
    "    end_top_idx = None if bottom == 0 else -bottom\n",
    "\n",
    "    n[..., start_top_idx:end_top_idx, start_left_idx:end_right_idx] = x\n",
    "    return n\n",
    "\n",
    "\n",
    "tests.test_pad2d(pad2d)\n",
    "tests.test_pad2d_multi_channel(pad2d)"
   ]
  },
  {
   "cell_type": "markdown",
   "metadata": {
    "id": "GiE5YMSKBzqt"
   },
   "source": [
    "## Full convolutions\n",
    "\n",
    "Now, you'll extend `conv1d` to handle the `stride` and `padding` arguments.\n",
    "\n",
    "`stride` is the number of input positions that the kernel slides at each step. `padding` is the number of zeros concatenated to each side of the input before the convolution.\n",
    "\n",
    "Output shape should be `(batch, output_channels, output_length)`, where output_length can be calculated as follows:\n",
    "\n",
    "$$\n",
    "\\text{output\\_length} = \\left\\lfloor\\frac{\\text{input\\_length} + 2 \\times \\text{padding} - \\text{kernel\\_size}}{\\text{stride}} \\right\\rfloor + 1\n",
    "$$\n",
    "\n",
    "Verify for yourself that the forumla above simplifies to the formula we used earlier when padding is 0 and stride is 1.\n",
    "\n",
    "Docs for pytorch's `conv1d` can be found [here](https://pytorch.org/docs/stable/generated/torch.nn.Conv1d.html).\n"
   ]
  },
  {
   "cell_type": "markdown",
   "metadata": {
    "id": "-jw5yO6MB0n6"
   },
   "source": [
    "### Exercise - implement 1D convolutions\n",
    "\n",
    "```yaml\n",
    "Difficulty: 🔴🔴🔴🔴⚪\n",
    "Importance: 🔵🔵⚪⚪⚪\n",
    "\n",
    "You should spend up to 20-25 minutes on this exercise.\n",
    "```\n"
   ]
  },
  {
   "cell_type": "code",
   "execution_count": 5,
   "metadata": {
    "id": "fKePyHQcB4h8"
   },
   "outputs": [],
   "source": [
    "from math import floor\n",
    "from torch import conv1d as cv\n",
    "\n",
    "\n",
    "def conv1d(\n",
    "    x: Float[Tensor, \"b ic w\"],\n",
    "    weights: Float[Tensor, \"oc ic kw\"],\n",
    "    stride: int = 1,\n",
    "    padding: int = 0,\n",
    ") -> Float[Tensor, \"b oc ow\"]:\n",
    "    \"\"\"\n",
    "    Like torch's conv1d using bias=False.\n",
    "\n",
    "    x: shape (batch, in_channels, width)\n",
    "    weights: shape (out_channels, in_channels, kernel_width)\n",
    "\n",
    "    Returns: shape (batch, out_channels, output_width)\n",
    "    \"\"\"\n",
    "    b, ic, w = x.shape\n",
    "    oc, ic, kw = weights.shape\n",
    "    ow = ((w + 2 * padding - kw) // stride) + 1\n",
    "\n",
    "    # first pad\n",
    "    padded = pad1d(x, padding, padding, 0.0)\n",
    "\n",
    "    # print(\"Input\")\n",
    "    # print(x)\n",
    "    # print(\"Stride\")\n",
    "    # print(stride)\n",
    "    # print(\"Kernel\")\n",
    "    # print(k)\n",
    "    # print(\"Padded input\")\n",
    "    # print(padded)\n",
    "\n",
    "    s_b, s_ic, s_w = padded.stride()\n",
    "    padded = padded.as_strided(size=(b, ic, ow, kw), stride=(s_b, s_ic, stride, s_w))\n",
    "    \n",
    "    # print(\"Strided padded input\")\n",
    "    # print(padded)\n",
    "    # print(cv(x, weights, padding=padding, stride=stride))\n",
    "    return einops.einsum(padded, weights, \"b ic ow kw, oc ic kw -> b oc ow\")\n",
    "\n",
    "\n",
    "\n",
    "# x = t.randint(10, (1, 2, 3))\n",
    "# k = t.randint(3, (2, 2, 2))\n",
    "# padding = 2\n",
    "\n",
    "# conv1d(x, k, padding=padding, stride=2)\n",
    "\n",
    "tests.test_conv1d(conv1d)"
   ]
  },
  {
   "cell_type": "markdown",
   "metadata": {
    "id": "0homPQffB6pd"
   },
   "source": [
    "<details>\n",
    "<summary>Hint - dealing with padding</summary>\n",
    "\n",
    "As the first line of your function, replace `x` with the padded version of `x`. This way, you won't have to worry about accounting for padding in the rest of the function (e.g. in the formula for the output width).\n",
    "\n",
    "</details>\n",
    "\n",
    "<details>\n",
    "<summary>Hint - dealing with strides</summary>\n",
    "\n",
    "The following diagram shows how you should create the strided version of `x` differently, if you have a stride of 2 rather than the default stride of 1.\n",
    "\n",
    "<img src=\"https://raw.githubusercontent.com/callummcdougall/computational-thread-art/master/example_images/misc/ch0-conv1d-strides.png\" width=\"850\">\n",
    "\n",
    "Remember, you'll need a new formula for `output_width` (see formula in the [documentation](https://pytorch.org/docs/stable/generated/torch.nn.Conv1d.html) for help with this, or see if you can derive it without help).\n",
    "\n",
    "</details>\n"
   ]
  },
  {
   "cell_type": "markdown",
   "metadata": {
    "id": "F-2a6qySB746"
   },
   "source": [
    "### Exercise - implement 2D convolutions\n",
    "\n",
    "```yaml\n",
    "Difficulty: 🔴🔴🔴🔴⚪\n",
    "Importance: 🔵🔵⚪⚪⚪\n",
    "\n",
    "You should spend up to 20-25 minutes on this exercise.\n",
    "```\n",
    "\n",
    "A recurring pattern in these 2d functions is allowing the user to specify either an int or a pair of ints for an argument: examples are stride and padding. We've provided some type aliases and a helper function to simplify working with these.\n"
   ]
  },
  {
   "cell_type": "code",
   "execution_count": 6,
   "metadata": {
    "id": "L1-ILvUiB9BF"
   },
   "outputs": [],
   "source": [
    "IntOrPair = int | tuple[int, int]\n",
    "Pair = tuple[int, int]\n",
    "\n",
    "\n",
    "def force_pair(v: IntOrPair) -> Pair:\n",
    "    \"\"\"Convert v to a pair of int, if it isn't already.\"\"\"\n",
    "    if isinstance(v, tuple):\n",
    "        if len(v) != 2:\n",
    "            raise ValueError(v)\n",
    "        return (int(v[0]), int(v[1]))\n",
    "    elif isinstance(v, int):\n",
    "        return (v, v)\n",
    "    raise ValueError(v)\n",
    "\n",
    "\n",
    "# Examples of how this function can be used:\n",
    "\n",
    "for v in [(1, 2), 2, (1, 2, 3)]:\n",
    "    try:\n",
    "        print(f\"{v!r:9} -> {force_pair(v)!r}\")\n",
    "    except ValueError:\n",
    "        print(f\"{v!r:9} -> ValueError\")"
   ]
  },
  {
   "cell_type": "markdown",
   "metadata": {
    "id": "sm0B5_xWB9xb"
   },
   "source": [
    "Finally, you can implement a full version of `conv2d`. If you've done the full version of `conv1d`, and you've done `conv2d_minimal`, then you should be able to pull code from here to help you.\n"
   ]
  },
  {
   "cell_type": "code",
   "execution_count": 22,
   "metadata": {},
   "outputs": [],
   "source": [
    "x = t.randint(10, (3, 3))\n",
    "x, t.nn.functional.pad(x, pad=(1, 1, 3, 2))"
   ]
  },
  {
   "cell_type": "code",
   "execution_count": 40,
   "metadata": {
    "id": "mNEFOr2xB_UX"
   },
   "outputs": [],
   "source": [
    "from torch import conv2d as cv\n",
    "\n",
    "def conv2d(\n",
    "    x: Float[Tensor, \"b ic h w\"],\n",
    "    weights: Float[Tensor, \"oc ic kh kw\"],\n",
    "    stride: IntOrPair = 1,\n",
    "    padding: IntOrPair = 0,\n",
    ") -> Float[Tensor, \"b oc oh ow\"]:\n",
    "    \"\"\"\n",
    "    Like torch's conv2d using bias=False\n",
    "\n",
    "    x: shape (batch, in_channels, height, width)\n",
    "    weights: shape (out_channels, in_channelsss, kernel_height, kernel_width)\n",
    "\n",
    "    Returns: shape (batch, out_channels, output_height, output_width)\n",
    "    \"\"\"\n",
    "    b, ic, h, w = x.shape\n",
    "    oc, ic, kh, kw = weights.shape\n",
    "\n",
    "\n",
    "    # padding and stride are also dimension wise. not normal x and y.\n",
    "\n",
    "    sh, sw = force_pair(stride)\n",
    "    ph, pw = force_pair(padding)\n",
    "\n",
    "\n",
    "    padded = pad2d(x, pw, pw, ph, ph, 0.0)\n",
    "\n",
    "    sx_b, sx_ic, sx_h, sx_w = padded.stride()\n",
    "\n",
    "    ow = ((w + 2 * pw - kw) // sw) + 1\n",
    "    oh = ((h + 2 * ph - kh) // sh) + 1\n",
    "    \n",
    "\n",
    "    padded_strided = padded.as_strided(size=(b, ic, oh, ow, kh, kw), stride=(sx_b, sx_ic, sh * sx_h, sw, sx_h, sx_w))\n",
    "\n",
    "    return einops.einsum(padded_strided, weights, \"b ic oh ow kh kw, oc ic kh kw -> b oc oh ow\")\n",
    "\n",
    "\n",
    "\n",
    "tests.test_conv2d(conv2d)\n",
    "# x =  t.randint(10, size=(1, 2, 3, 4))\n",
    "# k = t.randint(3, size=(1, 2, 2, 2))\n",
    "\n",
    "# padding = (2, 3)\n",
    "# stride = (1, 3)\n",
    "# x, conv2d(x = x, weights=k, padding=padding, stride=stride), cv(input=x, weight=k, padding=padding, stride=stride)"
   ]
  },
  {
   "cell_type": "markdown",
   "metadata": {
    "id": "Dge2beyxCBqa"
   },
   "source": [
    "## Max pooling\n",
    "\n",
    "We have just one function left now - **max pooling**. You can review the [TowardsDataScience](https://towardsdatascience.com/a-comprehensive-guide-to-convolutional-neural-networks-the-eli5-way-3bd2b1164a53) post from earlier to understand max pooling better.\n",
    "\n",
    "A \"max pooling\" layer is similar to a convolution in that you have a window sliding over some number of dimensions. The main difference is that there's no kernel: instead of multiplying by the kernel and adding, you just take the maximum.\n",
    "\n",
    "The way multiple channels work is also different. A convolution has some number of input and output channels, and each output channel is a function of all the input channels. There can be any number of output channels. In a pooling layer, the maximum operation is applied independently for each input channel, meaning the number of output channels is necessarily equal to the number of input channels.\n"
   ]
  },
  {
   "cell_type": "markdown",
   "metadata": {
    "id": "ewHK2_PmCCmH"
   },
   "source": [
    "### Exercise - implement 2D max pooling\n",
    "\n",
    "```yaml\n",
    "Difficulty: 🔴🔴⚪⚪⚪\n",
    "Importance: 🔵🔵🔵⚪⚪\n",
    "\n",
    "You should spend up to 10-15 minutes on this exercise.\n",
    "```\n",
    "\n",
    "Implement `maxpool2d` using `torch.as_strided` and `torch.amax` (= max over axes) together. Your version should behave the same as the PyTorch version, but only the indicated arguments need to be supported.\n"
   ]
  },
  {
   "cell_type": "code",
   "execution_count": null,
   "metadata": {
    "id": "_n5_51lFCDrj"
   },
   "outputs": [],
   "source": [
    "def maxpool2d(\n",
    "    x: Float[Tensor, \"b ic h w\"],\n",
    "    kernel_size: IntOrPair,\n",
    "    stride: IntOrPair | None = None,\n",
    "    padding: IntOrPair = 0,\n",
    ") -> Float[Tensor, \"b ic oh ow\"]:\n",
    "    \"\"\"\n",
    "    Like PyTorch's maxpool2d.\n",
    "\n",
    "    x: shape (batch, channels, height, width)\n",
    "    stride: if None, should be equal to the kernel size\n",
    "\n",
    "    Return: (batch, channels, output_height, output_width)\n",
    "    \"\"\"\n",
    "    pass\n",
    "\n",
    "\n",
    "tests.test_maxpool2d(maxpool2d)"
   ]
  },
  {
   "cell_type": "markdown",
   "metadata": {
    "id": "gnMZr3SqCGPR"
   },
   "source": [
    "<details>\n",
    "<summary>Hint</summary>\n",
    "\n",
    "Conceptually, this is similar to `conv2d`.\n",
    "\n",
    "In `conv2d`, you had to use `as_strided` to turn the 4D tensor `x` into a 6D tensor `x_strided` (adding dimensions over which you would take the convolution), then multiply this tensor by the kernel and sum over these two new dimensions.\n",
    "\n",
    "`maxpool2d` is the same, except that you're simply taking max over those dimensions rather than a dot product with the kernel. So you should find yourself able to reuse a lot of code from your `conv2d` function.\n",
    "\n",
    "</details>\n",
    "\n",
    "<details>\n",
    "<summary>Help - I'm getting a small number of mismatched elements each time (e.g. between 0 and 5%).</summary>\n",
    "\n",
    "This is likely because you used an incorrect `pad_value`. In the convolution function, we set `pad_value=0` so these values wouldn't have any effect in the linear transformation. What pad value would make our padded elements \"invisible\" when we take the maximum?\n",
    "\n",
    "</details>\n"
   ]
  },
  {
   "cell_type": "markdown",
   "metadata": {
    "id": "EzucGMUuCHJz"
   },
   "source": [
    "Now, you're finished! You can go back to the ResNets exercises, and build your ResNet **_entirely using your own stride-based functions_**.\n"
   ]
  },
  {
   "cell_type": "markdown",
   "metadata": {
    "id": "eXGCrNHa7ek0"
   },
   "source": [
    "# 6️⃣ Bonus - Feature Extraction\n"
   ]
  },
  {
   "cell_type": "markdown",
   "metadata": {
    "id": "1lExsNK_CMK8"
   },
   "source": [
    "> ### Learning Objectives\n",
    ">\n",
    "> - Understand the difference between feature extraction and finetuning\n",
    "> - Perform feature extraction on a pre-trained ResNet\n"
   ]
  },
  {
   "cell_type": "markdown",
   "metadata": {
    "id": "VgLwvWdcCNse"
   },
   "source": [
    "Now that you've seen how to build a modular training loop, and you've seen how ResNet works and is built, we're going to put these two things together to finetune a ResNet model on a new dataset.\n",
    "\n",
    "**Finetuning** can mean slightly different things in different contexts, but broadly speaking it means using the weights of an already trained network as the starting values for training a new network. Because training networks from scratch is very computationally expensive, this is a common practice in ML.\n",
    "\n",
    "The specific type of finetuning we'll be doing here is called **feature extraction**. This is when we freeze most layers of a model except the last few, and perform gradient descent on those. We call this feature extraction because the earlier layers of the model have already learned to identify important features of the data (and these features are also relevant for the new task), so all that we have to do is train a few final layers in the model to extract these features.\n",
    "\n",
    "_Terminology note - sometimes feature extraction and finetuning are defined differently, with finetuning referring to the training of all the weights in a pretrained model (usually with a small or decaying learning rate), and feature extraction referring to the freezing of some layers and training of others. To avoid confusion here, we'll use the term \"feature extraction\" rather than \"finetuning\"._\n",
    "\n",
    "<img src=\"https://raw.githubusercontent.com/callummcdougall/computational-thread-art/master/example_images/misc/feature_extraction.png\" width=\"400\">\n",
    "\n",
    "How do we prepare a model for feature extraction? By **freezing layers** of our model.\n",
    "\n",
    "We'll discuss freezing layers & the backpropagation algorithm in much more detail tomorrow, but for now it's fine to just understand what's going on at a basic level. When we call `loss.backward()` in our training loop (or when this is implicitly called by our PyTorch Lightning trainer), this propagates gradients from our `loss` scalar back to all parameters in our model. If a parameter has its `requires_grad` attribute set to `False`, it means gradients won't be computed for this tensor during backpropagation. Thanks to PyTorch helpfully keeping track of the parameters which require gradients (using a structure called the **computational graph**), if we set `requires_grad = False` for the first few layers of parameters in our model, PyTorch will actually save us time and compute by not calculating gradients for these parameters at all.\n",
    "\n",
    "See the code below as an example of how gradient propagation stops at tensors with `requires_grad = False`.\n"
   ]
  },
  {
   "cell_type": "code",
   "execution_count": 43,
   "metadata": {
    "id": "agKRNMZdCOyX"
   },
   "outputs": [],
   "source": [
    "layer0, layer1 = nn.Linear(3, 4), nn.Linear(4, 5)\n",
    "\n",
    "layer0.requires_grad_(\n",
    "    False\n",
    ")  # generic code to set `param.requires_grad = False` recursively for a module (or entire model)\n",
    "\n",
    "x = t.randn(3)\n",
    "out = layer1(layer0(x)).sum()\n",
    "out.backward()\n",
    "\n",
    "assert layer0.weight.grad is None\n",
    "assert layer1.weight.grad is not None"
   ]
  },
  {
   "cell_type": "markdown",
   "metadata": {
    "id": "45kAMRkdCP9Q"
   },
   "source": [
    "### Exercise - prepare ResNet for feature extraction\n",
    "\n",
    "```yaml\n",
    "Difficulty: 🔴🔴🔴⚪⚪\n",
    "Importance: 🔵🔵🔵⚪⚪\n",
    "\n",
    "You should spend up to 15-20 minutes on this exercise.\n",
    "```\n",
    "\n",
    "First, you should complete the function below to do the following:\n",
    "\n",
    "- Instantiate a `ResNet34` model using your class, and copy in weights from a pretrained model (you can use code from earlier here)\n",
    "- Disable gradients for all layers\n",
    "- Replace the final linear layer with a new linear layer, which has the same number of `in_features`, but a different number of `out_features` (given by the `n_classes` argument).\n"
   ]
  },
  {
   "cell_type": "code",
   "execution_count": 84,
   "metadata": {},
   "outputs": [],
   "source": [
    "layers = list(model.modules())\n",
    "print(layers[-1])\n",
    "\n",
    "layers[-1] = nn.Linear(512, 100)\n",
    "\n",
    "layers = list(model.modules())\n",
    "print(layers[-1])"
   ]
  },
  {
   "cell_type": "code",
   "execution_count": null,
   "metadata": {
    "id": "9cKUSDh6CRYT"
   },
   "outputs": [],
   "source": [
    "def get_resnet_for_feature_extraction(n_classes: int) -> ResNet34:\n",
    "    \"\"\"\n",
    "    Creates a ResNet34 instance, replaces its final linear layer with a classifier\n",
    "    for `n_classes` classes, and freezes all weights except the ones in this layer.\n",
    "\n",
    "    Returns the ResNet model.\n",
    "    \"\"\"\n",
    "    model = ResNet34()\n",
    "    \n",
    "    pretrained_resnet = models.resnet34(weights=models.ResNet34_Weights.IMAGENET1K_V1)\n",
    "\n",
    "    model = copy_weights(model, pretrained_resnet)\n",
    "\n",
    "    model.requires_grad_(False)\n",
    "\n",
    "    model.blocks[-1] = Linear(model.out_features_per_group[-1], n_classes)\n",
    "\n",
    "    model.blocks[-1].requires_grad_(True)\n",
    "\n",
    "    return model\n",
    "\n",
    "\n",
    "tests.test_get_resnet_for_feature_extraction(get_resnet_for_feature_extraction)"
   ]
  },
  {
   "cell_type": "markdown",
   "metadata": {
    "id": "t5XvR7W7CT_f"
   },
   "source": [
    "We'll now give you some boilerplate code to load in and transform your data (this code should be quite familiar to you from the code in earlier sections).\n"
   ]
  },
  {
   "cell_type": "code",
   "execution_count": 113,
   "metadata": {
    "id": "NghlPkEpCU3O"
   },
   "outputs": [],
   "source": [
    "from typing import Type\n",
    "\n",
    "\n",
    "def get_cifar(subset: int):\n",
    "    cifar_trainset = datasets.CIFAR10(\n",
    "        root=\"./data\", train=True, download=True, transform=IMAGENET_TRANSFORM\n",
    "    )\n",
    "    cifar_testset = datasets.CIFAR10(\n",
    "        root=\"./data\", train=False, download=True, transform=IMAGENET_TRANSFORM\n",
    "    )\n",
    "\n",
    "    if subset > 1:\n",
    "        cifar_trainset = Subset(\n",
    "            cifar_trainset, indices=range(0, len(cifar_trainset), subset)\n",
    "        )\n",
    "        cifar_testset = Subset(\n",
    "            cifar_testset, indices=range(0, len(cifar_testset), subset)\n",
    "        )\n",
    "\n",
    "    return cifar_trainset, cifar_testset\n",
    "\n",
    "\n",
    "@dataclass\n",
    "class ResNetTrainingArgs:\n",
    "    batch_size: int = 64\n",
    "    epochs: int = 3\n",
    "    optimizer: Type[t.optim.Optimizer] = t.optim.Adam\n",
    "    learning_rate: float = 1e-3\n",
    "    n_classes: int = 10\n",
    "    subset: int = 10"
   ]
  },
  {
   "cell_type": "markdown",
   "metadata": {
    "id": "_3oxKxDQCZFB"
   },
   "source": [
    "The dataclass we've defined containing training arguments is basically the same as the one we had for the convnet, the main difference is that we're now using the [CIFAR-10 dataset](https://www.cs.toronto.edu/~kriz/cifar.html). This is the dataset we'll be training our model on. It consists of 60000 32x32 colour images in 10 classes, with 6000 images per class. See the link for more information.\n"
   ]
  },
  {
   "cell_type": "markdown",
   "metadata": {
    "id": "7Pw3KlTmCcSl"
   },
   "source": [
    "### Exercise - write training loop for feature extraction\n",
    "\n",
    "```yaml\n",
    "Difficulty: 🔴🔴🔴⚪⚪\n",
    "Importance: 🔵🔵🔵⚪⚪\n",
    "\n",
    "You should spend up to 15-25 minutes on this exercise.\n",
    "```\n",
    "\n",
    "We now come to the final task - write a training loop for your ResNet model.\n",
    "\n",
    "A few things to remember:\n",
    "\n",
    "- You can optionally pass only a subset of your model's parameters to the optimizer when defining it, e.g. `Adam(model.out_layers[-1].parameters(), ...)`. But you don't have to do this, because the gradients for all other parameters have been frozen.\n",
    "- Make sure you call `model.train()` before your training loop, and `model.eval()` before your validation loop. This changes the behaviour of your BatchNorm layers (recall from the previous section that BatchNorm behaves differently in eval mode, using lagged mean and variance estimators rather than computing mean and variance across the input data).\n",
    "- Because the dataset is large, you might want nested progress bars: one for the epochs, and one for each epoch. Also, **make sure you're connected to GPU runtime rather than CPU.**\n"
   ]
  },
  {
   "cell_type": "code",
   "execution_count": 168,
   "metadata": {
    "id": "Mw0OrNTKCdS_"
   },
   "outputs": [
    {
     "name": "stdout",
     "output_type": "stream",
     "text": [
      "n classes 10\n",
      "Files already downloaded and verified\n",
      "Files already downloaded and verified\n"
     ]
    },
    {
     "data": {
      "application/vnd.jupyter.widget-view+json": {
       "model_id": "3c941dcb7d7842fa8c697b6dff500367",
       "version_major": 2,
       "version_minor": 0
      },
      "text/plain": [
       "  0%|          | 0/3 [00:00<?, ?it/s]"
      ]
     },
     "metadata": {},
     "output_type": "display_data"
    },
    {
     "data": {
      "application/vnd.jupyter.widget-view+json": {
       "model_id": "9d377ae90a764b15a06564c5bb2ccfea",
       "version_major": 2,
       "version_minor": 0
      },
      "text/plain": [
       "Epoch 1:   0%|          | 0/79 [00:00<?, ?it/s]"
      ]
     },
     "metadata": {},
     "output_type": "display_data"
    },
    {
     "data": {
      "application/vnd.jupyter.widget-view+json": {
       "model_id": "983537545ad8423b8c9b1c5c835be0c5",
       "version_major": 2,
       "version_minor": 0
      },
      "text/plain": [
       "  0%|          | 0/16 [00:00<?, ?it/s]"
      ]
     },
     "metadata": {},
     "output_type": "display_data"
    },
    {
     "name": "stdout",
     "output_type": "stream",
     "text": [
      "Accuracy after epoch 1: 22.5\n"
     ]
    },
    {
     "data": {
      "application/vnd.jupyter.widget-view+json": {
       "model_id": "28241d444a1746b2a9f6a0bec0f986d0",
       "version_major": 2,
       "version_minor": 0
      },
      "text/plain": [
       "Epoch 2:   0%|          | 0/79 [00:00<?, ?it/s]"
      ]
     },
     "metadata": {},
     "output_type": "display_data"
    },
    {
     "data": {
      "application/vnd.jupyter.widget-view+json": {
       "model_id": "195281e097b14195aeadee105752e01d",
       "version_major": 2,
       "version_minor": 0
      },
      "text/plain": [
       "  0%|          | 0/16 [00:00<?, ?it/s]"
      ]
     },
     "metadata": {},
     "output_type": "display_data"
    },
    {
     "name": "stdout",
     "output_type": "stream",
     "text": [
      "Accuracy after epoch 2: 30.9\n"
     ]
    },
    {
     "data": {
      "application/vnd.jupyter.widget-view+json": {
       "model_id": "ecd12fd12a68499d8c1569edae6f2bfc",
       "version_major": 2,
       "version_minor": 0
      },
      "text/plain": [
       "Epoch 3:   0%|          | 0/79 [00:00<?, ?it/s]"
      ]
     },
     "metadata": {},
     "output_type": "display_data"
    },
    {
     "data": {
      "application/vnd.jupyter.widget-view+json": {
       "model_id": "6e7648ba1f0a434c8b48efd59a28da6d",
       "version_major": 2,
       "version_minor": 0
      },
      "text/plain": [
       "  0%|          | 0/16 [00:00<?, ?it/s]"
      ]
     },
     "metadata": {},
     "output_type": "display_data"
    },
    {
     "name": "stdout",
     "output_type": "stream",
     "text": [
      "Accuracy after epoch 3: 40.8\n"
     ]
    },
    {
     "data": {
      "application/vnd.plotly.v1+json": {
       "config": {
        "plotlyServerURL": "https://plot.ly"
       },
       "data": [
        {
         "name": "Training",
         "type": "scatter",
         "x": [
          0,
          1,
          2,
          3,
          4,
          5,
          6,
          7,
          8,
          9,
          10,
          11,
          12,
          13,
          14,
          15,
          16,
          17,
          18,
          19,
          20,
          21,
          22,
          23,
          24,
          25,
          26,
          27,
          28,
          29,
          30,
          31,
          32,
          33,
          34,
          35,
          36,
          37,
          38,
          39,
          40,
          41,
          42,
          43,
          44,
          45,
          46,
          47,
          48,
          49,
          50,
          51,
          52,
          53,
          54,
          55,
          56,
          57,
          58,
          59,
          60,
          61,
          62,
          63,
          64,
          65,
          66,
          67,
          68,
          69,
          70,
          71,
          72,
          73,
          74,
          75,
          76,
          77,
          78,
          79,
          80,
          81,
          82,
          83,
          84,
          85,
          86,
          87,
          88,
          89,
          90,
          91,
          92,
          93,
          94,
          95,
          96,
          97,
          98,
          99,
          100,
          101,
          102,
          103,
          104,
          105,
          106,
          107,
          108,
          109,
          110,
          111,
          112,
          113,
          114,
          115,
          116,
          117,
          118,
          119,
          120,
          121,
          122,
          123,
          124,
          125,
          126,
          127,
          128,
          129,
          130,
          131,
          132,
          133,
          134,
          135,
          136,
          137,
          138,
          139,
          140,
          141,
          142,
          143,
          144,
          145,
          146,
          147,
          148,
          149,
          150,
          151,
          152,
          153,
          154,
          155,
          156,
          157,
          158,
          159,
          160,
          161,
          162,
          163,
          164,
          165,
          166,
          167,
          168,
          169,
          170,
          171,
          172,
          173,
          174,
          175,
          176,
          177,
          178,
          179,
          180,
          181,
          182,
          183,
          184,
          185,
          186,
          187,
          188,
          189,
          190,
          191,
          192,
          193,
          194,
          195,
          196,
          197,
          198,
          199,
          200,
          201,
          202,
          203,
          204,
          205,
          206,
          207,
          208,
          209,
          210,
          211,
          212,
          213,
          214,
          215,
          216,
          217,
          218,
          219,
          220,
          221,
          222,
          223,
          224,
          225,
          226,
          227,
          228,
          229,
          230,
          231,
          232,
          233,
          234,
          235,
          236
         ],
         "xaxis": "x",
         "y": [
          11.61247730255127,
          10.495927810668945,
          9.9102144241333,
          10.196176528930664,
          8.838288307189941,
          9.103105545043945,
          8.160937309265137,
          8.99299430847168,
          7.822930335998535,
          8.43701171875,
          7.956534385681152,
          6.824463367462158,
          7.608354091644287,
          7.852296829223633,
          7.76358699798584,
          6.112377643585205,
          7.666509628295898,
          7.1359028816223145,
          7.501773834228516,
          6.993189811706543,
          7.26987361907959,
          6.819321155548096,
          7.301197528839111,
          6.023134231567383,
          6.038290977478027,
          6.155546188354492,
          6.250689506530762,
          6.298907279968262,
          6.872000694274902,
          6.601291179656982,
          5.648528575897217,
          7.2892255783081055,
          6.377155303955078,
          6.471258163452148,
          5.194764137268066,
          5.4495439529418945,
          6.913181304931641,
          7.317896366119385,
          6.721986293792725,
          6.333613872528076,
          5.110021114349365,
          6.518909931182861,
          6.4484543800354,
          6.430237770080566,
          5.295046806335449,
          5.613297939300537,
          6.956368446350098,
          5.859930038452148,
          7.35765266418457,
          5.416017055511475,
          5.621639251708984,
          6.667832374572754,
          6.138073921203613,
          5.469708442687988,
          6.457094669342041,
          5.632261276245117,
          5.995641708374023,
          5.660377025604248,
          6.0152997970581055,
          5.681753158569336,
          5.690940856933594,
          4.795042037963867,
          6.882708549499512,
          4.510511875152588,
          4.857251167297363,
          6.013736248016357,
          5.178898334503174,
          5.530239105224609,
          4.782838821411133,
          5.137421607971191,
          5.384565830230713,
          5.660766124725342,
          6.326735496520996,
          5.426241397857666,
          5.133874893188477,
          5.082278728485107,
          5.914732456207275,
          5.523859024047852,
          5.254090785980225,
          4.279109477996826,
          4.114156246185303,
          5.322818756103516,
          5.297931671142578,
          5.598300457000732,
          5.069950580596924,
          4.782515525817871,
          4.927051544189453,
          4.068303108215332,
          5.316051006317139,
          4.081685543060303,
          3.7582011222839355,
          3.8449947834014893,
          4.299605846405029,
          4.397877216339111,
          6.050673007965088,
          4.582325458526611,
          4.963465690612793,
          5.3631486892700195,
          4.61610746383667,
          4.5849504470825195,
          4.903197288513184,
          5.154363632202148,
          5.327554702758789,
          4.857176303863525,
          5.167006969451904,
          5.273726463317871,
          5.348700523376465,
          5.127202987670898,
          4.535886287689209,
          5.017630100250244,
          3.831326484680176,
          4.221295356750488,
          4.260004997253418,
          4.661001205444336,
          3.739212989807129,
          5.39927339553833,
          4.13300085067749,
          4.40347957611084,
          5.522421836853027,
          4.4088335037231445,
          5.760228633880615,
          4.1658616065979,
          5.216312408447266,
          4.096164226531982,
          4.8433427810668945,
          4.305112361907959,
          5.4068708419799805,
          3.698521137237549,
          4.803727149963379,
          3.407846450805664,
          3.696986675262451,
          4.229875087738037,
          3.876425266265869,
          3.3809714317321777,
          4.016836643218994,
          4.902985095977783,
          4.0088324546813965,
          4.323512554168701,
          3.669118642807007,
          4.077147483825684,
          4.722097396850586,
          4.134058952331543,
          3.3525168895721436,
          4.120304107666016,
          4.318789482116699,
          4.452295303344727,
          3.5185911655426025,
          3.2739248275756836,
          4.569310188293457,
          3.407860279083252,
          3.806730270385742,
          3.982095956802368,
          3.8820629119873047,
          3.618051290512085,
          3.2734122276306152,
          4.592701435089111,
          4.001911163330078,
          1.85536527633667,
          4.3169074058532715,
          3.649609088897705,
          4.086503028869629,
          3.964664936065674,
          3.8448591232299805,
          3.651278018951416,
          3.524367570877075,
          3.6859817504882812,
          3.7205495834350586,
          4.218502998352051,
          2.69088077545166,
          4.126547813415527,
          3.1383724212646484,
          3.5584287643432617,
          3.8548336029052734,
          3.577300548553467,
          3.5171263217926025,
          4.227267265319824,
          3.2617015838623047,
          3.2281858921051025,
          4.392545700073242,
          3.620962381362915,
          3.4199259281158447,
          3.5247962474823,
          3.0575244426727295,
          3.9368958473205566,
          4.097391605377197,
          4.5717692375183105,
          3.194678544998169,
          3.467562198638916,
          2.8961021900177,
          3.705195903778076,
          4.434611797332764,
          3.6393027305603027,
          3.6205406188964844,
          3.389371633529663,
          3.7113945484161377,
          3.8994548320770264,
          3.8012781143188477,
          3.5402588844299316,
          3.4075310230255127,
          3.2199714183807373,
          3.5288314819335938,
          4.081827640533447,
          2.6358675956726074,
          3.814695358276367,
          3.2054765224456787,
          3.5232126712799072,
          3.0928053855895996,
          3.2040185928344727,
          3.164456844329834,
          2.973587989807129,
          3.6124656200408936,
          3.404519557952881,
          2.6282846927642822,
          3.930330753326416,
          2.607666015625,
          2.109736919403076,
          3.5055575370788574,
          3.1511001586914062,
          3.571866512298584,
          4.026594161987305,
          2.9179930686950684,
          2.9246022701263428,
          4.176274299621582,
          2.6151206493377686,
          3.099320888519287,
          3.2919816970825195,
          4.271592140197754,
          3.883058786392212,
          3.1141915321350098,
          3.3639416694641113,
          4.100156307220459,
          3.0093770027160645,
          2.504918098449707,
          2.799363374710083,
          3.330118179321289,
          2.429544448852539,
          1.309566617012024
         ],
         "yaxis": "y"
        },
        {
         "name": "Testing",
         "type": "scatter",
         "x": [
          79,
          158,
          237
         ],
         "xaxis": "x",
         "y": [
          22.5,
          30.9,
          40.8
         ],
         "yaxis": "y2"
        }
       ],
       "layout": {
        "height": 500,
        "hovermode": "x unified",
        "template": {
         "data": {
          "bar": [
           {
            "error_x": {
             "color": "rgb(36,36,36)"
            },
            "error_y": {
             "color": "rgb(36,36,36)"
            },
            "marker": {
             "line": {
              "color": "white",
              "width": 0.5
             },
             "pattern": {
              "fillmode": "overlay",
              "size": 10,
              "solidity": 0.2
             }
            },
            "type": "bar"
           }
          ],
          "barpolar": [
           {
            "marker": {
             "line": {
              "color": "white",
              "width": 0.5
             },
             "pattern": {
              "fillmode": "overlay",
              "size": 10,
              "solidity": 0.2
             }
            },
            "type": "barpolar"
           }
          ],
          "carpet": [
           {
            "aaxis": {
             "endlinecolor": "rgb(36,36,36)",
             "gridcolor": "white",
             "linecolor": "white",
             "minorgridcolor": "white",
             "startlinecolor": "rgb(36,36,36)"
            },
            "baxis": {
             "endlinecolor": "rgb(36,36,36)",
             "gridcolor": "white",
             "linecolor": "white",
             "minorgridcolor": "white",
             "startlinecolor": "rgb(36,36,36)"
            },
            "type": "carpet"
           }
          ],
          "choropleth": [
           {
            "colorbar": {
             "outlinewidth": 1,
             "tickcolor": "rgb(36,36,36)",
             "ticks": "outside"
            },
            "type": "choropleth"
           }
          ],
          "contour": [
           {
            "colorbar": {
             "outlinewidth": 1,
             "tickcolor": "rgb(36,36,36)",
             "ticks": "outside"
            },
            "colorscale": [
             [
              0,
              "#440154"
             ],
             [
              0.1111111111111111,
              "#482878"
             ],
             [
              0.2222222222222222,
              "#3e4989"
             ],
             [
              0.3333333333333333,
              "#31688e"
             ],
             [
              0.4444444444444444,
              "#26828e"
             ],
             [
              0.5555555555555556,
              "#1f9e89"
             ],
             [
              0.6666666666666666,
              "#35b779"
             ],
             [
              0.7777777777777778,
              "#6ece58"
             ],
             [
              0.8888888888888888,
              "#b5de2b"
             ],
             [
              1,
              "#fde725"
             ]
            ],
            "type": "contour"
           }
          ],
          "contourcarpet": [
           {
            "colorbar": {
             "outlinewidth": 1,
             "tickcolor": "rgb(36,36,36)",
             "ticks": "outside"
            },
            "type": "contourcarpet"
           }
          ],
          "heatmap": [
           {
            "colorbar": {
             "outlinewidth": 1,
             "tickcolor": "rgb(36,36,36)",
             "ticks": "outside"
            },
            "colorscale": [
             [
              0,
              "#440154"
             ],
             [
              0.1111111111111111,
              "#482878"
             ],
             [
              0.2222222222222222,
              "#3e4989"
             ],
             [
              0.3333333333333333,
              "#31688e"
             ],
             [
              0.4444444444444444,
              "#26828e"
             ],
             [
              0.5555555555555556,
              "#1f9e89"
             ],
             [
              0.6666666666666666,
              "#35b779"
             ],
             [
              0.7777777777777778,
              "#6ece58"
             ],
             [
              0.8888888888888888,
              "#b5de2b"
             ],
             [
              1,
              "#fde725"
             ]
            ],
            "type": "heatmap"
           }
          ],
          "heatmapgl": [
           {
            "colorbar": {
             "outlinewidth": 1,
             "tickcolor": "rgb(36,36,36)",
             "ticks": "outside"
            },
            "colorscale": [
             [
              0,
              "#440154"
             ],
             [
              0.1111111111111111,
              "#482878"
             ],
             [
              0.2222222222222222,
              "#3e4989"
             ],
             [
              0.3333333333333333,
              "#31688e"
             ],
             [
              0.4444444444444444,
              "#26828e"
             ],
             [
              0.5555555555555556,
              "#1f9e89"
             ],
             [
              0.6666666666666666,
              "#35b779"
             ],
             [
              0.7777777777777778,
              "#6ece58"
             ],
             [
              0.8888888888888888,
              "#b5de2b"
             ],
             [
              1,
              "#fde725"
             ]
            ],
            "type": "heatmapgl"
           }
          ],
          "histogram": [
           {
            "marker": {
             "line": {
              "color": "white",
              "width": 0.6
             }
            },
            "type": "histogram"
           }
          ],
          "histogram2d": [
           {
            "colorbar": {
             "outlinewidth": 1,
             "tickcolor": "rgb(36,36,36)",
             "ticks": "outside"
            },
            "colorscale": [
             [
              0,
              "#440154"
             ],
             [
              0.1111111111111111,
              "#482878"
             ],
             [
              0.2222222222222222,
              "#3e4989"
             ],
             [
              0.3333333333333333,
              "#31688e"
             ],
             [
              0.4444444444444444,
              "#26828e"
             ],
             [
              0.5555555555555556,
              "#1f9e89"
             ],
             [
              0.6666666666666666,
              "#35b779"
             ],
             [
              0.7777777777777778,
              "#6ece58"
             ],
             [
              0.8888888888888888,
              "#b5de2b"
             ],
             [
              1,
              "#fde725"
             ]
            ],
            "type": "histogram2d"
           }
          ],
          "histogram2dcontour": [
           {
            "colorbar": {
             "outlinewidth": 1,
             "tickcolor": "rgb(36,36,36)",
             "ticks": "outside"
            },
            "colorscale": [
             [
              0,
              "#440154"
             ],
             [
              0.1111111111111111,
              "#482878"
             ],
             [
              0.2222222222222222,
              "#3e4989"
             ],
             [
              0.3333333333333333,
              "#31688e"
             ],
             [
              0.4444444444444444,
              "#26828e"
             ],
             [
              0.5555555555555556,
              "#1f9e89"
             ],
             [
              0.6666666666666666,
              "#35b779"
             ],
             [
              0.7777777777777778,
              "#6ece58"
             ],
             [
              0.8888888888888888,
              "#b5de2b"
             ],
             [
              1,
              "#fde725"
             ]
            ],
            "type": "histogram2dcontour"
           }
          ],
          "mesh3d": [
           {
            "colorbar": {
             "outlinewidth": 1,
             "tickcolor": "rgb(36,36,36)",
             "ticks": "outside"
            },
            "type": "mesh3d"
           }
          ],
          "parcoords": [
           {
            "line": {
             "colorbar": {
              "outlinewidth": 1,
              "tickcolor": "rgb(36,36,36)",
              "ticks": "outside"
             }
            },
            "type": "parcoords"
           }
          ],
          "pie": [
           {
            "automargin": true,
            "type": "pie"
           }
          ],
          "scatter": [
           {
            "fillpattern": {
             "fillmode": "overlay",
             "size": 10,
             "solidity": 0.2
            },
            "type": "scatter"
           }
          ],
          "scatter3d": [
           {
            "line": {
             "colorbar": {
              "outlinewidth": 1,
              "tickcolor": "rgb(36,36,36)",
              "ticks": "outside"
             }
            },
            "marker": {
             "colorbar": {
              "outlinewidth": 1,
              "tickcolor": "rgb(36,36,36)",
              "ticks": "outside"
             }
            },
            "type": "scatter3d"
           }
          ],
          "scattercarpet": [
           {
            "marker": {
             "colorbar": {
              "outlinewidth": 1,
              "tickcolor": "rgb(36,36,36)",
              "ticks": "outside"
             }
            },
            "type": "scattercarpet"
           }
          ],
          "scattergeo": [
           {
            "marker": {
             "colorbar": {
              "outlinewidth": 1,
              "tickcolor": "rgb(36,36,36)",
              "ticks": "outside"
             }
            },
            "type": "scattergeo"
           }
          ],
          "scattergl": [
           {
            "marker": {
             "colorbar": {
              "outlinewidth": 1,
              "tickcolor": "rgb(36,36,36)",
              "ticks": "outside"
             }
            },
            "type": "scattergl"
           }
          ],
          "scattermapbox": [
           {
            "marker": {
             "colorbar": {
              "outlinewidth": 1,
              "tickcolor": "rgb(36,36,36)",
              "ticks": "outside"
             }
            },
            "type": "scattermapbox"
           }
          ],
          "scatterpolar": [
           {
            "marker": {
             "colorbar": {
              "outlinewidth": 1,
              "tickcolor": "rgb(36,36,36)",
              "ticks": "outside"
             }
            },
            "type": "scatterpolar"
           }
          ],
          "scatterpolargl": [
           {
            "marker": {
             "colorbar": {
              "outlinewidth": 1,
              "tickcolor": "rgb(36,36,36)",
              "ticks": "outside"
             }
            },
            "type": "scatterpolargl"
           }
          ],
          "scatterternary": [
           {
            "marker": {
             "colorbar": {
              "outlinewidth": 1,
              "tickcolor": "rgb(36,36,36)",
              "ticks": "outside"
             }
            },
            "type": "scatterternary"
           }
          ],
          "surface": [
           {
            "colorbar": {
             "outlinewidth": 1,
             "tickcolor": "rgb(36,36,36)",
             "ticks": "outside"
            },
            "colorscale": [
             [
              0,
              "#440154"
             ],
             [
              0.1111111111111111,
              "#482878"
             ],
             [
              0.2222222222222222,
              "#3e4989"
             ],
             [
              0.3333333333333333,
              "#31688e"
             ],
             [
              0.4444444444444444,
              "#26828e"
             ],
             [
              0.5555555555555556,
              "#1f9e89"
             ],
             [
              0.6666666666666666,
              "#35b779"
             ],
             [
              0.7777777777777778,
              "#6ece58"
             ],
             [
              0.8888888888888888,
              "#b5de2b"
             ],
             [
              1,
              "#fde725"
             ]
            ],
            "type": "surface"
           }
          ],
          "table": [
           {
            "cells": {
             "fill": {
              "color": "rgb(237,237,237)"
             },
             "line": {
              "color": "white"
             }
            },
            "header": {
             "fill": {
              "color": "rgb(217,217,217)"
             },
             "line": {
              "color": "white"
             }
            },
            "type": "table"
           }
          ]
         },
         "layout": {
          "annotationdefaults": {
           "arrowhead": 0,
           "arrowwidth": 1
          },
          "autotypenumbers": "strict",
          "coloraxis": {
           "colorbar": {
            "outlinewidth": 1,
            "tickcolor": "rgb(36,36,36)",
            "ticks": "outside"
           }
          },
          "colorscale": {
           "diverging": [
            [
             0,
             "rgb(103,0,31)"
            ],
            [
             0.1,
             "rgb(178,24,43)"
            ],
            [
             0.2,
             "rgb(214,96,77)"
            ],
            [
             0.3,
             "rgb(244,165,130)"
            ],
            [
             0.4,
             "rgb(253,219,199)"
            ],
            [
             0.5,
             "rgb(247,247,247)"
            ],
            [
             0.6,
             "rgb(209,229,240)"
            ],
            [
             0.7,
             "rgb(146,197,222)"
            ],
            [
             0.8,
             "rgb(67,147,195)"
            ],
            [
             0.9,
             "rgb(33,102,172)"
            ],
            [
             1,
             "rgb(5,48,97)"
            ]
           ],
           "sequential": [
            [
             0,
             "#440154"
            ],
            [
             0.1111111111111111,
             "#482878"
            ],
            [
             0.2222222222222222,
             "#3e4989"
            ],
            [
             0.3333333333333333,
             "#31688e"
            ],
            [
             0.4444444444444444,
             "#26828e"
            ],
            [
             0.5555555555555556,
             "#1f9e89"
            ],
            [
             0.6666666666666666,
             "#35b779"
            ],
            [
             0.7777777777777778,
             "#6ece58"
            ],
            [
             0.8888888888888888,
             "#b5de2b"
            ],
            [
             1,
             "#fde725"
            ]
           ],
           "sequentialminus": [
            [
             0,
             "#440154"
            ],
            [
             0.1111111111111111,
             "#482878"
            ],
            [
             0.2222222222222222,
             "#3e4989"
            ],
            [
             0.3333333333333333,
             "#31688e"
            ],
            [
             0.4444444444444444,
             "#26828e"
            ],
            [
             0.5555555555555556,
             "#1f9e89"
            ],
            [
             0.6666666666666666,
             "#35b779"
            ],
            [
             0.7777777777777778,
             "#6ece58"
            ],
            [
             0.8888888888888888,
             "#b5de2b"
            ],
            [
             1,
             "#fde725"
            ]
           ]
          },
          "colorway": [
           "#1F77B4",
           "#FF7F0E",
           "#2CA02C",
           "#D62728",
           "#9467BD",
           "#8C564B",
           "#E377C2",
           "#7F7F7F",
           "#BCBD22",
           "#17BECF"
          ],
          "font": {
           "color": "rgb(36,36,36)"
          },
          "geo": {
           "bgcolor": "white",
           "lakecolor": "white",
           "landcolor": "white",
           "showlakes": true,
           "showland": true,
           "subunitcolor": "white"
          },
          "hoverlabel": {
           "align": "left"
          },
          "hovermode": "closest",
          "mapbox": {
           "style": "light"
          },
          "paper_bgcolor": "white",
          "plot_bgcolor": "white",
          "polar": {
           "angularaxis": {
            "gridcolor": "rgb(232,232,232)",
            "linecolor": "rgb(36,36,36)",
            "showgrid": false,
            "showline": true,
            "ticks": "outside"
           },
           "bgcolor": "white",
           "radialaxis": {
            "gridcolor": "rgb(232,232,232)",
            "linecolor": "rgb(36,36,36)",
            "showgrid": false,
            "showline": true,
            "ticks": "outside"
           }
          },
          "scene": {
           "xaxis": {
            "backgroundcolor": "white",
            "gridcolor": "rgb(232,232,232)",
            "gridwidth": 2,
            "linecolor": "rgb(36,36,36)",
            "showbackground": true,
            "showgrid": false,
            "showline": true,
            "ticks": "outside",
            "zeroline": false,
            "zerolinecolor": "rgb(36,36,36)"
           },
           "yaxis": {
            "backgroundcolor": "white",
            "gridcolor": "rgb(232,232,232)",
            "gridwidth": 2,
            "linecolor": "rgb(36,36,36)",
            "showbackground": true,
            "showgrid": false,
            "showline": true,
            "ticks": "outside",
            "zeroline": false,
            "zerolinecolor": "rgb(36,36,36)"
           },
           "zaxis": {
            "backgroundcolor": "white",
            "gridcolor": "rgb(232,232,232)",
            "gridwidth": 2,
            "linecolor": "rgb(36,36,36)",
            "showbackground": true,
            "showgrid": false,
            "showline": true,
            "ticks": "outside",
            "zeroline": false,
            "zerolinecolor": "rgb(36,36,36)"
           }
          },
          "shapedefaults": {
           "fillcolor": "black",
           "line": {
            "width": 0
           },
           "opacity": 0.3
          },
          "ternary": {
           "aaxis": {
            "gridcolor": "rgb(232,232,232)",
            "linecolor": "rgb(36,36,36)",
            "showgrid": false,
            "showline": true,
            "ticks": "outside"
           },
           "baxis": {
            "gridcolor": "rgb(232,232,232)",
            "linecolor": "rgb(36,36,36)",
            "showgrid": false,
            "showline": true,
            "ticks": "outside"
           },
           "bgcolor": "white",
           "caxis": {
            "gridcolor": "rgb(232,232,232)",
            "linecolor": "rgb(36,36,36)",
            "showgrid": false,
            "showline": true,
            "ticks": "outside"
           }
          },
          "title": {
           "x": 0.05
          },
          "xaxis": {
           "automargin": true,
           "gridcolor": "rgb(232,232,232)",
           "linecolor": "rgb(36,36,36)",
           "showgrid": false,
           "showline": true,
           "ticks": "outside",
           "title": {
            "standoff": 15
           },
           "zeroline": false,
           "zerolinecolor": "rgb(36,36,36)"
          },
          "yaxis": {
           "automargin": true,
           "gridcolor": "rgb(232,232,232)",
           "linecolor": "rgb(36,36,36)",
           "showgrid": false,
           "showline": true,
           "ticks": "outside",
           "title": {
            "standoff": 15
           },
           "zeroline": false,
           "zerolinecolor": "rgb(36,36,36)"
          }
         }
        },
        "title": {
         "text": "Feature extraction with ResNet34"
        },
        "width": 800,
        "xaxis": {
         "anchor": "y",
         "domain": [
          0,
          0.94
         ],
         "title": {
          "text": "Num batches seen"
         }
        },
        "yaxis": {
         "anchor": "x",
         "domain": [
          0,
          1
         ],
         "range": [
          0,
          11.71247730255127
         ],
         "title": {
          "text": "Cross entropy loss"
         }
        },
        "yaxis2": {
         "anchor": "x",
         "overlaying": "y",
         "side": "right",
         "title": {
          "text": "Test accuracy"
         }
        }
       }
      },
      "text/html": [
       "<div>                            <div id=\"503fdce0-f1fd-45e1-9b0f-6aa7a21d8771\" class=\"plotly-graph-div\" style=\"height:500px; width:800px;\"></div>            <script type=\"text/javascript\">                require([\"plotly\"], function(Plotly) {                    window.PLOTLYENV=window.PLOTLYENV || {};                                    if (document.getElementById(\"503fdce0-f1fd-45e1-9b0f-6aa7a21d8771\")) {                    Plotly.newPlot(                        \"503fdce0-f1fd-45e1-9b0f-6aa7a21d8771\",                        [{\"name\":\"Training\",\"x\":[0,1,2,3,4,5,6,7,8,9,10,11,12,13,14,15,16,17,18,19,20,21,22,23,24,25,26,27,28,29,30,31,32,33,34,35,36,37,38,39,40,41,42,43,44,45,46,47,48,49,50,51,52,53,54,55,56,57,58,59,60,61,62,63,64,65,66,67,68,69,70,71,72,73,74,75,76,77,78,79,80,81,82,83,84,85,86,87,88,89,90,91,92,93,94,95,96,97,98,99,100,101,102,103,104,105,106,107,108,109,110,111,112,113,114,115,116,117,118,119,120,121,122,123,124,125,126,127,128,129,130,131,132,133,134,135,136,137,138,139,140,141,142,143,144,145,146,147,148,149,150,151,152,153,154,155,156,157,158,159,160,161,162,163,164,165,166,167,168,169,170,171,172,173,174,175,176,177,178,179,180,181,182,183,184,185,186,187,188,189,190,191,192,193,194,195,196,197,198,199,200,201,202,203,204,205,206,207,208,209,210,211,212,213,214,215,216,217,218,219,220,221,222,223,224,225,226,227,228,229,230,231,232,233,234,235,236],\"y\":[11.61247730255127,10.495927810668945,9.9102144241333,10.196176528930664,8.838288307189941,9.103105545043945,8.160937309265137,8.99299430847168,7.822930335998535,8.43701171875,7.956534385681152,6.824463367462158,7.608354091644287,7.852296829223633,7.76358699798584,6.112377643585205,7.666509628295898,7.1359028816223145,7.501773834228516,6.993189811706543,7.26987361907959,6.819321155548096,7.301197528839111,6.023134231567383,6.038290977478027,6.155546188354492,6.250689506530762,6.298907279968262,6.872000694274902,6.601291179656982,5.648528575897217,7.2892255783081055,6.377155303955078,6.471258163452148,5.194764137268066,5.4495439529418945,6.913181304931641,7.317896366119385,6.721986293792725,6.333613872528076,5.110021114349365,6.518909931182861,6.4484543800354,6.430237770080566,5.295046806335449,5.613297939300537,6.956368446350098,5.859930038452148,7.35765266418457,5.416017055511475,5.621639251708984,6.667832374572754,6.138073921203613,5.469708442687988,6.457094669342041,5.632261276245117,5.995641708374023,5.660377025604248,6.0152997970581055,5.681753158569336,5.690940856933594,4.795042037963867,6.882708549499512,4.510511875152588,4.857251167297363,6.013736248016357,5.178898334503174,5.530239105224609,4.782838821411133,5.137421607971191,5.384565830230713,5.660766124725342,6.326735496520996,5.426241397857666,5.133874893188477,5.082278728485107,5.914732456207275,5.523859024047852,5.254090785980225,4.279109477996826,4.114156246185303,5.322818756103516,5.297931671142578,5.598300457000732,5.069950580596924,4.782515525817871,4.927051544189453,4.068303108215332,5.316051006317139,4.081685543060303,3.7582011222839355,3.8449947834014893,4.299605846405029,4.397877216339111,6.050673007965088,4.582325458526611,4.963465690612793,5.3631486892700195,4.61610746383667,4.5849504470825195,4.903197288513184,5.154363632202148,5.327554702758789,4.857176303863525,5.167006969451904,5.273726463317871,5.348700523376465,5.127202987670898,4.535886287689209,5.017630100250244,3.831326484680176,4.221295356750488,4.260004997253418,4.661001205444336,3.739212989807129,5.39927339553833,4.13300085067749,4.40347957611084,5.522421836853027,4.4088335037231445,5.760228633880615,4.1658616065979,5.216312408447266,4.096164226531982,4.8433427810668945,4.305112361907959,5.4068708419799805,3.698521137237549,4.803727149963379,3.407846450805664,3.696986675262451,4.229875087738037,3.876425266265869,3.3809714317321777,4.016836643218994,4.902985095977783,4.0088324546813965,4.323512554168701,3.669118642807007,4.077147483825684,4.722097396850586,4.134058952331543,3.3525168895721436,4.120304107666016,4.318789482116699,4.452295303344727,3.5185911655426025,3.2739248275756836,4.569310188293457,3.407860279083252,3.806730270385742,3.982095956802368,3.8820629119873047,3.618051290512085,3.2734122276306152,4.592701435089111,4.001911163330078,1.85536527633667,4.3169074058532715,3.649609088897705,4.086503028869629,3.964664936065674,3.8448591232299805,3.651278018951416,3.524367570877075,3.6859817504882812,3.7205495834350586,4.218502998352051,2.69088077545166,4.126547813415527,3.1383724212646484,3.5584287643432617,3.8548336029052734,3.577300548553467,3.5171263217926025,4.227267265319824,3.2617015838623047,3.2281858921051025,4.392545700073242,3.620962381362915,3.4199259281158447,3.5247962474823,3.0575244426727295,3.9368958473205566,4.097391605377197,4.5717692375183105,3.194678544998169,3.467562198638916,2.8961021900177,3.705195903778076,4.434611797332764,3.6393027305603027,3.6205406188964844,3.389371633529663,3.7113945484161377,3.8994548320770264,3.8012781143188477,3.5402588844299316,3.4075310230255127,3.2199714183807373,3.5288314819335938,4.081827640533447,2.6358675956726074,3.814695358276367,3.2054765224456787,3.5232126712799072,3.0928053855895996,3.2040185928344727,3.164456844329834,2.973587989807129,3.6124656200408936,3.404519557952881,2.6282846927642822,3.930330753326416,2.607666015625,2.109736919403076,3.5055575370788574,3.1511001586914062,3.571866512298584,4.026594161987305,2.9179930686950684,2.9246022701263428,4.176274299621582,2.6151206493377686,3.099320888519287,3.2919816970825195,4.271592140197754,3.883058786392212,3.1141915321350098,3.3639416694641113,4.100156307220459,3.0093770027160645,2.504918098449707,2.799363374710083,3.330118179321289,2.429544448852539,1.309566617012024],\"type\":\"scatter\",\"xaxis\":\"x\",\"yaxis\":\"y\"},{\"name\":\"Testing\",\"x\":[79,158,237],\"y\":[22.5,30.9,40.8],\"type\":\"scatter\",\"xaxis\":\"x\",\"yaxis\":\"y2\"}],                        {\"template\":{\"data\":{\"barpolar\":[{\"marker\":{\"line\":{\"color\":\"white\",\"width\":0.5},\"pattern\":{\"fillmode\":\"overlay\",\"size\":10,\"solidity\":0.2}},\"type\":\"barpolar\"}],\"bar\":[{\"error_x\":{\"color\":\"rgb(36,36,36)\"},\"error_y\":{\"color\":\"rgb(36,36,36)\"},\"marker\":{\"line\":{\"color\":\"white\",\"width\":0.5},\"pattern\":{\"fillmode\":\"overlay\",\"size\":10,\"solidity\":0.2}},\"type\":\"bar\"}],\"carpet\":[{\"aaxis\":{\"endlinecolor\":\"rgb(36,36,36)\",\"gridcolor\":\"white\",\"linecolor\":\"white\",\"minorgridcolor\":\"white\",\"startlinecolor\":\"rgb(36,36,36)\"},\"baxis\":{\"endlinecolor\":\"rgb(36,36,36)\",\"gridcolor\":\"white\",\"linecolor\":\"white\",\"minorgridcolor\":\"white\",\"startlinecolor\":\"rgb(36,36,36)\"},\"type\":\"carpet\"}],\"choropleth\":[{\"colorbar\":{\"outlinewidth\":1,\"tickcolor\":\"rgb(36,36,36)\",\"ticks\":\"outside\"},\"type\":\"choropleth\"}],\"contourcarpet\":[{\"colorbar\":{\"outlinewidth\":1,\"tickcolor\":\"rgb(36,36,36)\",\"ticks\":\"outside\"},\"type\":\"contourcarpet\"}],\"contour\":[{\"colorbar\":{\"outlinewidth\":1,\"tickcolor\":\"rgb(36,36,36)\",\"ticks\":\"outside\"},\"colorscale\":[[0.0,\"#440154\"],[0.1111111111111111,\"#482878\"],[0.2222222222222222,\"#3e4989\"],[0.3333333333333333,\"#31688e\"],[0.4444444444444444,\"#26828e\"],[0.5555555555555556,\"#1f9e89\"],[0.6666666666666666,\"#35b779\"],[0.7777777777777778,\"#6ece58\"],[0.8888888888888888,\"#b5de2b\"],[1.0,\"#fde725\"]],\"type\":\"contour\"}],\"heatmapgl\":[{\"colorbar\":{\"outlinewidth\":1,\"tickcolor\":\"rgb(36,36,36)\",\"ticks\":\"outside\"},\"colorscale\":[[0.0,\"#440154\"],[0.1111111111111111,\"#482878\"],[0.2222222222222222,\"#3e4989\"],[0.3333333333333333,\"#31688e\"],[0.4444444444444444,\"#26828e\"],[0.5555555555555556,\"#1f9e89\"],[0.6666666666666666,\"#35b779\"],[0.7777777777777778,\"#6ece58\"],[0.8888888888888888,\"#b5de2b\"],[1.0,\"#fde725\"]],\"type\":\"heatmapgl\"}],\"heatmap\":[{\"colorbar\":{\"outlinewidth\":1,\"tickcolor\":\"rgb(36,36,36)\",\"ticks\":\"outside\"},\"colorscale\":[[0.0,\"#440154\"],[0.1111111111111111,\"#482878\"],[0.2222222222222222,\"#3e4989\"],[0.3333333333333333,\"#31688e\"],[0.4444444444444444,\"#26828e\"],[0.5555555555555556,\"#1f9e89\"],[0.6666666666666666,\"#35b779\"],[0.7777777777777778,\"#6ece58\"],[0.8888888888888888,\"#b5de2b\"],[1.0,\"#fde725\"]],\"type\":\"heatmap\"}],\"histogram2dcontour\":[{\"colorbar\":{\"outlinewidth\":1,\"tickcolor\":\"rgb(36,36,36)\",\"ticks\":\"outside\"},\"colorscale\":[[0.0,\"#440154\"],[0.1111111111111111,\"#482878\"],[0.2222222222222222,\"#3e4989\"],[0.3333333333333333,\"#31688e\"],[0.4444444444444444,\"#26828e\"],[0.5555555555555556,\"#1f9e89\"],[0.6666666666666666,\"#35b779\"],[0.7777777777777778,\"#6ece58\"],[0.8888888888888888,\"#b5de2b\"],[1.0,\"#fde725\"]],\"type\":\"histogram2dcontour\"}],\"histogram2d\":[{\"colorbar\":{\"outlinewidth\":1,\"tickcolor\":\"rgb(36,36,36)\",\"ticks\":\"outside\"},\"colorscale\":[[0.0,\"#440154\"],[0.1111111111111111,\"#482878\"],[0.2222222222222222,\"#3e4989\"],[0.3333333333333333,\"#31688e\"],[0.4444444444444444,\"#26828e\"],[0.5555555555555556,\"#1f9e89\"],[0.6666666666666666,\"#35b779\"],[0.7777777777777778,\"#6ece58\"],[0.8888888888888888,\"#b5de2b\"],[1.0,\"#fde725\"]],\"type\":\"histogram2d\"}],\"histogram\":[{\"marker\":{\"line\":{\"color\":\"white\",\"width\":0.6}},\"type\":\"histogram\"}],\"mesh3d\":[{\"colorbar\":{\"outlinewidth\":1,\"tickcolor\":\"rgb(36,36,36)\",\"ticks\":\"outside\"},\"type\":\"mesh3d\"}],\"parcoords\":[{\"line\":{\"colorbar\":{\"outlinewidth\":1,\"tickcolor\":\"rgb(36,36,36)\",\"ticks\":\"outside\"}},\"type\":\"parcoords\"}],\"pie\":[{\"automargin\":true,\"type\":\"pie\"}],\"scatter3d\":[{\"line\":{\"colorbar\":{\"outlinewidth\":1,\"tickcolor\":\"rgb(36,36,36)\",\"ticks\":\"outside\"}},\"marker\":{\"colorbar\":{\"outlinewidth\":1,\"tickcolor\":\"rgb(36,36,36)\",\"ticks\":\"outside\"}},\"type\":\"scatter3d\"}],\"scattercarpet\":[{\"marker\":{\"colorbar\":{\"outlinewidth\":1,\"tickcolor\":\"rgb(36,36,36)\",\"ticks\":\"outside\"}},\"type\":\"scattercarpet\"}],\"scattergeo\":[{\"marker\":{\"colorbar\":{\"outlinewidth\":1,\"tickcolor\":\"rgb(36,36,36)\",\"ticks\":\"outside\"}},\"type\":\"scattergeo\"}],\"scattergl\":[{\"marker\":{\"colorbar\":{\"outlinewidth\":1,\"tickcolor\":\"rgb(36,36,36)\",\"ticks\":\"outside\"}},\"type\":\"scattergl\"}],\"scattermapbox\":[{\"marker\":{\"colorbar\":{\"outlinewidth\":1,\"tickcolor\":\"rgb(36,36,36)\",\"ticks\":\"outside\"}},\"type\":\"scattermapbox\"}],\"scatterpolargl\":[{\"marker\":{\"colorbar\":{\"outlinewidth\":1,\"tickcolor\":\"rgb(36,36,36)\",\"ticks\":\"outside\"}},\"type\":\"scatterpolargl\"}],\"scatterpolar\":[{\"marker\":{\"colorbar\":{\"outlinewidth\":1,\"tickcolor\":\"rgb(36,36,36)\",\"ticks\":\"outside\"}},\"type\":\"scatterpolar\"}],\"scatter\":[{\"fillpattern\":{\"fillmode\":\"overlay\",\"size\":10,\"solidity\":0.2},\"type\":\"scatter\"}],\"scatterternary\":[{\"marker\":{\"colorbar\":{\"outlinewidth\":1,\"tickcolor\":\"rgb(36,36,36)\",\"ticks\":\"outside\"}},\"type\":\"scatterternary\"}],\"surface\":[{\"colorbar\":{\"outlinewidth\":1,\"tickcolor\":\"rgb(36,36,36)\",\"ticks\":\"outside\"},\"colorscale\":[[0.0,\"#440154\"],[0.1111111111111111,\"#482878\"],[0.2222222222222222,\"#3e4989\"],[0.3333333333333333,\"#31688e\"],[0.4444444444444444,\"#26828e\"],[0.5555555555555556,\"#1f9e89\"],[0.6666666666666666,\"#35b779\"],[0.7777777777777778,\"#6ece58\"],[0.8888888888888888,\"#b5de2b\"],[1.0,\"#fde725\"]],\"type\":\"surface\"}],\"table\":[{\"cells\":{\"fill\":{\"color\":\"rgb(237,237,237)\"},\"line\":{\"color\":\"white\"}},\"header\":{\"fill\":{\"color\":\"rgb(217,217,217)\"},\"line\":{\"color\":\"white\"}},\"type\":\"table\"}]},\"layout\":{\"annotationdefaults\":{\"arrowhead\":0,\"arrowwidth\":1},\"autotypenumbers\":\"strict\",\"coloraxis\":{\"colorbar\":{\"outlinewidth\":1,\"tickcolor\":\"rgb(36,36,36)\",\"ticks\":\"outside\"}},\"colorscale\":{\"diverging\":[[0.0,\"rgb(103,0,31)\"],[0.1,\"rgb(178,24,43)\"],[0.2,\"rgb(214,96,77)\"],[0.3,\"rgb(244,165,130)\"],[0.4,\"rgb(253,219,199)\"],[0.5,\"rgb(247,247,247)\"],[0.6,\"rgb(209,229,240)\"],[0.7,\"rgb(146,197,222)\"],[0.8,\"rgb(67,147,195)\"],[0.9,\"rgb(33,102,172)\"],[1.0,\"rgb(5,48,97)\"]],\"sequential\":[[0.0,\"#440154\"],[0.1111111111111111,\"#482878\"],[0.2222222222222222,\"#3e4989\"],[0.3333333333333333,\"#31688e\"],[0.4444444444444444,\"#26828e\"],[0.5555555555555556,\"#1f9e89\"],[0.6666666666666666,\"#35b779\"],[0.7777777777777778,\"#6ece58\"],[0.8888888888888888,\"#b5de2b\"],[1.0,\"#fde725\"]],\"sequentialminus\":[[0.0,\"#440154\"],[0.1111111111111111,\"#482878\"],[0.2222222222222222,\"#3e4989\"],[0.3333333333333333,\"#31688e\"],[0.4444444444444444,\"#26828e\"],[0.5555555555555556,\"#1f9e89\"],[0.6666666666666666,\"#35b779\"],[0.7777777777777778,\"#6ece58\"],[0.8888888888888888,\"#b5de2b\"],[1.0,\"#fde725\"]]},\"colorway\":[\"#1F77B4\",\"#FF7F0E\",\"#2CA02C\",\"#D62728\",\"#9467BD\",\"#8C564B\",\"#E377C2\",\"#7F7F7F\",\"#BCBD22\",\"#17BECF\"],\"font\":{\"color\":\"rgb(36,36,36)\"},\"geo\":{\"bgcolor\":\"white\",\"lakecolor\":\"white\",\"landcolor\":\"white\",\"showlakes\":true,\"showland\":true,\"subunitcolor\":\"white\"},\"hoverlabel\":{\"align\":\"left\"},\"hovermode\":\"closest\",\"mapbox\":{\"style\":\"light\"},\"paper_bgcolor\":\"white\",\"plot_bgcolor\":\"white\",\"polar\":{\"angularaxis\":{\"gridcolor\":\"rgb(232,232,232)\",\"linecolor\":\"rgb(36,36,36)\",\"showgrid\":false,\"showline\":true,\"ticks\":\"outside\"},\"bgcolor\":\"white\",\"radialaxis\":{\"gridcolor\":\"rgb(232,232,232)\",\"linecolor\":\"rgb(36,36,36)\",\"showgrid\":false,\"showline\":true,\"ticks\":\"outside\"}},\"scene\":{\"xaxis\":{\"backgroundcolor\":\"white\",\"gridcolor\":\"rgb(232,232,232)\",\"gridwidth\":2,\"linecolor\":\"rgb(36,36,36)\",\"showbackground\":true,\"showgrid\":false,\"showline\":true,\"ticks\":\"outside\",\"zeroline\":false,\"zerolinecolor\":\"rgb(36,36,36)\"},\"yaxis\":{\"backgroundcolor\":\"white\",\"gridcolor\":\"rgb(232,232,232)\",\"gridwidth\":2,\"linecolor\":\"rgb(36,36,36)\",\"showbackground\":true,\"showgrid\":false,\"showline\":true,\"ticks\":\"outside\",\"zeroline\":false,\"zerolinecolor\":\"rgb(36,36,36)\"},\"zaxis\":{\"backgroundcolor\":\"white\",\"gridcolor\":\"rgb(232,232,232)\",\"gridwidth\":2,\"linecolor\":\"rgb(36,36,36)\",\"showbackground\":true,\"showgrid\":false,\"showline\":true,\"ticks\":\"outside\",\"zeroline\":false,\"zerolinecolor\":\"rgb(36,36,36)\"}},\"shapedefaults\":{\"fillcolor\":\"black\",\"line\":{\"width\":0},\"opacity\":0.3},\"ternary\":{\"aaxis\":{\"gridcolor\":\"rgb(232,232,232)\",\"linecolor\":\"rgb(36,36,36)\",\"showgrid\":false,\"showline\":true,\"ticks\":\"outside\"},\"baxis\":{\"gridcolor\":\"rgb(232,232,232)\",\"linecolor\":\"rgb(36,36,36)\",\"showgrid\":false,\"showline\":true,\"ticks\":\"outside\"},\"bgcolor\":\"white\",\"caxis\":{\"gridcolor\":\"rgb(232,232,232)\",\"linecolor\":\"rgb(36,36,36)\",\"showgrid\":false,\"showline\":true,\"ticks\":\"outside\"}},\"title\":{\"x\":0.05},\"xaxis\":{\"automargin\":true,\"gridcolor\":\"rgb(232,232,232)\",\"linecolor\":\"rgb(36,36,36)\",\"showgrid\":false,\"showline\":true,\"ticks\":\"outside\",\"title\":{\"standoff\":15},\"zeroline\":false,\"zerolinecolor\":\"rgb(36,36,36)\"},\"yaxis\":{\"automargin\":true,\"gridcolor\":\"rgb(232,232,232)\",\"linecolor\":\"rgb(36,36,36)\",\"showgrid\":false,\"showline\":true,\"ticks\":\"outside\",\"title\":{\"standoff\":15},\"zeroline\":false,\"zerolinecolor\":\"rgb(36,36,36)\"}}},\"xaxis\":{\"anchor\":\"y\",\"domain\":[0.0,0.94],\"title\":{\"text\":\"Num batches seen\"}},\"yaxis\":{\"anchor\":\"x\",\"domain\":[0.0,1.0],\"title\":{\"text\":\"Cross entropy loss\"},\"range\":[0,11.71247730255127]},\"yaxis2\":{\"anchor\":\"x\",\"overlaying\":\"y\",\"side\":\"right\",\"title\":{\"text\":\"Test accuracy\"}},\"hovermode\":\"x unified\",\"title\":{\"text\":\"Feature extraction with ResNet34\"},\"width\":800,\"height\":500},                        {\"responsive\": true}                    ).then(function(){\n",
       "                            \n",
       "var gd = document.getElementById('503fdce0-f1fd-45e1-9b0f-6aa7a21d8771');\n",
       "var x = new MutationObserver(function (mutations, observer) {{\n",
       "        var display = window.getComputedStyle(gd).display;\n",
       "        if (!display || display === 'none') {{\n",
       "            console.log([gd, 'removed!']);\n",
       "            Plotly.purge(gd);\n",
       "            observer.disconnect();\n",
       "        }}\n",
       "}});\n",
       "\n",
       "// Listen for the removal of the full notebook cells\n",
       "var notebookContainer = gd.closest('#notebook-container');\n",
       "if (notebookContainer) {{\n",
       "    x.observe(notebookContainer, {childList: true});\n",
       "}}\n",
       "\n",
       "// Listen for the clearing of the current output cell\n",
       "var outputEl = gd.closest('.output');\n",
       "if (outputEl) {{\n",
       "    x.observe(outputEl, {childList: true});\n",
       "}}\n",
       "\n",
       "                        })                };                });            </script>        </div>"
      ]
     },
     "metadata": {},
     "output_type": "display_data"
    }
   ],
   "source": [
    "# YOUR CODE HERE - write your `ResNetTrainer` class\n",
    "\n",
    "class ResNetTrainer():\n",
    "    def __init__(self, args: ResNetTrainingArgs):\n",
    "        self.args = args\n",
    "        self.batch_size = args.batch_size\n",
    "        self.epochs = args.epochs\n",
    "        \n",
    "        self.learning_rate = args.learning_rate\n",
    "        self.n_classes = args.n_classes\n",
    "\n",
    "        self.subset = args.subset\n",
    "        self.device = t.device(\"cuda\" if t.cuda.is_available() else \"cpu\")\n",
    "\n",
    "        self.logged_variables = {\"loss\": [], \"accuracy\": []}\n",
    "\n",
    "        self.model = get_resnet_for_feature_extraction(self.n_classes).to(self.device)\n",
    "\n",
    "        self.optimizer = args.optimizer(params=self.model.parameters(), lr=self.learning_rate)\n",
    "        self.trainset, self.testset = get_cifar(subset=self.subset)\n",
    "        self.trainloader = DataLoader(self.trainset, batch_size=self.batch_size, shuffle=True)\n",
    "        self.testloader = DataLoader(self.testset, batch_size=self.batch_size)\n",
    "    \n",
    "    def train(self):\n",
    "        for epoch in tqdm(range(self.epochs)):\n",
    "            self.model.train()\n",
    "\n",
    "            for items, labels in tqdm(self.trainloader, desc=f\"Epoch {epoch+1}\"):\n",
    "                items = items.to(self.device)\n",
    "                labels = labels.to(self.device)\n",
    "                logits = self.model(items)\n",
    "                loss = F.cross_entropy(logits, labels)\n",
    "                loss.backward()\n",
    "                self.optimizer.step()\n",
    "                self.optimizer.zero_grad()\n",
    "                self.logged_variables[\"loss\"].append(loss.item())\n",
    "            \n",
    "            self.model.eval()\n",
    "            num_correct = 0\n",
    "            for items, labels in tqdm(self.testloader):\n",
    "                items = items.to(self.device)\n",
    "                labels = labels.to(self.device)\n",
    "                logits = self.model(items)\n",
    "                \n",
    "                corr = labels == t.argmax(logits, dim=-1)\n",
    "\n",
    "                num_correct += corr.sum().item()\n",
    "\n",
    "            acc = num_correct *100.0 / len(self.testset)\n",
    "            self.logged_variables[\"accuracy\"].append(acc)\n",
    "\n",
    "            print(f\"Accuracy after epoch {epoch + 1}: {acc}\")\n",
    "                \n",
    "\n",
    "args = ResNetTrainingArgs()\n",
    "trainer = ResNetTrainer(args)\n",
    "trainer.train()\n",
    "plot_train_loss_and_test_accuracy_from_trainer(\n",
    "    trainer, title=\"Feature extraction with ResNet34\"\n",
    ")"
   ]
  },
  {
   "cell_type": "code",
   "execution_count": 166,
   "metadata": {},
   "outputs": [
    {
     "data": {
      "application/vnd.plotly.v1+json": {
       "config": {
        "plotlyServerURL": "https://plot.ly"
       },
       "data": [
        {
         "name": "Training",
         "type": "scatter",
         "x": [
          0,
          1,
          2,
          3,
          4,
          5,
          6,
          7,
          8,
          9,
          10,
          11,
          12,
          13,
          14,
          15,
          16,
          17,
          18,
          19,
          20,
          21,
          22,
          23,
          24,
          25,
          26,
          27,
          28,
          29,
          30,
          31,
          32,
          33,
          34,
          35,
          36,
          37,
          38,
          39,
          40,
          41,
          42,
          43,
          44,
          45,
          46,
          47,
          48,
          49,
          50,
          51,
          52,
          53,
          54,
          55,
          56,
          57,
          58,
          59,
          60,
          61,
          62,
          63,
          64,
          65,
          66,
          67,
          68,
          69,
          70,
          71,
          72,
          73,
          74,
          75,
          76,
          77,
          78,
          79,
          80,
          81,
          82,
          83,
          84,
          85,
          86,
          87,
          88,
          89,
          90,
          91,
          92,
          93,
          94,
          95,
          96,
          97,
          98,
          99,
          100,
          101,
          102,
          103,
          104,
          105,
          106,
          107,
          108,
          109,
          110,
          111,
          112,
          113,
          114,
          115,
          116,
          117,
          118,
          119,
          120,
          121,
          122,
          123,
          124,
          125,
          126,
          127,
          128,
          129,
          130,
          131,
          132,
          133,
          134,
          135,
          136,
          137,
          138,
          139,
          140,
          141,
          142,
          143,
          144,
          145,
          146,
          147,
          148,
          149,
          150,
          151,
          152,
          153,
          154,
          155,
          156,
          157,
          158,
          159,
          160,
          161,
          162,
          163,
          164,
          165,
          166,
          167,
          168,
          169,
          170,
          171,
          172,
          173,
          174,
          175,
          176,
          177,
          178,
          179,
          180,
          181,
          182,
          183,
          184,
          185,
          186,
          187,
          188,
          189,
          190,
          191,
          192,
          193,
          194,
          195,
          196,
          197,
          198,
          199,
          200,
          201,
          202,
          203,
          204,
          205,
          206,
          207,
          208,
          209,
          210,
          211,
          212,
          213,
          214,
          215,
          216,
          217,
          218,
          219,
          220,
          221,
          222,
          223,
          224,
          225,
          226,
          227,
          228,
          229,
          230,
          231,
          232,
          233,
          234,
          235,
          236
         ],
         "xaxis": "x",
         "y": [
          9.36384105682373,
          9.115400314331055,
          10.023058891296387,
          9.25155258178711,
          8.147018432617188,
          7.647972583770752,
          8.560356140136719,
          7.606387615203857,
          8.498644828796387,
          7.713658809661865,
          7.738393306732178,
          7.469240665435791,
          8.031183242797852,
          7.795596599578857,
          7.823843479156494,
          7.0657758712768555,
          7.78384256362915,
          7.651947498321533,
          8.301191329956055,
          7.786754608154297,
          5.674587249755859,
          7.847491264343262,
          6.714730262756348,
          7.410268306732178,
          5.974972248077393,
          6.86146879196167,
          5.228188514709473,
          6.678635597229004,
          8.088797569274902,
          6.995107650756836,
          5.398768901824951,
          7.137759685516357,
          7.628276824951172,
          6.974436283111572,
          6.662185192108154,
          6.716599464416504,
          5.811984539031982,
          6.136675834655762,
          6.949337959289551,
          6.75076961517334,
          6.881580352783203,
          6.348575115203857,
          5.052649021148682,
          6.536498069763184,
          5.952410697937012,
          6.339803695678711,
          5.762693405151367,
          5.438649654388428,
          5.707081317901611,
          6.647037029266357,
          5.591720104217529,
          5.731482028961182,
          5.080791473388672,
          6.872480392456055,
          5.804239749908447,
          6.646554946899414,
          6.400995254516602,
          6.065374851226807,
          6.117308616638184,
          6.446744918823242,
          6.311759948730469,
          5.96040678024292,
          5.424786567687988,
          5.9234724044799805,
          6.2942609786987305,
          6.0582451820373535,
          4.851377964019775,
          5.991443634033203,
          6.143500328063965,
          5.241990089416504,
          6.4369611740112305,
          6.14068603515625,
          5.611822128295898,
          4.336543560028076,
          5.184566497802734,
          5.979702472686768,
          4.959591865539551,
          5.237939357757568,
          4.454868316650391,
          5.547329902648926,
          5.550913333892822,
          4.891861438751221,
          5.020442962646484,
          5.880580425262451,
          4.156497478485107,
          7.478466510772705,
          4.920047760009766,
          4.845212459564209,
          5.177123069763184,
          5.618780612945557,
          6.343896389007568,
          4.442394256591797,
          4.44360876083374,
          4.073650360107422,
          4.8440842628479,
          5.765281677246094,
          4.9337944984436035,
          5.32993745803833,
          4.890224933624268,
          5.3003740310668945,
          5.096092700958252,
          5.487530708312988,
          4.653078079223633,
          4.848092079162598,
          4.141289234161377,
          4.588027477264404,
          5.083401203155518,
          4.945516586303711,
          4.510804176330566,
          4.204622745513916,
          4.486517906188965,
          3.815910816192627,
          5.1981611251831055,
          5.129456520080566,
          4.777604103088379,
          4.520359516143799,
          4.839717388153076,
          4.696889877319336,
          4.23601770401001,
          4.167449951171875,
          4.019570350646973,
          4.140422821044922,
          5.0266194343566895,
          5.35512113571167,
          3.4161489009857178,
          3.082246780395508,
          4.42368221282959,
          4.098561763763428,
          5.267207622528076,
          4.482297420501709,
          4.989025115966797,
          3.950394868850708,
          3.3048086166381836,
          4.279360771179199,
          4.802656173706055,
          4.173186779022217,
          3.904343605041504,
          4.996681213378906,
          4.336016654968262,
          3.3860414028167725,
          4.296889305114746,
          4.405573844909668,
          4.4149250984191895,
          3.320713758468628,
          3.6293787956237793,
          3.3691000938415527,
          4.448353290557861,
          3.9227802753448486,
          5.065165042877197,
          4.416001796722412,
          4.220853328704834,
          3.9679458141326904,
          4.609834671020508,
          4.245631694793701,
          3.780134677886963,
          3.636549711227417,
          3.6967270374298096,
          4.010727882385254,
          3.491408109664917,
          3.475520372390747,
          4.396067142486572,
          3.7351884841918945,
          4.557021141052246,
          4.222988128662109,
          3.322495698928833,
          3.437943696975708,
          3.4131107330322266,
          3.224560499191284,
          4.292227268218994,
          3.443502426147461,
          4.891127109527588,
          3.0945191383361816,
          3.5808796882629395,
          3.851165771484375,
          3.6834418773651123,
          3.4773976802825928,
          3.02841854095459,
          3.855592966079712,
          3.5901436805725098,
          3.281580924987793,
          4.389826774597168,
          3.5115628242492676,
          3.4924864768981934,
          3.986820697784424,
          3.9886364936828613,
          4.118113994598389,
          3.4207215309143066,
          3.165700674057007,
          3.100750207901001,
          3.453709602355957,
          4.312131404876709,
          3.429300308227539,
          3.9456706047058105,
          2.763519287109375,
          2.922503709793091,
          4.091540336608887,
          3.54367995262146,
          2.920325517654419,
          3.432267189025879,
          3.7932488918304443,
          3.7008121013641357,
          2.700009346008301,
          3.445058822631836,
          4.683625221252441,
          3.5195350646972656,
          3.4116458892822266,
          2.838437557220459,
          3.3414723873138428,
          3.425161123275757,
          4.10045862197876,
          3.7571802139282227,
          3.209507703781128,
          2.9798598289489746,
          4.029657363891602,
          2.9052209854125977,
          3.1610045433044434,
          3.32029128074646,
          4.003923416137695,
          3.0463290214538574,
          2.5435402393341064,
          3.659088611602783,
          3.0589711666107178,
          3.057111978530884,
          2.5699148178100586,
          2.5476105213165283,
          3.349184274673462,
          2.919158458709717,
          4.259128093719482,
          3.481764316558838,
          3.5537848472595215,
          2.661773681640625,
          3.8176076412200928,
          3.3057796955108643,
          2.716218948364258,
          3.7941763401031494,
          3.3417837619781494,
          2.806540012359619
         ],
         "yaxis": "y"
        },
        {
         "name": "Testing",
         "type": "scatter",
         "x": [
          79,
          158,
          237
         ],
         "xaxis": "x",
         "y": [
          21.5,
          32.7,
          40.1
         ],
         "yaxis": "y2"
        }
       ],
       "layout": {
        "height": 500,
        "hovermode": "x unified",
        "template": {
         "data": {
          "bar": [
           {
            "error_x": {
             "color": "rgb(36,36,36)"
            },
            "error_y": {
             "color": "rgb(36,36,36)"
            },
            "marker": {
             "line": {
              "color": "white",
              "width": 0.5
             },
             "pattern": {
              "fillmode": "overlay",
              "size": 10,
              "solidity": 0.2
             }
            },
            "type": "bar"
           }
          ],
          "barpolar": [
           {
            "marker": {
             "line": {
              "color": "white",
              "width": 0.5
             },
             "pattern": {
              "fillmode": "overlay",
              "size": 10,
              "solidity": 0.2
             }
            },
            "type": "barpolar"
           }
          ],
          "carpet": [
           {
            "aaxis": {
             "endlinecolor": "rgb(36,36,36)",
             "gridcolor": "white",
             "linecolor": "white",
             "minorgridcolor": "white",
             "startlinecolor": "rgb(36,36,36)"
            },
            "baxis": {
             "endlinecolor": "rgb(36,36,36)",
             "gridcolor": "white",
             "linecolor": "white",
             "minorgridcolor": "white",
             "startlinecolor": "rgb(36,36,36)"
            },
            "type": "carpet"
           }
          ],
          "choropleth": [
           {
            "colorbar": {
             "outlinewidth": 1,
             "tickcolor": "rgb(36,36,36)",
             "ticks": "outside"
            },
            "type": "choropleth"
           }
          ],
          "contour": [
           {
            "colorbar": {
             "outlinewidth": 1,
             "tickcolor": "rgb(36,36,36)",
             "ticks": "outside"
            },
            "colorscale": [
             [
              0,
              "#440154"
             ],
             [
              0.1111111111111111,
              "#482878"
             ],
             [
              0.2222222222222222,
              "#3e4989"
             ],
             [
              0.3333333333333333,
              "#31688e"
             ],
             [
              0.4444444444444444,
              "#26828e"
             ],
             [
              0.5555555555555556,
              "#1f9e89"
             ],
             [
              0.6666666666666666,
              "#35b779"
             ],
             [
              0.7777777777777778,
              "#6ece58"
             ],
             [
              0.8888888888888888,
              "#b5de2b"
             ],
             [
              1,
              "#fde725"
             ]
            ],
            "type": "contour"
           }
          ],
          "contourcarpet": [
           {
            "colorbar": {
             "outlinewidth": 1,
             "tickcolor": "rgb(36,36,36)",
             "ticks": "outside"
            },
            "type": "contourcarpet"
           }
          ],
          "heatmap": [
           {
            "colorbar": {
             "outlinewidth": 1,
             "tickcolor": "rgb(36,36,36)",
             "ticks": "outside"
            },
            "colorscale": [
             [
              0,
              "#440154"
             ],
             [
              0.1111111111111111,
              "#482878"
             ],
             [
              0.2222222222222222,
              "#3e4989"
             ],
             [
              0.3333333333333333,
              "#31688e"
             ],
             [
              0.4444444444444444,
              "#26828e"
             ],
             [
              0.5555555555555556,
              "#1f9e89"
             ],
             [
              0.6666666666666666,
              "#35b779"
             ],
             [
              0.7777777777777778,
              "#6ece58"
             ],
             [
              0.8888888888888888,
              "#b5de2b"
             ],
             [
              1,
              "#fde725"
             ]
            ],
            "type": "heatmap"
           }
          ],
          "heatmapgl": [
           {
            "colorbar": {
             "outlinewidth": 1,
             "tickcolor": "rgb(36,36,36)",
             "ticks": "outside"
            },
            "colorscale": [
             [
              0,
              "#440154"
             ],
             [
              0.1111111111111111,
              "#482878"
             ],
             [
              0.2222222222222222,
              "#3e4989"
             ],
             [
              0.3333333333333333,
              "#31688e"
             ],
             [
              0.4444444444444444,
              "#26828e"
             ],
             [
              0.5555555555555556,
              "#1f9e89"
             ],
             [
              0.6666666666666666,
              "#35b779"
             ],
             [
              0.7777777777777778,
              "#6ece58"
             ],
             [
              0.8888888888888888,
              "#b5de2b"
             ],
             [
              1,
              "#fde725"
             ]
            ],
            "type": "heatmapgl"
           }
          ],
          "histogram": [
           {
            "marker": {
             "line": {
              "color": "white",
              "width": 0.6
             }
            },
            "type": "histogram"
           }
          ],
          "histogram2d": [
           {
            "colorbar": {
             "outlinewidth": 1,
             "tickcolor": "rgb(36,36,36)",
             "ticks": "outside"
            },
            "colorscale": [
             [
              0,
              "#440154"
             ],
             [
              0.1111111111111111,
              "#482878"
             ],
             [
              0.2222222222222222,
              "#3e4989"
             ],
             [
              0.3333333333333333,
              "#31688e"
             ],
             [
              0.4444444444444444,
              "#26828e"
             ],
             [
              0.5555555555555556,
              "#1f9e89"
             ],
             [
              0.6666666666666666,
              "#35b779"
             ],
             [
              0.7777777777777778,
              "#6ece58"
             ],
             [
              0.8888888888888888,
              "#b5de2b"
             ],
             [
              1,
              "#fde725"
             ]
            ],
            "type": "histogram2d"
           }
          ],
          "histogram2dcontour": [
           {
            "colorbar": {
             "outlinewidth": 1,
             "tickcolor": "rgb(36,36,36)",
             "ticks": "outside"
            },
            "colorscale": [
             [
              0,
              "#440154"
             ],
             [
              0.1111111111111111,
              "#482878"
             ],
             [
              0.2222222222222222,
              "#3e4989"
             ],
             [
              0.3333333333333333,
              "#31688e"
             ],
             [
              0.4444444444444444,
              "#26828e"
             ],
             [
              0.5555555555555556,
              "#1f9e89"
             ],
             [
              0.6666666666666666,
              "#35b779"
             ],
             [
              0.7777777777777778,
              "#6ece58"
             ],
             [
              0.8888888888888888,
              "#b5de2b"
             ],
             [
              1,
              "#fde725"
             ]
            ],
            "type": "histogram2dcontour"
           }
          ],
          "mesh3d": [
           {
            "colorbar": {
             "outlinewidth": 1,
             "tickcolor": "rgb(36,36,36)",
             "ticks": "outside"
            },
            "type": "mesh3d"
           }
          ],
          "parcoords": [
           {
            "line": {
             "colorbar": {
              "outlinewidth": 1,
              "tickcolor": "rgb(36,36,36)",
              "ticks": "outside"
             }
            },
            "type": "parcoords"
           }
          ],
          "pie": [
           {
            "automargin": true,
            "type": "pie"
           }
          ],
          "scatter": [
           {
            "fillpattern": {
             "fillmode": "overlay",
             "size": 10,
             "solidity": 0.2
            },
            "type": "scatter"
           }
          ],
          "scatter3d": [
           {
            "line": {
             "colorbar": {
              "outlinewidth": 1,
              "tickcolor": "rgb(36,36,36)",
              "ticks": "outside"
             }
            },
            "marker": {
             "colorbar": {
              "outlinewidth": 1,
              "tickcolor": "rgb(36,36,36)",
              "ticks": "outside"
             }
            },
            "type": "scatter3d"
           }
          ],
          "scattercarpet": [
           {
            "marker": {
             "colorbar": {
              "outlinewidth": 1,
              "tickcolor": "rgb(36,36,36)",
              "ticks": "outside"
             }
            },
            "type": "scattercarpet"
           }
          ],
          "scattergeo": [
           {
            "marker": {
             "colorbar": {
              "outlinewidth": 1,
              "tickcolor": "rgb(36,36,36)",
              "ticks": "outside"
             }
            },
            "type": "scattergeo"
           }
          ],
          "scattergl": [
           {
            "marker": {
             "colorbar": {
              "outlinewidth": 1,
              "tickcolor": "rgb(36,36,36)",
              "ticks": "outside"
             }
            },
            "type": "scattergl"
           }
          ],
          "scattermapbox": [
           {
            "marker": {
             "colorbar": {
              "outlinewidth": 1,
              "tickcolor": "rgb(36,36,36)",
              "ticks": "outside"
             }
            },
            "type": "scattermapbox"
           }
          ],
          "scatterpolar": [
           {
            "marker": {
             "colorbar": {
              "outlinewidth": 1,
              "tickcolor": "rgb(36,36,36)",
              "ticks": "outside"
             }
            },
            "type": "scatterpolar"
           }
          ],
          "scatterpolargl": [
           {
            "marker": {
             "colorbar": {
              "outlinewidth": 1,
              "tickcolor": "rgb(36,36,36)",
              "ticks": "outside"
             }
            },
            "type": "scatterpolargl"
           }
          ],
          "scatterternary": [
           {
            "marker": {
             "colorbar": {
              "outlinewidth": 1,
              "tickcolor": "rgb(36,36,36)",
              "ticks": "outside"
             }
            },
            "type": "scatterternary"
           }
          ],
          "surface": [
           {
            "colorbar": {
             "outlinewidth": 1,
             "tickcolor": "rgb(36,36,36)",
             "ticks": "outside"
            },
            "colorscale": [
             [
              0,
              "#440154"
             ],
             [
              0.1111111111111111,
              "#482878"
             ],
             [
              0.2222222222222222,
              "#3e4989"
             ],
             [
              0.3333333333333333,
              "#31688e"
             ],
             [
              0.4444444444444444,
              "#26828e"
             ],
             [
              0.5555555555555556,
              "#1f9e89"
             ],
             [
              0.6666666666666666,
              "#35b779"
             ],
             [
              0.7777777777777778,
              "#6ece58"
             ],
             [
              0.8888888888888888,
              "#b5de2b"
             ],
             [
              1,
              "#fde725"
             ]
            ],
            "type": "surface"
           }
          ],
          "table": [
           {
            "cells": {
             "fill": {
              "color": "rgb(237,237,237)"
             },
             "line": {
              "color": "white"
             }
            },
            "header": {
             "fill": {
              "color": "rgb(217,217,217)"
             },
             "line": {
              "color": "white"
             }
            },
            "type": "table"
           }
          ]
         },
         "layout": {
          "annotationdefaults": {
           "arrowhead": 0,
           "arrowwidth": 1
          },
          "autotypenumbers": "strict",
          "coloraxis": {
           "colorbar": {
            "outlinewidth": 1,
            "tickcolor": "rgb(36,36,36)",
            "ticks": "outside"
           }
          },
          "colorscale": {
           "diverging": [
            [
             0,
             "rgb(103,0,31)"
            ],
            [
             0.1,
             "rgb(178,24,43)"
            ],
            [
             0.2,
             "rgb(214,96,77)"
            ],
            [
             0.3,
             "rgb(244,165,130)"
            ],
            [
             0.4,
             "rgb(253,219,199)"
            ],
            [
             0.5,
             "rgb(247,247,247)"
            ],
            [
             0.6,
             "rgb(209,229,240)"
            ],
            [
             0.7,
             "rgb(146,197,222)"
            ],
            [
             0.8,
             "rgb(67,147,195)"
            ],
            [
             0.9,
             "rgb(33,102,172)"
            ],
            [
             1,
             "rgb(5,48,97)"
            ]
           ],
           "sequential": [
            [
             0,
             "#440154"
            ],
            [
             0.1111111111111111,
             "#482878"
            ],
            [
             0.2222222222222222,
             "#3e4989"
            ],
            [
             0.3333333333333333,
             "#31688e"
            ],
            [
             0.4444444444444444,
             "#26828e"
            ],
            [
             0.5555555555555556,
             "#1f9e89"
            ],
            [
             0.6666666666666666,
             "#35b779"
            ],
            [
             0.7777777777777778,
             "#6ece58"
            ],
            [
             0.8888888888888888,
             "#b5de2b"
            ],
            [
             1,
             "#fde725"
            ]
           ],
           "sequentialminus": [
            [
             0,
             "#440154"
            ],
            [
             0.1111111111111111,
             "#482878"
            ],
            [
             0.2222222222222222,
             "#3e4989"
            ],
            [
             0.3333333333333333,
             "#31688e"
            ],
            [
             0.4444444444444444,
             "#26828e"
            ],
            [
             0.5555555555555556,
             "#1f9e89"
            ],
            [
             0.6666666666666666,
             "#35b779"
            ],
            [
             0.7777777777777778,
             "#6ece58"
            ],
            [
             0.8888888888888888,
             "#b5de2b"
            ],
            [
             1,
             "#fde725"
            ]
           ]
          },
          "colorway": [
           "#1F77B4",
           "#FF7F0E",
           "#2CA02C",
           "#D62728",
           "#9467BD",
           "#8C564B",
           "#E377C2",
           "#7F7F7F",
           "#BCBD22",
           "#17BECF"
          ],
          "font": {
           "color": "rgb(36,36,36)"
          },
          "geo": {
           "bgcolor": "white",
           "lakecolor": "white",
           "landcolor": "white",
           "showlakes": true,
           "showland": true,
           "subunitcolor": "white"
          },
          "hoverlabel": {
           "align": "left"
          },
          "hovermode": "closest",
          "mapbox": {
           "style": "light"
          },
          "paper_bgcolor": "white",
          "plot_bgcolor": "white",
          "polar": {
           "angularaxis": {
            "gridcolor": "rgb(232,232,232)",
            "linecolor": "rgb(36,36,36)",
            "showgrid": false,
            "showline": true,
            "ticks": "outside"
           },
           "bgcolor": "white",
           "radialaxis": {
            "gridcolor": "rgb(232,232,232)",
            "linecolor": "rgb(36,36,36)",
            "showgrid": false,
            "showline": true,
            "ticks": "outside"
           }
          },
          "scene": {
           "xaxis": {
            "backgroundcolor": "white",
            "gridcolor": "rgb(232,232,232)",
            "gridwidth": 2,
            "linecolor": "rgb(36,36,36)",
            "showbackground": true,
            "showgrid": false,
            "showline": true,
            "ticks": "outside",
            "zeroline": false,
            "zerolinecolor": "rgb(36,36,36)"
           },
           "yaxis": {
            "backgroundcolor": "white",
            "gridcolor": "rgb(232,232,232)",
            "gridwidth": 2,
            "linecolor": "rgb(36,36,36)",
            "showbackground": true,
            "showgrid": false,
            "showline": true,
            "ticks": "outside",
            "zeroline": false,
            "zerolinecolor": "rgb(36,36,36)"
           },
           "zaxis": {
            "backgroundcolor": "white",
            "gridcolor": "rgb(232,232,232)",
            "gridwidth": 2,
            "linecolor": "rgb(36,36,36)",
            "showbackground": true,
            "showgrid": false,
            "showline": true,
            "ticks": "outside",
            "zeroline": false,
            "zerolinecolor": "rgb(36,36,36)"
           }
          },
          "shapedefaults": {
           "fillcolor": "black",
           "line": {
            "width": 0
           },
           "opacity": 0.3
          },
          "ternary": {
           "aaxis": {
            "gridcolor": "rgb(232,232,232)",
            "linecolor": "rgb(36,36,36)",
            "showgrid": false,
            "showline": true,
            "ticks": "outside"
           },
           "baxis": {
            "gridcolor": "rgb(232,232,232)",
            "linecolor": "rgb(36,36,36)",
            "showgrid": false,
            "showline": true,
            "ticks": "outside"
           },
           "bgcolor": "white",
           "caxis": {
            "gridcolor": "rgb(232,232,232)",
            "linecolor": "rgb(36,36,36)",
            "showgrid": false,
            "showline": true,
            "ticks": "outside"
           }
          },
          "title": {
           "x": 0.05
          },
          "xaxis": {
           "automargin": true,
           "gridcolor": "rgb(232,232,232)",
           "linecolor": "rgb(36,36,36)",
           "showgrid": false,
           "showline": true,
           "ticks": "outside",
           "title": {
            "standoff": 15
           },
           "zeroline": false,
           "zerolinecolor": "rgb(36,36,36)"
          },
          "yaxis": {
           "automargin": true,
           "gridcolor": "rgb(232,232,232)",
           "linecolor": "rgb(36,36,36)",
           "showgrid": false,
           "showline": true,
           "ticks": "outside",
           "title": {
            "standoff": 15
           },
           "zeroline": false,
           "zerolinecolor": "rgb(36,36,36)"
          }
         }
        },
        "title": {
         "text": "Feature extraction with ResNet34"
        },
        "width": 800,
        "xaxis": {
         "anchor": "y",
         "domain": [
          0,
          0.94
         ],
         "title": {
          "text": "Num batches seen"
         }
        },
        "yaxis": {
         "anchor": "x",
         "domain": [
          0,
          1
         ],
         "range": [
          0,
          10.123058891296386
         ],
         "title": {
          "text": "Cross entropy loss"
         }
        },
        "yaxis2": {
         "anchor": "x",
         "overlaying": "y",
         "side": "right",
         "title": {
          "text": "Test accuracy"
         }
        }
       }
      },
      "text/html": [
       "<div>                            <div id=\"8390b208-6cc2-4ff5-80b5-9236618a68d3\" class=\"plotly-graph-div\" style=\"height:500px; width:800px;\"></div>            <script type=\"text/javascript\">                require([\"plotly\"], function(Plotly) {                    window.PLOTLYENV=window.PLOTLYENV || {};                                    if (document.getElementById(\"8390b208-6cc2-4ff5-80b5-9236618a68d3\")) {                    Plotly.newPlot(                        \"8390b208-6cc2-4ff5-80b5-9236618a68d3\",                        [{\"name\":\"Training\",\"x\":[0,1,2,3,4,5,6,7,8,9,10,11,12,13,14,15,16,17,18,19,20,21,22,23,24,25,26,27,28,29,30,31,32,33,34,35,36,37,38,39,40,41,42,43,44,45,46,47,48,49,50,51,52,53,54,55,56,57,58,59,60,61,62,63,64,65,66,67,68,69,70,71,72,73,74,75,76,77,78,79,80,81,82,83,84,85,86,87,88,89,90,91,92,93,94,95,96,97,98,99,100,101,102,103,104,105,106,107,108,109,110,111,112,113,114,115,116,117,118,119,120,121,122,123,124,125,126,127,128,129,130,131,132,133,134,135,136,137,138,139,140,141,142,143,144,145,146,147,148,149,150,151,152,153,154,155,156,157,158,159,160,161,162,163,164,165,166,167,168,169,170,171,172,173,174,175,176,177,178,179,180,181,182,183,184,185,186,187,188,189,190,191,192,193,194,195,196,197,198,199,200,201,202,203,204,205,206,207,208,209,210,211,212,213,214,215,216,217,218,219,220,221,222,223,224,225,226,227,228,229,230,231,232,233,234,235,236],\"y\":[9.36384105682373,9.115400314331055,10.023058891296387,9.25155258178711,8.147018432617188,7.647972583770752,8.560356140136719,7.606387615203857,8.498644828796387,7.713658809661865,7.738393306732178,7.469240665435791,8.031183242797852,7.795596599578857,7.823843479156494,7.0657758712768555,7.78384256362915,7.651947498321533,8.301191329956055,7.786754608154297,5.674587249755859,7.847491264343262,6.714730262756348,7.410268306732178,5.974972248077393,6.86146879196167,5.228188514709473,6.678635597229004,8.088797569274902,6.995107650756836,5.398768901824951,7.137759685516357,7.628276824951172,6.974436283111572,6.662185192108154,6.716599464416504,5.811984539031982,6.136675834655762,6.949337959289551,6.75076961517334,6.881580352783203,6.348575115203857,5.052649021148682,6.536498069763184,5.952410697937012,6.339803695678711,5.762693405151367,5.438649654388428,5.707081317901611,6.647037029266357,5.591720104217529,5.731482028961182,5.080791473388672,6.872480392456055,5.804239749908447,6.646554946899414,6.400995254516602,6.065374851226807,6.117308616638184,6.446744918823242,6.311759948730469,5.96040678024292,5.424786567687988,5.9234724044799805,6.2942609786987305,6.0582451820373535,4.851377964019775,5.991443634033203,6.143500328063965,5.241990089416504,6.4369611740112305,6.14068603515625,5.611822128295898,4.336543560028076,5.184566497802734,5.979702472686768,4.959591865539551,5.237939357757568,4.454868316650391,5.547329902648926,5.550913333892822,4.891861438751221,5.020442962646484,5.880580425262451,4.156497478485107,7.478466510772705,4.920047760009766,4.845212459564209,5.177123069763184,5.618780612945557,6.343896389007568,4.442394256591797,4.44360876083374,4.073650360107422,4.8440842628479,5.765281677246094,4.9337944984436035,5.32993745803833,4.890224933624268,5.3003740310668945,5.096092700958252,5.487530708312988,4.653078079223633,4.848092079162598,4.141289234161377,4.588027477264404,5.083401203155518,4.945516586303711,4.510804176330566,4.204622745513916,4.486517906188965,3.815910816192627,5.1981611251831055,5.129456520080566,4.777604103088379,4.520359516143799,4.839717388153076,4.696889877319336,4.23601770401001,4.167449951171875,4.019570350646973,4.140422821044922,5.0266194343566895,5.35512113571167,3.4161489009857178,3.082246780395508,4.42368221282959,4.098561763763428,5.267207622528076,4.482297420501709,4.989025115966797,3.950394868850708,3.3048086166381836,4.279360771179199,4.802656173706055,4.173186779022217,3.904343605041504,4.996681213378906,4.336016654968262,3.3860414028167725,4.296889305114746,4.405573844909668,4.4149250984191895,3.320713758468628,3.6293787956237793,3.3691000938415527,4.448353290557861,3.9227802753448486,5.065165042877197,4.416001796722412,4.220853328704834,3.9679458141326904,4.609834671020508,4.245631694793701,3.780134677886963,3.636549711227417,3.6967270374298096,4.010727882385254,3.491408109664917,3.475520372390747,4.396067142486572,3.7351884841918945,4.557021141052246,4.222988128662109,3.322495698928833,3.437943696975708,3.4131107330322266,3.224560499191284,4.292227268218994,3.443502426147461,4.891127109527588,3.0945191383361816,3.5808796882629395,3.851165771484375,3.6834418773651123,3.4773976802825928,3.02841854095459,3.855592966079712,3.5901436805725098,3.281580924987793,4.389826774597168,3.5115628242492676,3.4924864768981934,3.986820697784424,3.9886364936828613,4.118113994598389,3.4207215309143066,3.165700674057007,3.100750207901001,3.453709602355957,4.312131404876709,3.429300308227539,3.9456706047058105,2.763519287109375,2.922503709793091,4.091540336608887,3.54367995262146,2.920325517654419,3.432267189025879,3.7932488918304443,3.7008121013641357,2.700009346008301,3.445058822631836,4.683625221252441,3.5195350646972656,3.4116458892822266,2.838437557220459,3.3414723873138428,3.425161123275757,4.10045862197876,3.7571802139282227,3.209507703781128,2.9798598289489746,4.029657363891602,2.9052209854125977,3.1610045433044434,3.32029128074646,4.003923416137695,3.0463290214538574,2.5435402393341064,3.659088611602783,3.0589711666107178,3.057111978530884,2.5699148178100586,2.5476105213165283,3.349184274673462,2.919158458709717,4.259128093719482,3.481764316558838,3.5537848472595215,2.661773681640625,3.8176076412200928,3.3057796955108643,2.716218948364258,3.7941763401031494,3.3417837619781494,2.806540012359619],\"type\":\"scatter\",\"xaxis\":\"x\",\"yaxis\":\"y\"},{\"name\":\"Testing\",\"x\":[79,158,237],\"y\":[21.5,32.7,40.1],\"type\":\"scatter\",\"xaxis\":\"x\",\"yaxis\":\"y2\"}],                        {\"template\":{\"data\":{\"barpolar\":[{\"marker\":{\"line\":{\"color\":\"white\",\"width\":0.5},\"pattern\":{\"fillmode\":\"overlay\",\"size\":10,\"solidity\":0.2}},\"type\":\"barpolar\"}],\"bar\":[{\"error_x\":{\"color\":\"rgb(36,36,36)\"},\"error_y\":{\"color\":\"rgb(36,36,36)\"},\"marker\":{\"line\":{\"color\":\"white\",\"width\":0.5},\"pattern\":{\"fillmode\":\"overlay\",\"size\":10,\"solidity\":0.2}},\"type\":\"bar\"}],\"carpet\":[{\"aaxis\":{\"endlinecolor\":\"rgb(36,36,36)\",\"gridcolor\":\"white\",\"linecolor\":\"white\",\"minorgridcolor\":\"white\",\"startlinecolor\":\"rgb(36,36,36)\"},\"baxis\":{\"endlinecolor\":\"rgb(36,36,36)\",\"gridcolor\":\"white\",\"linecolor\":\"white\",\"minorgridcolor\":\"white\",\"startlinecolor\":\"rgb(36,36,36)\"},\"type\":\"carpet\"}],\"choropleth\":[{\"colorbar\":{\"outlinewidth\":1,\"tickcolor\":\"rgb(36,36,36)\",\"ticks\":\"outside\"},\"type\":\"choropleth\"}],\"contourcarpet\":[{\"colorbar\":{\"outlinewidth\":1,\"tickcolor\":\"rgb(36,36,36)\",\"ticks\":\"outside\"},\"type\":\"contourcarpet\"}],\"contour\":[{\"colorbar\":{\"outlinewidth\":1,\"tickcolor\":\"rgb(36,36,36)\",\"ticks\":\"outside\"},\"colorscale\":[[0.0,\"#440154\"],[0.1111111111111111,\"#482878\"],[0.2222222222222222,\"#3e4989\"],[0.3333333333333333,\"#31688e\"],[0.4444444444444444,\"#26828e\"],[0.5555555555555556,\"#1f9e89\"],[0.6666666666666666,\"#35b779\"],[0.7777777777777778,\"#6ece58\"],[0.8888888888888888,\"#b5de2b\"],[1.0,\"#fde725\"]],\"type\":\"contour\"}],\"heatmapgl\":[{\"colorbar\":{\"outlinewidth\":1,\"tickcolor\":\"rgb(36,36,36)\",\"ticks\":\"outside\"},\"colorscale\":[[0.0,\"#440154\"],[0.1111111111111111,\"#482878\"],[0.2222222222222222,\"#3e4989\"],[0.3333333333333333,\"#31688e\"],[0.4444444444444444,\"#26828e\"],[0.5555555555555556,\"#1f9e89\"],[0.6666666666666666,\"#35b779\"],[0.7777777777777778,\"#6ece58\"],[0.8888888888888888,\"#b5de2b\"],[1.0,\"#fde725\"]],\"type\":\"heatmapgl\"}],\"heatmap\":[{\"colorbar\":{\"outlinewidth\":1,\"tickcolor\":\"rgb(36,36,36)\",\"ticks\":\"outside\"},\"colorscale\":[[0.0,\"#440154\"],[0.1111111111111111,\"#482878\"],[0.2222222222222222,\"#3e4989\"],[0.3333333333333333,\"#31688e\"],[0.4444444444444444,\"#26828e\"],[0.5555555555555556,\"#1f9e89\"],[0.6666666666666666,\"#35b779\"],[0.7777777777777778,\"#6ece58\"],[0.8888888888888888,\"#b5de2b\"],[1.0,\"#fde725\"]],\"type\":\"heatmap\"}],\"histogram2dcontour\":[{\"colorbar\":{\"outlinewidth\":1,\"tickcolor\":\"rgb(36,36,36)\",\"ticks\":\"outside\"},\"colorscale\":[[0.0,\"#440154\"],[0.1111111111111111,\"#482878\"],[0.2222222222222222,\"#3e4989\"],[0.3333333333333333,\"#31688e\"],[0.4444444444444444,\"#26828e\"],[0.5555555555555556,\"#1f9e89\"],[0.6666666666666666,\"#35b779\"],[0.7777777777777778,\"#6ece58\"],[0.8888888888888888,\"#b5de2b\"],[1.0,\"#fde725\"]],\"type\":\"histogram2dcontour\"}],\"histogram2d\":[{\"colorbar\":{\"outlinewidth\":1,\"tickcolor\":\"rgb(36,36,36)\",\"ticks\":\"outside\"},\"colorscale\":[[0.0,\"#440154\"],[0.1111111111111111,\"#482878\"],[0.2222222222222222,\"#3e4989\"],[0.3333333333333333,\"#31688e\"],[0.4444444444444444,\"#26828e\"],[0.5555555555555556,\"#1f9e89\"],[0.6666666666666666,\"#35b779\"],[0.7777777777777778,\"#6ece58\"],[0.8888888888888888,\"#b5de2b\"],[1.0,\"#fde725\"]],\"type\":\"histogram2d\"}],\"histogram\":[{\"marker\":{\"line\":{\"color\":\"white\",\"width\":0.6}},\"type\":\"histogram\"}],\"mesh3d\":[{\"colorbar\":{\"outlinewidth\":1,\"tickcolor\":\"rgb(36,36,36)\",\"ticks\":\"outside\"},\"type\":\"mesh3d\"}],\"parcoords\":[{\"line\":{\"colorbar\":{\"outlinewidth\":1,\"tickcolor\":\"rgb(36,36,36)\",\"ticks\":\"outside\"}},\"type\":\"parcoords\"}],\"pie\":[{\"automargin\":true,\"type\":\"pie\"}],\"scatter3d\":[{\"line\":{\"colorbar\":{\"outlinewidth\":1,\"tickcolor\":\"rgb(36,36,36)\",\"ticks\":\"outside\"}},\"marker\":{\"colorbar\":{\"outlinewidth\":1,\"tickcolor\":\"rgb(36,36,36)\",\"ticks\":\"outside\"}},\"type\":\"scatter3d\"}],\"scattercarpet\":[{\"marker\":{\"colorbar\":{\"outlinewidth\":1,\"tickcolor\":\"rgb(36,36,36)\",\"ticks\":\"outside\"}},\"type\":\"scattercarpet\"}],\"scattergeo\":[{\"marker\":{\"colorbar\":{\"outlinewidth\":1,\"tickcolor\":\"rgb(36,36,36)\",\"ticks\":\"outside\"}},\"type\":\"scattergeo\"}],\"scattergl\":[{\"marker\":{\"colorbar\":{\"outlinewidth\":1,\"tickcolor\":\"rgb(36,36,36)\",\"ticks\":\"outside\"}},\"type\":\"scattergl\"}],\"scattermapbox\":[{\"marker\":{\"colorbar\":{\"outlinewidth\":1,\"tickcolor\":\"rgb(36,36,36)\",\"ticks\":\"outside\"}},\"type\":\"scattermapbox\"}],\"scatterpolargl\":[{\"marker\":{\"colorbar\":{\"outlinewidth\":1,\"tickcolor\":\"rgb(36,36,36)\",\"ticks\":\"outside\"}},\"type\":\"scatterpolargl\"}],\"scatterpolar\":[{\"marker\":{\"colorbar\":{\"outlinewidth\":1,\"tickcolor\":\"rgb(36,36,36)\",\"ticks\":\"outside\"}},\"type\":\"scatterpolar\"}],\"scatter\":[{\"fillpattern\":{\"fillmode\":\"overlay\",\"size\":10,\"solidity\":0.2},\"type\":\"scatter\"}],\"scatterternary\":[{\"marker\":{\"colorbar\":{\"outlinewidth\":1,\"tickcolor\":\"rgb(36,36,36)\",\"ticks\":\"outside\"}},\"type\":\"scatterternary\"}],\"surface\":[{\"colorbar\":{\"outlinewidth\":1,\"tickcolor\":\"rgb(36,36,36)\",\"ticks\":\"outside\"},\"colorscale\":[[0.0,\"#440154\"],[0.1111111111111111,\"#482878\"],[0.2222222222222222,\"#3e4989\"],[0.3333333333333333,\"#31688e\"],[0.4444444444444444,\"#26828e\"],[0.5555555555555556,\"#1f9e89\"],[0.6666666666666666,\"#35b779\"],[0.7777777777777778,\"#6ece58\"],[0.8888888888888888,\"#b5de2b\"],[1.0,\"#fde725\"]],\"type\":\"surface\"}],\"table\":[{\"cells\":{\"fill\":{\"color\":\"rgb(237,237,237)\"},\"line\":{\"color\":\"white\"}},\"header\":{\"fill\":{\"color\":\"rgb(217,217,217)\"},\"line\":{\"color\":\"white\"}},\"type\":\"table\"}]},\"layout\":{\"annotationdefaults\":{\"arrowhead\":0,\"arrowwidth\":1},\"autotypenumbers\":\"strict\",\"coloraxis\":{\"colorbar\":{\"outlinewidth\":1,\"tickcolor\":\"rgb(36,36,36)\",\"ticks\":\"outside\"}},\"colorscale\":{\"diverging\":[[0.0,\"rgb(103,0,31)\"],[0.1,\"rgb(178,24,43)\"],[0.2,\"rgb(214,96,77)\"],[0.3,\"rgb(244,165,130)\"],[0.4,\"rgb(253,219,199)\"],[0.5,\"rgb(247,247,247)\"],[0.6,\"rgb(209,229,240)\"],[0.7,\"rgb(146,197,222)\"],[0.8,\"rgb(67,147,195)\"],[0.9,\"rgb(33,102,172)\"],[1.0,\"rgb(5,48,97)\"]],\"sequential\":[[0.0,\"#440154\"],[0.1111111111111111,\"#482878\"],[0.2222222222222222,\"#3e4989\"],[0.3333333333333333,\"#31688e\"],[0.4444444444444444,\"#26828e\"],[0.5555555555555556,\"#1f9e89\"],[0.6666666666666666,\"#35b779\"],[0.7777777777777778,\"#6ece58\"],[0.8888888888888888,\"#b5de2b\"],[1.0,\"#fde725\"]],\"sequentialminus\":[[0.0,\"#440154\"],[0.1111111111111111,\"#482878\"],[0.2222222222222222,\"#3e4989\"],[0.3333333333333333,\"#31688e\"],[0.4444444444444444,\"#26828e\"],[0.5555555555555556,\"#1f9e89\"],[0.6666666666666666,\"#35b779\"],[0.7777777777777778,\"#6ece58\"],[0.8888888888888888,\"#b5de2b\"],[1.0,\"#fde725\"]]},\"colorway\":[\"#1F77B4\",\"#FF7F0E\",\"#2CA02C\",\"#D62728\",\"#9467BD\",\"#8C564B\",\"#E377C2\",\"#7F7F7F\",\"#BCBD22\",\"#17BECF\"],\"font\":{\"color\":\"rgb(36,36,36)\"},\"geo\":{\"bgcolor\":\"white\",\"lakecolor\":\"white\",\"landcolor\":\"white\",\"showlakes\":true,\"showland\":true,\"subunitcolor\":\"white\"},\"hoverlabel\":{\"align\":\"left\"},\"hovermode\":\"closest\",\"mapbox\":{\"style\":\"light\"},\"paper_bgcolor\":\"white\",\"plot_bgcolor\":\"white\",\"polar\":{\"angularaxis\":{\"gridcolor\":\"rgb(232,232,232)\",\"linecolor\":\"rgb(36,36,36)\",\"showgrid\":false,\"showline\":true,\"ticks\":\"outside\"},\"bgcolor\":\"white\",\"radialaxis\":{\"gridcolor\":\"rgb(232,232,232)\",\"linecolor\":\"rgb(36,36,36)\",\"showgrid\":false,\"showline\":true,\"ticks\":\"outside\"}},\"scene\":{\"xaxis\":{\"backgroundcolor\":\"white\",\"gridcolor\":\"rgb(232,232,232)\",\"gridwidth\":2,\"linecolor\":\"rgb(36,36,36)\",\"showbackground\":true,\"showgrid\":false,\"showline\":true,\"ticks\":\"outside\",\"zeroline\":false,\"zerolinecolor\":\"rgb(36,36,36)\"},\"yaxis\":{\"backgroundcolor\":\"white\",\"gridcolor\":\"rgb(232,232,232)\",\"gridwidth\":2,\"linecolor\":\"rgb(36,36,36)\",\"showbackground\":true,\"showgrid\":false,\"showline\":true,\"ticks\":\"outside\",\"zeroline\":false,\"zerolinecolor\":\"rgb(36,36,36)\"},\"zaxis\":{\"backgroundcolor\":\"white\",\"gridcolor\":\"rgb(232,232,232)\",\"gridwidth\":2,\"linecolor\":\"rgb(36,36,36)\",\"showbackground\":true,\"showgrid\":false,\"showline\":true,\"ticks\":\"outside\",\"zeroline\":false,\"zerolinecolor\":\"rgb(36,36,36)\"}},\"shapedefaults\":{\"fillcolor\":\"black\",\"line\":{\"width\":0},\"opacity\":0.3},\"ternary\":{\"aaxis\":{\"gridcolor\":\"rgb(232,232,232)\",\"linecolor\":\"rgb(36,36,36)\",\"showgrid\":false,\"showline\":true,\"ticks\":\"outside\"},\"baxis\":{\"gridcolor\":\"rgb(232,232,232)\",\"linecolor\":\"rgb(36,36,36)\",\"showgrid\":false,\"showline\":true,\"ticks\":\"outside\"},\"bgcolor\":\"white\",\"caxis\":{\"gridcolor\":\"rgb(232,232,232)\",\"linecolor\":\"rgb(36,36,36)\",\"showgrid\":false,\"showline\":true,\"ticks\":\"outside\"}},\"title\":{\"x\":0.05},\"xaxis\":{\"automargin\":true,\"gridcolor\":\"rgb(232,232,232)\",\"linecolor\":\"rgb(36,36,36)\",\"showgrid\":false,\"showline\":true,\"ticks\":\"outside\",\"title\":{\"standoff\":15},\"zeroline\":false,\"zerolinecolor\":\"rgb(36,36,36)\"},\"yaxis\":{\"automargin\":true,\"gridcolor\":\"rgb(232,232,232)\",\"linecolor\":\"rgb(36,36,36)\",\"showgrid\":false,\"showline\":true,\"ticks\":\"outside\",\"title\":{\"standoff\":15},\"zeroline\":false,\"zerolinecolor\":\"rgb(36,36,36)\"}}},\"xaxis\":{\"anchor\":\"y\",\"domain\":[0.0,0.94],\"title\":{\"text\":\"Num batches seen\"}},\"yaxis\":{\"anchor\":\"x\",\"domain\":[0.0,1.0],\"title\":{\"text\":\"Cross entropy loss\"},\"range\":[0,10.123058891296386]},\"yaxis2\":{\"anchor\":\"x\",\"overlaying\":\"y\",\"side\":\"right\",\"title\":{\"text\":\"Test accuracy\"}},\"hovermode\":\"x unified\",\"title\":{\"text\":\"Feature extraction with ResNet34\"},\"width\":800,\"height\":500},                        {\"responsive\": true}                    ).then(function(){\n",
       "                            \n",
       "var gd = document.getElementById('8390b208-6cc2-4ff5-80b5-9236618a68d3');\n",
       "var x = new MutationObserver(function (mutations, observer) {{\n",
       "        var display = window.getComputedStyle(gd).display;\n",
       "        if (!display || display === 'none') {{\n",
       "            console.log([gd, 'removed!']);\n",
       "            Plotly.purge(gd);\n",
       "            observer.disconnect();\n",
       "        }}\n",
       "}});\n",
       "\n",
       "// Listen for the removal of the full notebook cells\n",
       "var notebookContainer = gd.closest('#notebook-container');\n",
       "if (notebookContainer) {{\n",
       "    x.observe(notebookContainer, {childList: true});\n",
       "}}\n",
       "\n",
       "// Listen for the clearing of the current output cell\n",
       "var outputEl = gd.closest('.output');\n",
       "if (outputEl) {{\n",
       "    x.observe(outputEl, {childList: true});\n",
       "}}\n",
       "\n",
       "                        })                };                });            </script>        </div>"
      ]
     },
     "metadata": {},
     "output_type": "display_data"
    }
   ],
   "source": [
    "plot_train_loss_and_test_accuracy_from_trainer(\n",
    "    trainer, title=\"Feature extraction with ResNet34\"\n",
    ")"
   ]
  },
  {
   "cell_type": "markdown",
   "metadata": {
    "id": "c4kj-fsTCgaJ"
   },
   "source": [
    "<details>\n",
    "<summary>Spoilers - what kind of results should you get?</summary>\n",
    "\n",
    "If you train the whole model rather than just the final layer, you should find accuracy increases very slowly, not getting very far above random chance. This reflects the fact that the model is trying to learn a new task (classifying images into 10 classes) from scratch, rather than just learning to extract features from images, and this takes a long time!\n",
    "\n",
    "If you train just the final layer, your accuracy should reach around 70-80% by the first epoch. This is because the model is already very good at extracting features from images, and it just needs to learn how to turn these features into predictions for this new set of classes.\n",
    "\n",
    "</details>\n"
   ]
  }
 ],
 "metadata": {
  "colab": {
   "collapsed_sections": [
    "jd3LpCav3UXu",
    "cmgIafL_7EUG",
    "59YGDI3p7FdX",
    "DiUVKtaD7HuH",
    "a9NImreY7IZb",
    "s14T6NUJ7Ivu",
    "eXGCrNHa7ek0"
   ],
   "provenance": []
  },
  "kernelspec": {
   "display_name": "interp",
   "language": "python",
   "name": "python3"
  },
  "language_info": {
   "codemirror_mode": {
    "name": "ipython",
    "version": 3
   },
   "file_extension": ".py",
   "mimetype": "text/x-python",
   "name": "python",
   "nbconvert_exporter": "python",
   "pygments_lexer": "ipython3",
   "version": "3.10.15"
  }
 },
 "nbformat": 4,
 "nbformat_minor": 0
}

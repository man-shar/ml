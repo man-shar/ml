{
 "cells": [
  {
   "cell_type": "code",
   "execution_count": 54,
   "metadata": {},
   "outputs": [],
   "source": [
    "from io import StringIO\n",
    "import pandas as pd\n",
    "import torch as t\n",
    "\n",
    "days = t.arange(1, 31)\n",
    "months = t.arange(1, 13)\n",
    "\n",
    "days, months = t.meshgrid(days, months)\n",
    "\n",
    "dayvmonth = t.stack((days, months), dim=-1).transpose(0, 1).flatten(0, 1)\n",
    "\n",
    "# add a random temperature and humidity value\n",
    "temps = t.randint(100, (dayvmonth.shape[0], 1), dtype=t.float32)\n",
    "humidities = t.randint(50, (dayvmonth.shape[0], 1), dtype=t.float32)\n",
    "\n",
    "dayvmonth = t.cat((dayvmonth, temps, humidities), dim=-1)\n",
    "\n",
    "csv = \"day,month,temperature,humidity\\n\"\n",
    "for day, month, temp, hum in dayvmonth:\n",
    "    csv += f\"{int(day.item())},{int(month.item())},{temp.item()},{hum.item()}\\n\"\n",
    "\n",
    "pd.read_csv(StringIO(csv)).to_csv(\"./temps_hums_by_day_by_month.csv\", index=False)"
   ]
  },
  {
   "cell_type": "code",
   "execution_count": 1,
   "metadata": {},
   "outputs": [
    {
     "data": {
      "application/vnd.jupyter.widget-view+json": {
       "model_id": "c10ea7f1bf714c1b8734e40dc1e812db",
       "version_major": 2,
       "version_minor": 0
      },
      "text/plain": [
       "tokenizer_config.json:   0%|          | 0.00/870 [00:00<?, ?B/s]"
      ]
     },
     "metadata": {},
     "output_type": "display_data"
    },
    {
     "data": {
      "application/vnd.jupyter.widget-view+json": {
       "model_id": "e89b57874b2f41f5b48532783419caf1",
       "version_major": 2,
       "version_minor": 0
      },
      "text/plain": [
       "vocab.json:   0%|          | 0.00/999k [00:00<?, ?B/s]"
      ]
     },
     "metadata": {},
     "output_type": "display_data"
    },
    {
     "data": {
      "application/vnd.jupyter.widget-view+json": {
       "model_id": "22cb445554b24072a287edada9021f52",
       "version_major": 2,
       "version_minor": 0
      },
      "text/plain": [
       "merges.txt:   0%|          | 0.00/456k [00:00<?, ?B/s]"
      ]
     },
     "metadata": {},
     "output_type": "display_data"
    },
    {
     "data": {
      "application/vnd.jupyter.widget-view+json": {
       "model_id": "2ed4905f0c714ec8984cfc75a2961486",
       "version_major": 2,
       "version_minor": 0
      },
      "text/plain": [
       "added_tokens.json:   0%|          | 0.00/82.0 [00:00<?, ?B/s]"
      ]
     },
     "metadata": {},
     "output_type": "display_data"
    },
    {
     "data": {
      "application/vnd.jupyter.widget-view+json": {
       "model_id": "9f393c02eb63411d8664d63bed7f13a3",
       "version_major": 2,
       "version_minor": 0
      },
      "text/plain": [
       "special_tokens_map.json:   0%|          | 0.00/548 [00:00<?, ?B/s]"
      ]
     },
     "metadata": {},
     "output_type": "display_data"
    },
    {
     "data": {
      "application/vnd.jupyter.widget-view+json": {
       "model_id": "6e5138833992414c8990880493dbd990",
       "version_major": 2,
       "version_minor": 0
      },
      "text/plain": [
       "config.json:   0%|          | 0.00/1.11k [00:00<?, ?B/s]"
      ]
     },
     "metadata": {},
     "output_type": "display_data"
    },
    {
     "data": {
      "application/vnd.jupyter.widget-view+json": {
       "model_id": "fb3e892048c64be38f1e27cea807e162",
       "version_major": 2,
       "version_minor": 0
      },
      "text/plain": [
       "modeling_OneChart.py:   0%|          | 0.00/21.0k [00:00<?, ?B/s]"
      ]
     },
     "metadata": {},
     "output_type": "display_data"
    },
    {
     "data": {
      "application/vnd.jupyter.widget-view+json": {
       "model_id": "691fc6309194433888181a3b6b9a2139",
       "version_major": 2,
       "version_minor": 0
      },
      "text/plain": [
       "sam_vision_b.py:   0%|          | 0.00/16.1k [00:00<?, ?B/s]"
      ]
     },
     "metadata": {},
     "output_type": "display_data"
    },
    {
     "name": "stderr",
     "output_type": "stream",
     "text": [
      "A new version of the following files was downloaded from https://huggingface.co/kppkkp/OneChart:\n",
      "- sam_vision_b.py\n",
      ". Make sure to double-check they do not contain any added malicious code. To avoid downloading new versions of the code file, you can pin a revision.\n",
      "A new version of the following files was downloaded from https://huggingface.co/kppkkp/OneChart:\n",
      "- modeling_OneChart.py\n",
      "- sam_vision_b.py\n",
      ". Make sure to double-check they do not contain any added malicious code. To avoid downloading new versions of the code file, you can pin a revision.\n"
     ]
    },
    {
     "data": {
      "application/vnd.jupyter.widget-view+json": {
       "model_id": "60ab93db062b4555870dd74f21631db4",
       "version_major": 2,
       "version_minor": 0
      },
      "text/plain": [
       "pytorch_model.bin:   0%|          | 0.00/525M [00:00<?, ?B/s]"
      ]
     },
     "metadata": {},
     "output_type": "display_data"
    },
    {
     "data": {
      "application/vnd.jupyter.widget-view+json": {
       "model_id": "ade310ca15064606ac09ad6b3e38a2cb",
       "version_major": 2,
       "version_minor": 0
      },
      "text/plain": [
       "generation_config.json:   0%|          | 0.00/132 [00:00<?, ?B/s]"
      ]
     },
     "metadata": {},
     "output_type": "display_data"
    }
   ],
   "source": [
    "from transformers import AutoModel, AutoTokenizer\n",
    "\n",
    "tokenizer = AutoTokenizer.from_pretrained('kppkkp/OneChart', trust_remote_code=True, use_fast=False, padding_side=\"right\")\n",
    "model = AutoModel.from_pretrained('kppkkp/OneChart', trust_remote_code=True, low_cpu_mem_usage=True, device_map='cuda')\n",
    "model = model.eval().cuda()\n"
   ]
  },
  {
   "cell_type": "code",
   "execution_count": 5,
   "metadata": {},
   "outputs": [],
   "source": [
    "# # input your test image\n",
    "# image_file = './climate-action.png'\n",
    "# res = model.chat(tokenizer, image_file, reliable_check=False)\n",
    "# print(res)"
   ]
  },
  {
   "cell_type": "code",
   "execution_count": 3,
   "metadata": {},
   "outputs": [
    {
     "data": {
      "text/plain": [
       "0.9378316692396778"
      ]
     },
     "execution_count": 3,
     "metadata": {},
     "output_type": "execute_result"
    }
   ],
   "source": [
    "import numpy as np\n",
    "np.random.rand()"
   ]
  },
  {
   "cell_type": "code",
   "execution_count": null,
   "metadata": {},
   "outputs": [
    {
     "name": "stdout",
     "output_type": "stream",
     "text": [
      "MLP([3, 3, 5, 3, 6])\n"
     ]
    },
    {
     "data": {
      "image/png": "[encoded data removed]",
      "text/plain": [
       "<Figure size 640x480 with 1 Axes>"
      ]
     },
     "metadata": {},
     "output_type": "display_data"
    },
    {
     "data": {
      "text/plain": []
     },
     "execution_count": 66,
     "metadata": {},
     "output_type": "execute_result"
    }
   ],
   "source": [
    "from typing import Literal\n",
    "import numpy as np\n",
    "import torch as t\n",
    "import matplotlib.pyplot as plt\n",
    "\n",
    "# simple mlp\n",
    "w = np.random.rand()\n",
    "b = np.random.rand()\n",
    "\n",
    "\n",
    "\n",
    "inp = 1\n",
    "label = 1\n",
    "\n",
    "data = [[inp, label]]\n",
    "\n",
    "iters = 400\n",
    "\n",
    "z = lambda x: w * x + b\n",
    "sigmoid = lambda x: 1 / (1 + np.exp(-x))\n",
    "sigmoid_deriviative = lambda x: np.exp(-x) / (1 + np.exp(-x)) ** 2\n",
    "\n",
    "# a is activation aka running input through z+sigmoid above = sigmoid(z(input))\n",
    "simple_cost = lambda a, y: y - a\n",
    "quad_cost = lambda a, y: (y - a) ** 2 / 2\n",
    "ce_cost = lambda a, y: y * np.log(a) + (1 - y) * np.log(1 - a)\n",
    "cost_fn_mapping = {\n",
    "    \"simple\": simple_cost,\n",
    "    \"quad\": quad_cost,\n",
    "    \"ce\": ce_cost\n",
    "}\n",
    "\n",
    "class MLP:\n",
    "    def __init__(self, layers, data = [], cost_fn: Literal[\"simple\", \"quad\", \"ce\"] = \"simple\", iters = 500):\n",
    "        self.data = data\n",
    "        self.cost_fn = cost_fn_mapping[cost_fn]\n",
    "        self.layers = layers\n",
    "\n",
    "        # assume that the first layer is the input\n",
    "        self.biases = [np.random.randn(n, 1) for n in layers[1:]]\n",
    "        self.weights = [np.random.randn(this_n, prev_layer_n) for prev_layer_n, this_n in zip(layers[:-1], layers[1:])]\n",
    "\n",
    "        self.iters = iters\n",
    "\n",
    "    def forward(self, x):\n",
    "        # take an input and pass it through the layers\n",
    "        pass\n",
    "\n",
    "    def backward(self):\n",
    "        pass\n",
    "\n",
    "    def draw(self):\n",
    "        fig, ax = plt.subplots()\n",
    "        layer_sizes = self.layers\n",
    "\n",
    "        # Calculate the positions of the neurons in each layer\n",
    "        v_spacing = 1.0 / float(max(layer_sizes) + 1)\n",
    "        h_spacing = 1.0 / float(len(layer_sizes))\n",
    "\n",
    "        # Nodes\n",
    "        for n, layer_size in enumerate(layer_sizes):\n",
    "            layer_top = v_spacing * (layer_size - 1) / 2.0\n",
    "            for m in range(layer_size):\n",
    "                circle = plt.Circle((n * h_spacing, layer_top - m * v_spacing), v_spacing / 4.0, color='w', ec='k', zorder=4)\n",
    "                ax.add_artist(circle)\n",
    "                # Annotate the neurons with their indices\n",
    "                ax.annotate(f'{n},{m}', (n * h_spacing, layer_top - m * v_spacing), textcoords=\"offset points\", xytext=(0,10), ha='center')\n",
    "\n",
    "        # Edges\n",
    "        for n, (layer_size_a, layer_size_b) in enumerate(zip(layer_sizes[:-1], layer_sizes[1:])):\n",
    "            layer_top_a = v_spacing * (layer_size_a - 1) / 2.0\n",
    "            layer_top_b = v_spacing * (layer_size_b - 1) / 2.0\n",
    "            for m in range(layer_size_a):\n",
    "                for o in range(layer_size_b):\n",
    "                    line = plt.Line2D([n * h_spacing, (n + 1) * h_spacing],\n",
    "                                        [layer_top_a - m * v_spacing, layer_top_b - o * v_spacing], c='k', lw=0.5)\n",
    "                    ax.add_artist(line)\n",
    "\n",
    "        ax.set_aspect('equal')\n",
    "        ax.axis('off')\n",
    "        ax.set_xlim(-0.2, 1.1)\n",
    "        ax.set_ylim(-0.5, 0.5)\n",
    "        plt.show()\n",
    "\n",
    "\n",
    "    def run(self):\n",
    "        for i in range(self.iters):\n",
    "            losses = []\n",
    "            # pass all the data through the model one by one (issok no batching rn)\n",
    "            for inp, label in data:\n",
    "                out = self.forward(inp)\n",
    "                # convert this output into a cost\n",
    "                loss = self.cost_fn(out)\n",
    "                losses.append(loss)\n",
    "\n",
    "    def __repr__(self):\n",
    "        print(f\"MLP({self.layers})\")\n",
    "        self.draw()\n",
    "        return \"\"\n",
    "\n",
    "net = MLP([3, 3, 5, 3, 6])\n",
    "net"
   ]
  },
  {
   "cell_type": "code",
   "execution_count": null,
   "metadata": {},
   "outputs": [],
   "source": []
  }
 ],
 "metadata": {
  "kernelspec": {
   "display_name": "interp",
   "language": "python",
   "name": "python3"
  },
  "language_info": {
   "codemirror_mode": {
    "name": "ipython",
    "version": 3
   },
   "file_extension": ".py",
   "mimetype": "text/x-python",
   "name": "python",
   "nbconvert_exporter": "python",
   "pygments_lexer": "ipython3",
   "version": "3.10.15"
  }
 },
 "nbformat": 4,
 "nbformat_minor": 2
}
